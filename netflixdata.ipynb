{
 "cells": [
  {
   "cell_type": "code",
   "execution_count": 1,
   "id": "1be520b1",
   "metadata": {
    "_cell_guid": "b1076dfc-b9ad-4769-8c92-a6c4dae69d19",
    "_uuid": "8f2839f25d086af736a60e9eeb907d3b93b6e0e5",
    "execution": {
     "iopub.execute_input": "2022-09-21T07:03:19.147292Z",
     "iopub.status.busy": "2022-09-21T07:03:19.146650Z",
     "iopub.status.idle": "2022-09-21T07:03:20.390179Z",
     "shell.execute_reply": "2022-09-21T07:03:20.388910Z"
    },
    "papermill": {
     "duration": 1.254742,
     "end_time": "2022-09-21T07:03:20.393357",
     "exception": false,
     "start_time": "2022-09-21T07:03:19.138615",
     "status": "completed"
    },
    "tags": []
   },
   "outputs": [
    {
     "name": "stdout",
     "output_type": "stream",
     "text": [
      "/kaggle/input/netflix-shows/netflix_titles.csv\n"
     ]
    }
   ],
   "source": [
    "# This Python 3 environment comes with many helpful analytics libraries installed\n",
    "# It is defined by the kaggle/python Docker image: https://github.com/kaggle/docker-python\n",
    "# For example, here's several helpful packages to load\n",
    "\n",
    "import numpy as np # linear algebra\n",
    "import pandas as pd # data processing, CSV file I/O (e.g. pd.read_csv)\n",
    "import matplotlib.pyplot as plt\n",
    "import seaborn \n",
    "\n",
    "# Input data files are available in the read-only \"../input/\" directory\n",
    "# For example, running this (by clicking run or pressing Shift+Enter) will list all files under the input directory\n",
    "\n",
    "import os\n",
    "for dirname, _, filenames in os.walk('/kaggle/input'):\n",
    "    for filename in filenames:\n",
    "        print(os.path.join(dirname, filename))\n",
    "\n",
    "# You can write up to 20GB to the current directory (/kaggle/working/) that gets preserved as output when you create a version using \"Save & Run All\" \n",
    "# You can also write temporary files to /kaggle/temp/, but they won't be saved outside of the current session"
   ]
  },
  {
   "cell_type": "code",
   "execution_count": 2,
   "id": "09f576da",
   "metadata": {
    "execution": {
     "iopub.execute_input": "2022-09-21T07:03:20.405573Z",
     "iopub.status.busy": "2022-09-21T07:03:20.405154Z",
     "iopub.status.idle": "2022-09-21T07:03:20.539796Z",
     "shell.execute_reply": "2022-09-21T07:03:20.538828Z"
    },
    "papermill": {
     "duration": 0.144134,
     "end_time": "2022-09-21T07:03:20.542614",
     "exception": false,
     "start_time": "2022-09-21T07:03:20.398480",
     "status": "completed"
    },
    "tags": []
   },
   "outputs": [],
   "source": [
    "my_data = pd.read_csv('../input/netflix-shows/netflix_titles.csv')\n",
    "dt = my_data"
   ]
  },
  {
   "cell_type": "code",
   "execution_count": 3,
   "id": "a671ff34",
   "metadata": {
    "execution": {
     "iopub.execute_input": "2022-09-21T07:03:20.554168Z",
     "iopub.status.busy": "2022-09-21T07:03:20.553712Z",
     "iopub.status.idle": "2022-09-21T07:03:20.575635Z",
     "shell.execute_reply": "2022-09-21T07:03:20.574471Z"
    },
    "papermill": {
     "duration": 0.03071,
     "end_time": "2022-09-21T07:03:20.578209",
     "exception": false,
     "start_time": "2022-09-21T07:03:20.547499",
     "status": "completed"
    },
    "tags": []
   },
   "outputs": [
    {
     "data": {
      "text/plain": [
       "show_id            0\n",
       "type               0\n",
       "title              0\n",
       "director        2634\n",
       "cast             825\n",
       "country          831\n",
       "date_added        10\n",
       "release_year       0\n",
       "rating             4\n",
       "duration           3\n",
       "listed_in          0\n",
       "description        0\n",
       "dtype: int64"
      ]
     },
     "execution_count": 3,
     "metadata": {},
     "output_type": "execute_result"
    }
   ],
   "source": [
    "dt.isnull().sum()"
   ]
  },
  {
   "cell_type": "code",
   "execution_count": 4,
   "id": "c22fa876",
   "metadata": {
    "execution": {
     "iopub.execute_input": "2022-09-21T07:03:20.590247Z",
     "iopub.status.busy": "2022-09-21T07:03:20.589799Z",
     "iopub.status.idle": "2022-09-21T07:03:20.599966Z",
     "shell.execute_reply": "2022-09-21T07:03:20.598745Z"
    },
    "papermill": {
     "duration": 0.019437,
     "end_time": "2022-09-21T07:03:20.602703",
     "exception": false,
     "start_time": "2022-09-21T07:03:20.583266",
     "status": "completed"
    },
    "tags": []
   },
   "outputs": [
    {
     "data": {
      "text/plain": [
       "show_id         object\n",
       "type            object\n",
       "title           object\n",
       "director        object\n",
       "cast            object\n",
       "country         object\n",
       "date_added      object\n",
       "release_year     int64\n",
       "rating          object\n",
       "duration        object\n",
       "listed_in       object\n",
       "description     object\n",
       "dtype: object"
      ]
     },
     "execution_count": 4,
     "metadata": {},
     "output_type": "execute_result"
    }
   ],
   "source": [
    "dt.dtypes"
   ]
  },
  {
   "cell_type": "code",
   "execution_count": 5,
   "id": "8dab2349",
   "metadata": {
    "execution": {
     "iopub.execute_input": "2022-09-21T07:03:20.615808Z",
     "iopub.status.busy": "2022-09-21T07:03:20.615041Z",
     "iopub.status.idle": "2022-09-21T07:03:20.646034Z",
     "shell.execute_reply": "2022-09-21T07:03:20.645055Z"
    },
    "papermill": {
     "duration": 0.04036,
     "end_time": "2022-09-21T07:03:20.648456",
     "exception": false,
     "start_time": "2022-09-21T07:03:20.608096",
     "status": "completed"
    },
    "tags": []
   },
   "outputs": [
    {
     "data": {
      "text/html": [
       "<div>\n",
       "<style scoped>\n",
       "    .dataframe tbody tr th:only-of-type {\n",
       "        vertical-align: middle;\n",
       "    }\n",
       "\n",
       "    .dataframe tbody tr th {\n",
       "        vertical-align: top;\n",
       "    }\n",
       "\n",
       "    .dataframe thead th {\n",
       "        text-align: right;\n",
       "    }\n",
       "</style>\n",
       "<table border=\"1\" class=\"dataframe\">\n",
       "  <thead>\n",
       "    <tr style=\"text-align: right;\">\n",
       "      <th></th>\n",
       "      <th>release_year</th>\n",
       "    </tr>\n",
       "  </thead>\n",
       "  <tbody>\n",
       "    <tr>\n",
       "      <th>count</th>\n",
       "      <td>8807.000000</td>\n",
       "    </tr>\n",
       "    <tr>\n",
       "      <th>mean</th>\n",
       "      <td>2014.180198</td>\n",
       "    </tr>\n",
       "    <tr>\n",
       "      <th>std</th>\n",
       "      <td>8.819312</td>\n",
       "    </tr>\n",
       "    <tr>\n",
       "      <th>min</th>\n",
       "      <td>1925.000000</td>\n",
       "    </tr>\n",
       "    <tr>\n",
       "      <th>25%</th>\n",
       "      <td>2013.000000</td>\n",
       "    </tr>\n",
       "    <tr>\n",
       "      <th>50%</th>\n",
       "      <td>2017.000000</td>\n",
       "    </tr>\n",
       "    <tr>\n",
       "      <th>75%</th>\n",
       "      <td>2019.000000</td>\n",
       "    </tr>\n",
       "    <tr>\n",
       "      <th>max</th>\n",
       "      <td>2021.000000</td>\n",
       "    </tr>\n",
       "  </tbody>\n",
       "</table>\n",
       "</div>"
      ],
      "text/plain": [
       "       release_year\n",
       "count   8807.000000\n",
       "mean    2014.180198\n",
       "std        8.819312\n",
       "min     1925.000000\n",
       "25%     2013.000000\n",
       "50%     2017.000000\n",
       "75%     2019.000000\n",
       "max     2021.000000"
      ]
     },
     "execution_count": 5,
     "metadata": {},
     "output_type": "execute_result"
    }
   ],
   "source": [
    "dt.describe()"
   ]
  },
  {
   "cell_type": "code",
   "execution_count": 6,
   "id": "0af80faa",
   "metadata": {
    "execution": {
     "iopub.execute_input": "2022-09-21T07:03:20.661558Z",
     "iopub.status.busy": "2022-09-21T07:03:20.660916Z",
     "iopub.status.idle": "2022-09-21T07:03:20.668504Z",
     "shell.execute_reply": "2022-09-21T07:03:20.667560Z"
    },
    "papermill": {
     "duration": 0.016901,
     "end_time": "2022-09-21T07:03:20.670890",
     "exception": false,
     "start_time": "2022-09-21T07:03:20.653989",
     "status": "completed"
    },
    "tags": []
   },
   "outputs": [
    {
     "data": {
      "text/plain": [
       "Index(['show_id', 'type', 'title', 'director', 'cast', 'country', 'date_added',\n",
       "       'release_year', 'rating', 'duration', 'listed_in', 'description'],\n",
       "      dtype='object')"
      ]
     },
     "execution_count": 6,
     "metadata": {},
     "output_type": "execute_result"
    }
   ],
   "source": [
    "dt.columns"
   ]
  },
  {
   "cell_type": "code",
   "execution_count": 7,
   "id": "1bb6b6d2",
   "metadata": {
    "execution": {
     "iopub.execute_input": "2022-09-21T07:03:20.684749Z",
     "iopub.status.busy": "2022-09-21T07:03:20.683976Z",
     "iopub.status.idle": "2022-09-21T07:03:20.896246Z",
     "shell.execute_reply": "2022-09-21T07:03:20.894756Z"
    },
    "papermill": {
     "duration": 0.222438,
     "end_time": "2022-09-21T07:03:20.899197",
     "exception": false,
     "start_time": "2022-09-21T07:03:20.676759",
     "status": "completed"
    },
    "tags": []
   },
   "outputs": [],
   "source": [
    "dt[\"date_added\"] = pd.to_datetime(dt['date_added'])\n",
    "dt['year_added'] = dt['date_added'].dt.year"
   ]
  },
  {
   "cell_type": "code",
   "execution_count": 8,
   "id": "d7ed1157",
   "metadata": {
    "execution": {
     "iopub.execute_input": "2022-09-21T07:03:20.912300Z",
     "iopub.status.busy": "2022-09-21T07:03:20.911886Z",
     "iopub.status.idle": "2022-09-21T07:03:20.920557Z",
     "shell.execute_reply": "2022-09-21T07:03:20.919248Z"
    },
    "papermill": {
     "duration": 0.018605,
     "end_time": "2022-09-21T07:03:20.923354",
     "exception": false,
     "start_time": "2022-09-21T07:03:20.904749",
     "status": "completed"
    },
    "tags": []
   },
   "outputs": [
    {
     "data": {
      "text/plain": [
       "show_id                 object\n",
       "type                    object\n",
       "title                   object\n",
       "director                object\n",
       "cast                    object\n",
       "country                 object\n",
       "date_added      datetime64[ns]\n",
       "release_year             int64\n",
       "rating                  object\n",
       "duration                object\n",
       "listed_in               object\n",
       "description             object\n",
       "year_added             float64\n",
       "dtype: object"
      ]
     },
     "execution_count": 8,
     "metadata": {},
     "output_type": "execute_result"
    }
   ],
   "source": [
    "dt.dtypes"
   ]
  },
  {
   "cell_type": "code",
   "execution_count": 9,
   "id": "cdf9537d",
   "metadata": {
    "execution": {
     "iopub.execute_input": "2022-09-21T07:03:20.936944Z",
     "iopub.status.busy": "2022-09-21T07:03:20.936463Z",
     "iopub.status.idle": "2022-09-21T07:03:20.955754Z",
     "shell.execute_reply": "2022-09-21T07:03:20.954493Z"
    },
    "papermill": {
     "duration": 0.029014,
     "end_time": "2022-09-21T07:03:20.958443",
     "exception": false,
     "start_time": "2022-09-21T07:03:20.929429",
     "status": "completed"
    },
    "tags": []
   },
   "outputs": [
    {
     "data": {
      "text/html": [
       "<div>\n",
       "<style scoped>\n",
       "    .dataframe tbody tr th:only-of-type {\n",
       "        vertical-align: middle;\n",
       "    }\n",
       "\n",
       "    .dataframe tbody tr th {\n",
       "        vertical-align: top;\n",
       "    }\n",
       "\n",
       "    .dataframe thead th {\n",
       "        text-align: right;\n",
       "    }\n",
       "</style>\n",
       "<table border=\"1\" class=\"dataframe\">\n",
       "  <thead>\n",
       "    <tr style=\"text-align: right;\">\n",
       "      <th></th>\n",
       "      <th>show_id</th>\n",
       "      <th>type</th>\n",
       "      <th>title</th>\n",
       "      <th>director</th>\n",
       "      <th>cast</th>\n",
       "      <th>country</th>\n",
       "      <th>date_added</th>\n",
       "      <th>release_year</th>\n",
       "      <th>rating</th>\n",
       "      <th>duration</th>\n",
       "      <th>listed_in</th>\n",
       "      <th>description</th>\n",
       "      <th>year_added</th>\n",
       "    </tr>\n",
       "  </thead>\n",
       "  <tbody>\n",
       "    <tr>\n",
       "      <th>0</th>\n",
       "      <td>s1</td>\n",
       "      <td>Movie</td>\n",
       "      <td>Dick Johnson Is Dead</td>\n",
       "      <td>Kirsten Johnson</td>\n",
       "      <td>NaN</td>\n",
       "      <td>United States</td>\n",
       "      <td>2021-09-25</td>\n",
       "      <td>2020</td>\n",
       "      <td>PG-13</td>\n",
       "      <td>90 min</td>\n",
       "      <td>Documentaries</td>\n",
       "      <td>As her father nears the end of his life, filmm...</td>\n",
       "      <td>2021.0</td>\n",
       "    </tr>\n",
       "    <tr>\n",
       "      <th>1</th>\n",
       "      <td>s2</td>\n",
       "      <td>TV Show</td>\n",
       "      <td>Blood &amp; Water</td>\n",
       "      <td>NaN</td>\n",
       "      <td>Ama Qamata, Khosi Ngema, Gail Mabalane, Thaban...</td>\n",
       "      <td>South Africa</td>\n",
       "      <td>2021-09-24</td>\n",
       "      <td>2021</td>\n",
       "      <td>TV-MA</td>\n",
       "      <td>2 Seasons</td>\n",
       "      <td>International TV Shows, TV Dramas, TV Mysteries</td>\n",
       "      <td>After crossing paths at a party, a Cape Town t...</td>\n",
       "      <td>2021.0</td>\n",
       "    </tr>\n",
       "    <tr>\n",
       "      <th>2</th>\n",
       "      <td>s3</td>\n",
       "      <td>TV Show</td>\n",
       "      <td>Ganglands</td>\n",
       "      <td>Julien Leclercq</td>\n",
       "      <td>Sami Bouajila, Tracy Gotoas, Samuel Jouy, Nabi...</td>\n",
       "      <td>NaN</td>\n",
       "      <td>2021-09-24</td>\n",
       "      <td>2021</td>\n",
       "      <td>TV-MA</td>\n",
       "      <td>1 Season</td>\n",
       "      <td>Crime TV Shows, International TV Shows, TV Act...</td>\n",
       "      <td>To protect his family from a powerful drug lor...</td>\n",
       "      <td>2021.0</td>\n",
       "    </tr>\n",
       "    <tr>\n",
       "      <th>3</th>\n",
       "      <td>s4</td>\n",
       "      <td>TV Show</td>\n",
       "      <td>Jailbirds New Orleans</td>\n",
       "      <td>NaN</td>\n",
       "      <td>NaN</td>\n",
       "      <td>NaN</td>\n",
       "      <td>2021-09-24</td>\n",
       "      <td>2021</td>\n",
       "      <td>TV-MA</td>\n",
       "      <td>1 Season</td>\n",
       "      <td>Docuseries, Reality TV</td>\n",
       "      <td>Feuds, flirtations and toilet talk go down amo...</td>\n",
       "      <td>2021.0</td>\n",
       "    </tr>\n",
       "    <tr>\n",
       "      <th>4</th>\n",
       "      <td>s5</td>\n",
       "      <td>TV Show</td>\n",
       "      <td>Kota Factory</td>\n",
       "      <td>NaN</td>\n",
       "      <td>Mayur More, Jitendra Kumar, Ranjan Raj, Alam K...</td>\n",
       "      <td>India</td>\n",
       "      <td>2021-09-24</td>\n",
       "      <td>2021</td>\n",
       "      <td>TV-MA</td>\n",
       "      <td>2 Seasons</td>\n",
       "      <td>International TV Shows, Romantic TV Shows, TV ...</td>\n",
       "      <td>In a city of coaching centers known to train I...</td>\n",
       "      <td>2021.0</td>\n",
       "    </tr>\n",
       "  </tbody>\n",
       "</table>\n",
       "</div>"
      ],
      "text/plain": [
       "  show_id     type                  title         director  \\\n",
       "0      s1    Movie   Dick Johnson Is Dead  Kirsten Johnson   \n",
       "1      s2  TV Show          Blood & Water              NaN   \n",
       "2      s3  TV Show              Ganglands  Julien Leclercq   \n",
       "3      s4  TV Show  Jailbirds New Orleans              NaN   \n",
       "4      s5  TV Show           Kota Factory              NaN   \n",
       "\n",
       "                                                cast        country  \\\n",
       "0                                                NaN  United States   \n",
       "1  Ama Qamata, Khosi Ngema, Gail Mabalane, Thaban...   South Africa   \n",
       "2  Sami Bouajila, Tracy Gotoas, Samuel Jouy, Nabi...            NaN   \n",
       "3                                                NaN            NaN   \n",
       "4  Mayur More, Jitendra Kumar, Ranjan Raj, Alam K...          India   \n",
       "\n",
       "  date_added  release_year rating   duration  \\\n",
       "0 2021-09-25          2020  PG-13     90 min   \n",
       "1 2021-09-24          2021  TV-MA  2 Seasons   \n",
       "2 2021-09-24          2021  TV-MA   1 Season   \n",
       "3 2021-09-24          2021  TV-MA   1 Season   \n",
       "4 2021-09-24          2021  TV-MA  2 Seasons   \n",
       "\n",
       "                                           listed_in  \\\n",
       "0                                      Documentaries   \n",
       "1    International TV Shows, TV Dramas, TV Mysteries   \n",
       "2  Crime TV Shows, International TV Shows, TV Act...   \n",
       "3                             Docuseries, Reality TV   \n",
       "4  International TV Shows, Romantic TV Shows, TV ...   \n",
       "\n",
       "                                         description  year_added  \n",
       "0  As her father nears the end of his life, filmm...      2021.0  \n",
       "1  After crossing paths at a party, a Cape Town t...      2021.0  \n",
       "2  To protect his family from a powerful drug lor...      2021.0  \n",
       "3  Feuds, flirtations and toilet talk go down amo...      2021.0  \n",
       "4  In a city of coaching centers known to train I...      2021.0  "
      ]
     },
     "execution_count": 9,
     "metadata": {},
     "output_type": "execute_result"
    }
   ],
   "source": [
    "dt.head()"
   ]
  },
  {
   "cell_type": "code",
   "execution_count": 10,
   "id": "2ff7af4e",
   "metadata": {
    "execution": {
     "iopub.execute_input": "2022-09-21T07:03:20.973033Z",
     "iopub.status.busy": "2022-09-21T07:03:20.971732Z",
     "iopub.status.idle": "2022-09-21T07:03:20.982370Z",
     "shell.execute_reply": "2022-09-21T07:03:20.981175Z"
    },
    "papermill": {
     "duration": 0.020735,
     "end_time": "2022-09-21T07:03:20.985098",
     "exception": false,
     "start_time": "2022-09-21T07:03:20.964363",
     "status": "completed"
    },
    "tags": []
   },
   "outputs": [
    {
     "data": {
      "text/plain": [
       "Movie      6131\n",
       "TV Show    2676\n",
       "Name: type, dtype: int64"
      ]
     },
     "execution_count": 10,
     "metadata": {},
     "output_type": "execute_result"
    }
   ],
   "source": [
    "td = dt['type'].value_counts()\n",
    "td"
   ]
  },
  {
   "cell_type": "code",
   "execution_count": 11,
   "id": "e1289578",
   "metadata": {
    "execution": {
     "iopub.execute_input": "2022-09-21T07:03:20.999114Z",
     "iopub.status.busy": "2022-09-21T07:03:20.998212Z",
     "iopub.status.idle": "2022-09-21T07:03:21.213090Z",
     "shell.execute_reply": "2022-09-21T07:03:21.211524Z"
    },
    "papermill": {
     "duration": 0.226174,
     "end_time": "2022-09-21T07:03:21.217207",
     "exception": false,
     "start_time": "2022-09-21T07:03:20.991033",
     "status": "completed"
    },
    "tags": []
   },
   "outputs": [
    {
     "data": {
      "text/plain": [
       "<AxesSubplot:ylabel='type'>"
      ]
     },
     "execution_count": 11,
     "metadata": {},
     "output_type": "execute_result"
    },
    {
     "data": {
      "image/png": "[encoded data removed]",
      "text/plain": [
       "<Figure size 360x360 with 1 Axes>"
      ]
     },
     "metadata": {},
     "output_type": "display_data"
    }
   ],
   "source": [
    "td.plot.pie(startangle = 90, shadow = True, explode = (0.07,0.14), autopct = '%1.1f%%',figsize = (5,5))"
   ]
  },
  {
   "cell_type": "code",
   "execution_count": 12,
   "id": "6c973cb8",
   "metadata": {
    "execution": {
     "iopub.execute_input": "2022-09-21T07:03:21.251798Z",
     "iopub.status.busy": "2022-09-21T07:03:21.250352Z",
     "iopub.status.idle": "2022-09-21T07:03:21.262259Z",
     "shell.execute_reply": "2022-09-21T07:03:21.260717Z"
    },
    "papermill": {
     "duration": 0.033535,
     "end_time": "2022-09-21T07:03:21.266422",
     "exception": false,
     "start_time": "2022-09-21T07:03:21.232887",
     "status": "completed"
    },
    "tags": []
   },
   "outputs": [],
   "source": [
    "ct = dt['country'].value_counts().head()"
   ]
  },
  {
   "cell_type": "code",
   "execution_count": 13,
   "id": "c65fda10",
   "metadata": {
    "execution": {
     "iopub.execute_input": "2022-09-21T07:03:21.285745Z",
     "iopub.status.busy": "2022-09-21T07:03:21.284565Z",
     "iopub.status.idle": "2022-09-21T07:03:21.503057Z",
     "shell.execute_reply": "2022-09-21T07:03:21.502012Z"
    },
    "papermill": {
     "duration": 0.228896,
     "end_time": "2022-09-21T07:03:21.505733",
     "exception": false,
     "start_time": "2022-09-21T07:03:21.276837",
     "status": "completed"
    },
    "tags": []
   },
   "outputs": [
    {
     "data": {
      "text/plain": [
       "Text(0.5, 1.0, '5 COUNTRYS ON NETFLIX')"
      ]
     },
     "execution_count": 13,
     "metadata": {},
     "output_type": "execute_result"
    },
    {
     "data": {
      "image/png": "[encoded data removed]",
      "text/plain": [
       "<Figure size 432x288 with 1 Axes>"
      ]
     },
     "metadata": {
      "needs_background": "light"
     },
     "output_type": "display_data"
    }
   ],
   "source": [
    "ax = plt.subplots()\n",
    "bar_colors = ['tab:red', 'tab:orange', 'tab:green', 'tab:purple', 'tab:blue']\n",
    "ct.plot.bar(color=bar_colors)\n",
    "plt.title('5 COUNTRYS ON NETFLIX')\n"
   ]
  },
  {
   "cell_type": "code",
   "execution_count": 14,
   "id": "babb1b6b",
   "metadata": {
    "execution": {
     "iopub.execute_input": "2022-09-21T07:03:21.522645Z",
     "iopub.status.busy": "2022-09-21T07:03:21.522222Z",
     "iopub.status.idle": "2022-09-21T07:03:21.533834Z",
     "shell.execute_reply": "2022-09-21T07:03:21.532655Z"
    },
    "papermill": {
     "duration": 0.023482,
     "end_time": "2022-09-21T07:03:21.536460",
     "exception": false,
     "start_time": "2022-09-21T07:03:21.512978",
     "status": "completed"
    },
    "tags": []
   },
   "outputs": [
    {
     "data": {
      "text/plain": [
       "Rajiv Chilaka             19\n",
       "Raúl Campos, Jan Suter    18\n",
       "Marcus Raboy              16\n",
       "Suhas Kadav               16\n",
       "Jay Karas                 14\n",
       "Name: director, dtype: int64"
      ]
     },
     "execution_count": 14,
     "metadata": {},
     "output_type": "execute_result"
    }
   ],
   "source": [
    "DirC = dt['director'].value_counts().head()\n",
    "DirC"
   ]
  },
  {
   "cell_type": "code",
   "execution_count": 15,
   "id": "beaf5011",
   "metadata": {
    "execution": {
     "iopub.execute_input": "2022-09-21T07:03:21.552282Z",
     "iopub.status.busy": "2022-09-21T07:03:21.551888Z",
     "iopub.status.idle": "2022-09-21T07:03:21.781093Z",
     "shell.execute_reply": "2022-09-21T07:03:21.779756Z"
    },
    "papermill": {
     "duration": 0.240018,
     "end_time": "2022-09-21T07:03:21.783727",
     "exception": false,
     "start_time": "2022-09-21T07:03:21.543709",
     "status": "completed"
    },
    "tags": []
   },
   "outputs": [
    {
     "data": {
      "text/plain": [
       "Text(0.5, 1.0, '5 Top directors')"
      ]
     },
     "execution_count": 15,
     "metadata": {},
     "output_type": "execute_result"
    },
    {
     "data": {
      "image/png": "[encoded data removed]",
      "text/plain": [
       "<Figure size 432x288 with 1 Axes>"
      ]
     },
     "metadata": {
      "needs_background": "light"
     },
     "output_type": "display_data"
    }
   ],
   "source": [
    "\n",
    "bar_colors = ['tab:red', 'tab:orange', 'tab:green', 'tab:purple', 'tab:blue']\n",
    "DirC.plot.bar(color=bar_colors)\n",
    "plt.title('5 Top directors', fontsize=16)\n"
   ]
  },
  {
   "cell_type": "code",
   "execution_count": 16,
   "id": "1a327c99",
   "metadata": {
    "execution": {
     "iopub.execute_input": "2022-09-21T07:03:21.800985Z",
     "iopub.status.busy": "2022-09-21T07:03:21.800228Z",
     "iopub.status.idle": "2022-09-21T07:03:21.807409Z",
     "shell.execute_reply": "2022-09-21T07:03:21.806439Z"
    },
    "papermill": {
     "duration": 0.018754,
     "end_time": "2022-09-21T07:03:21.809964",
     "exception": false,
     "start_time": "2022-09-21T07:03:21.791210",
     "status": "completed"
    },
    "tags": []
   },
   "outputs": [],
   "source": [
    "lc = dt['listed_in'].value_counts().head()"
   ]
  },
  {
   "cell_type": "code",
   "execution_count": 17,
   "id": "fd2056ea",
   "metadata": {
    "execution": {
     "iopub.execute_input": "2022-09-21T07:03:21.826748Z",
     "iopub.status.busy": "2022-09-21T07:03:21.826104Z",
     "iopub.status.idle": "2022-09-21T07:03:22.035248Z",
     "shell.execute_reply": "2022-09-21T07:03:22.033630Z"
    },
    "papermill": {
     "duration": 0.223051,
     "end_time": "2022-09-21T07:03:22.040452",
     "exception": false,
     "start_time": "2022-09-21T07:03:21.817401",
     "status": "completed"
    },
    "tags": []
   },
   "outputs": [
    {
     "data": {
      "text/plain": [
       "Text(0.5, 1.0, 'Most View')"
      ]
     },
     "execution_count": 17,
     "metadata": {},
     "output_type": "execute_result"
    },
    {
     "data": {
      "image/png": "[encoded data removed]",
      "text/plain": [
       "<Figure size 360x360 with 1 Axes>"
      ]
     },
     "metadata": {},
     "output_type": "display_data"
    }
   ],
   "source": [
    "lc.plot.pie(startangle = 90, shadow = True, autopct = '%1.1f%%',figsize = (5,5))\n",
    "plt.title('Most View')"
   ]
  }
 ],
 "metadata": {
  "kernelspec": {
   "display_name": "Python 3",
   "language": "python",
   "name": "python3"
  },
  "language_info": {
   "codemirror_mode": {
    "name": "ipython",
    "version": 3
   },
   "file_extension": ".py",
   "mimetype": "text/x-python",
   "name": "python",
   "nbconvert_exporter": "python",
   "pygments_lexer": "ipython3",
   "version": "3.7.12"
  },
  "papermill": {
   "default_parameters": {},
   "duration": 13.547747,
   "end_time": "2022-09-21T07:03:22.884506",
   "environment_variables": {},
   "exception": null,
   "input_path": "__notebook__.ipynb",
   "output_path": "__notebook__.ipynb",
   "parameters": {},
   "start_time": "2022-09-21T07:03:09.336759",
   "version": "2.3.4"
  }
 },
 "nbformat": 4,
 "nbformat_minor": 5
}
