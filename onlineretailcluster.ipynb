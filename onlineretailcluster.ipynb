{
 "cells": [
  {
   "cell_type": "code",
   "execution_count": 1,
   "id": "3f466667",
   "metadata": {
    "_cell_guid": "b1076dfc-b9ad-4769-8c92-a6c4dae69d19",
    "_uuid": "8f2839f25d086af736a60e9eeb907d3b93b6e0e5",
    "execution": {
     "iopub.execute_input": "2022-11-12T17:25:18.486149Z",
     "iopub.status.busy": "2022-11-12T17:25:18.485738Z",
     "iopub.status.idle": "2022-11-12T17:25:19.643890Z",
     "shell.execute_reply": "2022-11-12T17:25:19.641909Z"
    },
    "papermill": {
     "duration": 1.171854,
     "end_time": "2022-11-12T17:25:19.647811",
     "exception": false,
     "start_time": "2022-11-12T17:25:18.475957",
     "status": "completed"
    },
    "tags": []
   },
   "outputs": [
    {
     "name": "stdout",
     "output_type": "stream",
     "text": [
      "/kaggle/input/online-retail-customer-clustering/OnlineRetail.csv\n"
     ]
    }
   ],
   "source": [
    "# This Python 3 environment comes with many helpful analytics libraries installed\n",
    "# It is defined by the kaggle/python Docker image: https://github.com/kaggle/docker-python\n",
    "# For example, here's several helpful packages to load\n",
    "\n",
    "import numpy as np # linear algebra\n",
    "import pandas as pd # data processing, CSV file I/O (e.g. pd.read_csv)\n",
    "import matplotlib.pyplot as plt\n",
    "import seaborn as sns\n",
    "# Input data files are available in the read-only \"../input/\" directory\n",
    "# For example, running this (by clicking run or pressing Shift+Enter) will list all files under the input directory\n",
    "\n",
    "import os\n",
    "for dirname, _, filenames in os.walk('/kaggle/input'):\n",
    "    for filename in filenames:\n",
    "        print(os.path.join(dirname, filename))\n",
    "\n",
    "# You can write up to 20GB to the current directory (/kaggle/working/) that gets preserved as output when you create a version using \"Save & Run All\" \n",
    "# You can also write temporary files to /kaggle/temp/, but they won't be saved outside of the current session"
   ]
  },
  {
   "cell_type": "markdown",
   "id": "93590ba3",
   "metadata": {
    "papermill": {
     "duration": 0.006831,
     "end_time": "2022-11-12T17:25:19.662205",
     "exception": false,
     "start_time": "2022-11-12T17:25:19.655374",
     "status": "completed"
    },
    "tags": []
   },
   "source": [
    "# Importamos el CSV"
   ]
  },
  {
   "cell_type": "code",
   "execution_count": 2,
   "id": "f8912b76",
   "metadata": {
    "execution": {
     "iopub.execute_input": "2022-11-12T17:25:19.680491Z",
     "iopub.status.busy": "2022-11-12T17:25:19.680024Z",
     "iopub.status.idle": "2022-11-12T17:25:21.156851Z",
     "shell.execute_reply": "2022-11-12T17:25:21.156129Z"
    },
    "papermill": {
     "duration": 1.487457,
     "end_time": "2022-11-12T17:25:21.158983",
     "exception": false,
     "start_time": "2022-11-12T17:25:19.671526",
     "status": "completed"
    },
    "tags": []
   },
   "outputs": [],
   "source": [
    "df = pd.read_csv('../input/online-retail-customer-clustering/OnlineRetail.csv', encoding = 'unicode_escape')"
   ]
  },
  {
   "cell_type": "markdown",
   "id": "fab2aa81",
   "metadata": {
    "papermill": {
     "duration": 0.006778,
     "end_time": "2022-11-12T17:25:21.172791",
     "exception": false,
     "start_time": "2022-11-12T17:25:21.166013",
     "status": "completed"
    },
    "tags": []
   },
   "source": [
    "# Visualizacion de los datos"
   ]
  },
  {
   "cell_type": "code",
   "execution_count": 3,
   "id": "bb5397a6",
   "metadata": {
    "execution": {
     "iopub.execute_input": "2022-11-12T17:25:21.188176Z",
     "iopub.status.busy": "2022-11-12T17:25:21.187742Z",
     "iopub.status.idle": "2022-11-12T17:25:21.213769Z",
     "shell.execute_reply": "2022-11-12T17:25:21.212470Z"
    },
    "papermill": {
     "duration": 0.036352,
     "end_time": "2022-11-12T17:25:21.216053",
     "exception": false,
     "start_time": "2022-11-12T17:25:21.179701",
     "status": "completed"
    },
    "tags": []
   },
   "outputs": [
    {
     "data": {
      "text/html": [
       "<div>\n",
       "<style scoped>\n",
       "    .dataframe tbody tr th:only-of-type {\n",
       "        vertical-align: middle;\n",
       "    }\n",
       "\n",
       "    .dataframe tbody tr th {\n",
       "        vertical-align: top;\n",
       "    }\n",
       "\n",
       "    .dataframe thead th {\n",
       "        text-align: right;\n",
       "    }\n",
       "</style>\n",
       "<table border=\"1\" class=\"dataframe\">\n",
       "  <thead>\n",
       "    <tr style=\"text-align: right;\">\n",
       "      <th></th>\n",
       "      <th>InvoiceNo</th>\n",
       "      <th>StockCode</th>\n",
       "      <th>Description</th>\n",
       "      <th>Quantity</th>\n",
       "      <th>InvoiceDate</th>\n",
       "      <th>UnitPrice</th>\n",
       "      <th>CustomerID</th>\n",
       "      <th>Country</th>\n",
       "    </tr>\n",
       "  </thead>\n",
       "  <tbody>\n",
       "    <tr>\n",
       "      <th>0</th>\n",
       "      <td>536365</td>\n",
       "      <td>85123A</td>\n",
       "      <td>WHITE HANGING HEART T-LIGHT HOLDER</td>\n",
       "      <td>6</td>\n",
       "      <td>01-12-2010 08:26</td>\n",
       "      <td>2.55</td>\n",
       "      <td>17850.0</td>\n",
       "      <td>United Kingdom</td>\n",
       "    </tr>\n",
       "    <tr>\n",
       "      <th>1</th>\n",
       "      <td>536365</td>\n",
       "      <td>71053</td>\n",
       "      <td>WHITE METAL LANTERN</td>\n",
       "      <td>6</td>\n",
       "      <td>01-12-2010 08:26</td>\n",
       "      <td>3.39</td>\n",
       "      <td>17850.0</td>\n",
       "      <td>United Kingdom</td>\n",
       "    </tr>\n",
       "    <tr>\n",
       "      <th>2</th>\n",
       "      <td>536365</td>\n",
       "      <td>84406B</td>\n",
       "      <td>CREAM CUPID HEARTS COAT HANGER</td>\n",
       "      <td>8</td>\n",
       "      <td>01-12-2010 08:26</td>\n",
       "      <td>2.75</td>\n",
       "      <td>17850.0</td>\n",
       "      <td>United Kingdom</td>\n",
       "    </tr>\n",
       "    <tr>\n",
       "      <th>3</th>\n",
       "      <td>536365</td>\n",
       "      <td>84029G</td>\n",
       "      <td>KNITTED UNION FLAG HOT WATER BOTTLE</td>\n",
       "      <td>6</td>\n",
       "      <td>01-12-2010 08:26</td>\n",
       "      <td>3.39</td>\n",
       "      <td>17850.0</td>\n",
       "      <td>United Kingdom</td>\n",
       "    </tr>\n",
       "    <tr>\n",
       "      <th>4</th>\n",
       "      <td>536365</td>\n",
       "      <td>84029E</td>\n",
       "      <td>RED WOOLLY HOTTIE WHITE HEART.</td>\n",
       "      <td>6</td>\n",
       "      <td>01-12-2010 08:26</td>\n",
       "      <td>3.39</td>\n",
       "      <td>17850.0</td>\n",
       "      <td>United Kingdom</td>\n",
       "    </tr>\n",
       "  </tbody>\n",
       "</table>\n",
       "</div>"
      ],
      "text/plain": [
       "  InvoiceNo StockCode                          Description  Quantity  \\\n",
       "0    536365    85123A   WHITE HANGING HEART T-LIGHT HOLDER         6   \n",
       "1    536365     71053                  WHITE METAL LANTERN         6   \n",
       "2    536365    84406B       CREAM CUPID HEARTS COAT HANGER         8   \n",
       "3    536365    84029G  KNITTED UNION FLAG HOT WATER BOTTLE         6   \n",
       "4    536365    84029E       RED WOOLLY HOTTIE WHITE HEART.         6   \n",
       "\n",
       "        InvoiceDate  UnitPrice  CustomerID         Country  \n",
       "0  01-12-2010 08:26       2.55     17850.0  United Kingdom  \n",
       "1  01-12-2010 08:26       3.39     17850.0  United Kingdom  \n",
       "2  01-12-2010 08:26       2.75     17850.0  United Kingdom  \n",
       "3  01-12-2010 08:26       3.39     17850.0  United Kingdom  \n",
       "4  01-12-2010 08:26       3.39     17850.0  United Kingdom  "
      ]
     },
     "execution_count": 3,
     "metadata": {},
     "output_type": "execute_result"
    }
   ],
   "source": [
    "df.head()"
   ]
  },
  {
   "cell_type": "code",
   "execution_count": 4,
   "id": "a08f7f94",
   "metadata": {
    "execution": {
     "iopub.execute_input": "2022-11-12T17:25:21.236146Z",
     "iopub.status.busy": "2022-11-12T17:25:21.234759Z",
     "iopub.status.idle": "2022-11-12T17:25:21.242626Z",
     "shell.execute_reply": "2022-11-12T17:25:21.241344Z"
    },
    "papermill": {
     "duration": 0.01978,
     "end_time": "2022-11-12T17:25:21.245563",
     "exception": false,
     "start_time": "2022-11-12T17:25:21.225783",
     "status": "completed"
    },
    "tags": []
   },
   "outputs": [
    {
     "data": {
      "text/plain": [
       "(541909, 8)"
      ]
     },
     "execution_count": 4,
     "metadata": {},
     "output_type": "execute_result"
    }
   ],
   "source": [
    "df.shape"
   ]
  },
  {
   "cell_type": "code",
   "execution_count": 5,
   "id": "5e619128",
   "metadata": {
    "execution": {
     "iopub.execute_input": "2022-11-12T17:25:21.263022Z",
     "iopub.status.busy": "2022-11-12T17:25:21.262165Z",
     "iopub.status.idle": "2022-11-12T17:25:21.387563Z",
     "shell.execute_reply": "2022-11-12T17:25:21.386599Z"
    },
    "papermill": {
     "duration": 0.137012,
     "end_time": "2022-11-12T17:25:21.390367",
     "exception": false,
     "start_time": "2022-11-12T17:25:21.253355",
     "status": "completed"
    },
    "tags": []
   },
   "outputs": [
    {
     "name": "stdout",
     "output_type": "stream",
     "text": [
      "<class 'pandas.core.frame.DataFrame'>\n",
      "RangeIndex: 541909 entries, 0 to 541908\n",
      "Data columns (total 8 columns):\n",
      " #   Column       Non-Null Count   Dtype  \n",
      "---  ------       --------------   -----  \n",
      " 0   InvoiceNo    541909 non-null  object \n",
      " 1   StockCode    541909 non-null  object \n",
      " 2   Description  540455 non-null  object \n",
      " 3   Quantity     541909 non-null  int64  \n",
      " 4   InvoiceDate  541909 non-null  object \n",
      " 5   UnitPrice    541909 non-null  float64\n",
      " 6   CustomerID   406829 non-null  float64\n",
      " 7   Country      541909 non-null  object \n",
      "dtypes: float64(2), int64(1), object(5)\n",
      "memory usage: 33.1+ MB\n"
     ]
    }
   ],
   "source": [
    "df.info()"
   ]
  },
  {
   "cell_type": "code",
   "execution_count": 6,
   "id": "1b10d372",
   "metadata": {
    "execution": {
     "iopub.execute_input": "2022-11-12T17:25:21.410295Z",
     "iopub.status.busy": "2022-11-12T17:25:21.408321Z",
     "iopub.status.idle": "2022-11-12T17:25:21.534180Z",
     "shell.execute_reply": "2022-11-12T17:25:21.532813Z"
    },
    "papermill": {
     "duration": 0.138481,
     "end_time": "2022-11-12T17:25:21.536464",
     "exception": false,
     "start_time": "2022-11-12T17:25:21.397983",
     "status": "completed"
    },
    "tags": []
   },
   "outputs": [
    {
     "data": {
      "text/plain": [
       "InvoiceNo           0\n",
       "StockCode           0\n",
       "Description      1454\n",
       "Quantity            0\n",
       "InvoiceDate         0\n",
       "UnitPrice           0\n",
       "CustomerID     135080\n",
       "Country             0\n",
       "dtype: int64"
      ]
     },
     "execution_count": 6,
     "metadata": {},
     "output_type": "execute_result"
    }
   ],
   "source": [
    "df.isnull().sum()"
   ]
  },
  {
   "cell_type": "code",
   "execution_count": 7,
   "id": "0fca1bd7",
   "metadata": {
    "execution": {
     "iopub.execute_input": "2022-11-12T17:25:21.553329Z",
     "iopub.status.busy": "2022-11-12T17:25:21.552944Z",
     "iopub.status.idle": "2022-11-12T17:25:21.721190Z",
     "shell.execute_reply": "2022-11-12T17:25:21.719298Z"
    },
    "papermill": {
     "duration": 0.180001,
     "end_time": "2022-11-12T17:25:21.723937",
     "exception": false,
     "start_time": "2022-11-12T17:25:21.543936",
     "status": "completed"
    },
    "tags": []
   },
   "outputs": [
    {
     "data": {
      "text/html": [
       "<div>\n",
       "<style scoped>\n",
       "    .dataframe tbody tr th:only-of-type {\n",
       "        vertical-align: middle;\n",
       "    }\n",
       "\n",
       "    .dataframe tbody tr th {\n",
       "        vertical-align: top;\n",
       "    }\n",
       "\n",
       "    .dataframe thead th {\n",
       "        text-align: right;\n",
       "    }\n",
       "</style>\n",
       "<table border=\"1\" class=\"dataframe\">\n",
       "  <thead>\n",
       "    <tr style=\"text-align: right;\">\n",
       "      <th></th>\n",
       "      <th>InvoiceNo</th>\n",
       "      <th>StockCode</th>\n",
       "      <th>Description</th>\n",
       "      <th>Quantity</th>\n",
       "      <th>InvoiceDate</th>\n",
       "      <th>UnitPrice</th>\n",
       "      <th>CustomerID</th>\n",
       "      <th>Country</th>\n",
       "    </tr>\n",
       "  </thead>\n",
       "  <tbody>\n",
       "    <tr>\n",
       "      <th>0</th>\n",
       "      <td>536365</td>\n",
       "      <td>85123A</td>\n",
       "      <td>WHITE HANGING HEART T-LIGHT HOLDER</td>\n",
       "      <td>6</td>\n",
       "      <td>01-12-2010 08:26</td>\n",
       "      <td>2.55</td>\n",
       "      <td>17850.0</td>\n",
       "      <td>United Kingdom</td>\n",
       "    </tr>\n",
       "    <tr>\n",
       "      <th>1</th>\n",
       "      <td>536365</td>\n",
       "      <td>71053</td>\n",
       "      <td>WHITE METAL LANTERN</td>\n",
       "      <td>6</td>\n",
       "      <td>01-12-2010 08:26</td>\n",
       "      <td>3.39</td>\n",
       "      <td>17850.0</td>\n",
       "      <td>United Kingdom</td>\n",
       "    </tr>\n",
       "    <tr>\n",
       "      <th>2</th>\n",
       "      <td>536365</td>\n",
       "      <td>84406B</td>\n",
       "      <td>CREAM CUPID HEARTS COAT HANGER</td>\n",
       "      <td>8</td>\n",
       "      <td>01-12-2010 08:26</td>\n",
       "      <td>2.75</td>\n",
       "      <td>17850.0</td>\n",
       "      <td>United Kingdom</td>\n",
       "    </tr>\n",
       "    <tr>\n",
       "      <th>3</th>\n",
       "      <td>536365</td>\n",
       "      <td>84029G</td>\n",
       "      <td>KNITTED UNION FLAG HOT WATER BOTTLE</td>\n",
       "      <td>6</td>\n",
       "      <td>01-12-2010 08:26</td>\n",
       "      <td>3.39</td>\n",
       "      <td>17850.0</td>\n",
       "      <td>United Kingdom</td>\n",
       "    </tr>\n",
       "    <tr>\n",
       "      <th>4</th>\n",
       "      <td>536365</td>\n",
       "      <td>84029E</td>\n",
       "      <td>RED WOOLLY HOTTIE WHITE HEART.</td>\n",
       "      <td>6</td>\n",
       "      <td>01-12-2010 08:26</td>\n",
       "      <td>3.39</td>\n",
       "      <td>17850.0</td>\n",
       "      <td>United Kingdom</td>\n",
       "    </tr>\n",
       "    <tr>\n",
       "      <th>...</th>\n",
       "      <td>...</td>\n",
       "      <td>...</td>\n",
       "      <td>...</td>\n",
       "      <td>...</td>\n",
       "      <td>...</td>\n",
       "      <td>...</td>\n",
       "      <td>...</td>\n",
       "      <td>...</td>\n",
       "    </tr>\n",
       "    <tr>\n",
       "      <th>541904</th>\n",
       "      <td>581587</td>\n",
       "      <td>22613</td>\n",
       "      <td>PACK OF 20 SPACEBOY NAPKINS</td>\n",
       "      <td>12</td>\n",
       "      <td>09-12-2011 12:50</td>\n",
       "      <td>0.85</td>\n",
       "      <td>12680.0</td>\n",
       "      <td>France</td>\n",
       "    </tr>\n",
       "    <tr>\n",
       "      <th>541905</th>\n",
       "      <td>581587</td>\n",
       "      <td>22899</td>\n",
       "      <td>CHILDREN'S APRON DOLLY GIRL</td>\n",
       "      <td>6</td>\n",
       "      <td>09-12-2011 12:50</td>\n",
       "      <td>2.10</td>\n",
       "      <td>12680.0</td>\n",
       "      <td>France</td>\n",
       "    </tr>\n",
       "    <tr>\n",
       "      <th>541906</th>\n",
       "      <td>581587</td>\n",
       "      <td>23254</td>\n",
       "      <td>CHILDRENS CUTLERY DOLLY GIRL</td>\n",
       "      <td>4</td>\n",
       "      <td>09-12-2011 12:50</td>\n",
       "      <td>4.15</td>\n",
       "      <td>12680.0</td>\n",
       "      <td>France</td>\n",
       "    </tr>\n",
       "    <tr>\n",
       "      <th>541907</th>\n",
       "      <td>581587</td>\n",
       "      <td>23255</td>\n",
       "      <td>CHILDRENS CUTLERY CIRCUS PARADE</td>\n",
       "      <td>4</td>\n",
       "      <td>09-12-2011 12:50</td>\n",
       "      <td>4.15</td>\n",
       "      <td>12680.0</td>\n",
       "      <td>France</td>\n",
       "    </tr>\n",
       "    <tr>\n",
       "      <th>541908</th>\n",
       "      <td>581587</td>\n",
       "      <td>22138</td>\n",
       "      <td>BAKING SET 9 PIECE RETROSPOT</td>\n",
       "      <td>3</td>\n",
       "      <td>09-12-2011 12:50</td>\n",
       "      <td>4.95</td>\n",
       "      <td>12680.0</td>\n",
       "      <td>France</td>\n",
       "    </tr>\n",
       "  </tbody>\n",
       "</table>\n",
       "<p>406829 rows × 8 columns</p>\n",
       "</div>"
      ],
      "text/plain": [
       "       InvoiceNo StockCode                          Description  Quantity  \\\n",
       "0         536365    85123A   WHITE HANGING HEART T-LIGHT HOLDER         6   \n",
       "1         536365     71053                  WHITE METAL LANTERN         6   \n",
       "2         536365    84406B       CREAM CUPID HEARTS COAT HANGER         8   \n",
       "3         536365    84029G  KNITTED UNION FLAG HOT WATER BOTTLE         6   \n",
       "4         536365    84029E       RED WOOLLY HOTTIE WHITE HEART.         6   \n",
       "...          ...       ...                                  ...       ...   \n",
       "541904    581587     22613          PACK OF 20 SPACEBOY NAPKINS        12   \n",
       "541905    581587     22899         CHILDREN'S APRON DOLLY GIRL          6   \n",
       "541906    581587     23254        CHILDRENS CUTLERY DOLLY GIRL          4   \n",
       "541907    581587     23255      CHILDRENS CUTLERY CIRCUS PARADE         4   \n",
       "541908    581587     22138        BAKING SET 9 PIECE RETROSPOT          3   \n",
       "\n",
       "             InvoiceDate  UnitPrice  CustomerID         Country  \n",
       "0       01-12-2010 08:26       2.55     17850.0  United Kingdom  \n",
       "1       01-12-2010 08:26       3.39     17850.0  United Kingdom  \n",
       "2       01-12-2010 08:26       2.75     17850.0  United Kingdom  \n",
       "3       01-12-2010 08:26       3.39     17850.0  United Kingdom  \n",
       "4       01-12-2010 08:26       3.39     17850.0  United Kingdom  \n",
       "...                  ...        ...         ...             ...  \n",
       "541904  09-12-2011 12:50       0.85     12680.0          France  \n",
       "541905  09-12-2011 12:50       2.10     12680.0          France  \n",
       "541906  09-12-2011 12:50       4.15     12680.0          France  \n",
       "541907  09-12-2011 12:50       4.15     12680.0          France  \n",
       "541908  09-12-2011 12:50       4.95     12680.0          France  \n",
       "\n",
       "[406829 rows x 8 columns]"
      ]
     },
     "execution_count": 7,
     "metadata": {},
     "output_type": "execute_result"
    }
   ],
   "source": [
    "df.dropna()"
   ]
  },
  {
   "cell_type": "code",
   "execution_count": 8,
   "id": "18a3227a",
   "metadata": {
    "execution": {
     "iopub.execute_input": "2022-11-12T17:25:21.741887Z",
     "iopub.status.busy": "2022-11-12T17:25:21.741535Z",
     "iopub.status.idle": "2022-11-12T17:25:21.781071Z",
     "shell.execute_reply": "2022-11-12T17:25:21.780194Z"
    },
    "papermill": {
     "duration": 0.050619,
     "end_time": "2022-11-12T17:25:21.783070",
     "exception": false,
     "start_time": "2022-11-12T17:25:21.732451",
     "status": "completed"
    },
    "tags": []
   },
   "outputs": [
    {
     "data": {
      "text/html": [
       "<div>\n",
       "<style scoped>\n",
       "    .dataframe tbody tr th:only-of-type {\n",
       "        vertical-align: middle;\n",
       "    }\n",
       "\n",
       "    .dataframe tbody tr th {\n",
       "        vertical-align: top;\n",
       "    }\n",
       "\n",
       "    .dataframe thead th {\n",
       "        text-align: right;\n",
       "    }\n",
       "</style>\n",
       "<table border=\"1\" class=\"dataframe\">\n",
       "  <thead>\n",
       "    <tr style=\"text-align: right;\">\n",
       "      <th></th>\n",
       "      <th>InvoiceNo</th>\n",
       "      <th>StockCode</th>\n",
       "      <th>Description</th>\n",
       "      <th>Quantity</th>\n",
       "      <th>UnitPrice</th>\n",
       "      <th>CustomerID</th>\n",
       "      <th>Country</th>\n",
       "    </tr>\n",
       "    <tr>\n",
       "      <th>InvoiceDate</th>\n",
       "      <th></th>\n",
       "      <th></th>\n",
       "      <th></th>\n",
       "      <th></th>\n",
       "      <th></th>\n",
       "      <th></th>\n",
       "      <th></th>\n",
       "    </tr>\n",
       "  </thead>\n",
       "  <tbody>\n",
       "    <tr>\n",
       "      <th>09-12-2011 12:50</th>\n",
       "      <td>581587</td>\n",
       "      <td>22613</td>\n",
       "      <td>PACK OF 20 SPACEBOY NAPKINS</td>\n",
       "      <td>12</td>\n",
       "      <td>0.85</td>\n",
       "      <td>12680.0</td>\n",
       "      <td>France</td>\n",
       "    </tr>\n",
       "    <tr>\n",
       "      <th>09-12-2011 12:50</th>\n",
       "      <td>581587</td>\n",
       "      <td>22899</td>\n",
       "      <td>CHILDREN'S APRON DOLLY GIRL</td>\n",
       "      <td>6</td>\n",
       "      <td>2.10</td>\n",
       "      <td>12680.0</td>\n",
       "      <td>France</td>\n",
       "    </tr>\n",
       "    <tr>\n",
       "      <th>09-12-2011 12:50</th>\n",
       "      <td>581587</td>\n",
       "      <td>23254</td>\n",
       "      <td>CHILDRENS CUTLERY DOLLY GIRL</td>\n",
       "      <td>4</td>\n",
       "      <td>4.15</td>\n",
       "      <td>12680.0</td>\n",
       "      <td>France</td>\n",
       "    </tr>\n",
       "    <tr>\n",
       "      <th>09-12-2011 12:50</th>\n",
       "      <td>581587</td>\n",
       "      <td>23255</td>\n",
       "      <td>CHILDRENS CUTLERY CIRCUS PARADE</td>\n",
       "      <td>4</td>\n",
       "      <td>4.15</td>\n",
       "      <td>12680.0</td>\n",
       "      <td>France</td>\n",
       "    </tr>\n",
       "    <tr>\n",
       "      <th>09-12-2011 12:50</th>\n",
       "      <td>581587</td>\n",
       "      <td>22138</td>\n",
       "      <td>BAKING SET 9 PIECE RETROSPOT</td>\n",
       "      <td>3</td>\n",
       "      <td>4.95</td>\n",
       "      <td>12680.0</td>\n",
       "      <td>France</td>\n",
       "    </tr>\n",
       "  </tbody>\n",
       "</table>\n",
       "</div>"
      ],
      "text/plain": [
       "                 InvoiceNo StockCode                      Description  \\\n",
       "InvoiceDate                                                             \n",
       "09-12-2011 12:50    581587     22613      PACK OF 20 SPACEBOY NAPKINS   \n",
       "09-12-2011 12:50    581587     22899     CHILDREN'S APRON DOLLY GIRL    \n",
       "09-12-2011 12:50    581587     23254    CHILDRENS CUTLERY DOLLY GIRL    \n",
       "09-12-2011 12:50    581587     23255  CHILDRENS CUTLERY CIRCUS PARADE   \n",
       "09-12-2011 12:50    581587     22138    BAKING SET 9 PIECE RETROSPOT    \n",
       "\n",
       "                  Quantity  UnitPrice  CustomerID Country  \n",
       "InvoiceDate                                                \n",
       "09-12-2011 12:50        12       0.85     12680.0  France  \n",
       "09-12-2011 12:50         6       2.10     12680.0  France  \n",
       "09-12-2011 12:50         4       4.15     12680.0  France  \n",
       "09-12-2011 12:50         4       4.15     12680.0  France  \n",
       "09-12-2011 12:50         3       4.95     12680.0  France  "
      ]
     },
     "execution_count": 8,
     "metadata": {},
     "output_type": "execute_result"
    }
   ],
   "source": [
    "DateIndex = df.set_index('InvoiceDate')\n",
    "DateIndex.tail()"
   ]
  },
  {
   "cell_type": "code",
   "execution_count": 9,
   "id": "b66afcaf",
   "metadata": {
    "execution": {
     "iopub.execute_input": "2022-11-12T17:25:21.801708Z",
     "iopub.status.busy": "2022-11-12T17:25:21.801241Z",
     "iopub.status.idle": "2022-11-12T17:25:21.869758Z",
     "shell.execute_reply": "2022-11-12T17:25:21.868854Z"
    },
    "papermill": {
     "duration": 0.080252,
     "end_time": "2022-11-12T17:25:21.871707",
     "exception": false,
     "start_time": "2022-11-12T17:25:21.791455",
     "status": "completed"
    },
    "tags": []
   },
   "outputs": [
    {
     "data": {
      "text/html": [
       "<div>\n",
       "<style scoped>\n",
       "    .dataframe tbody tr th:only-of-type {\n",
       "        vertical-align: middle;\n",
       "    }\n",
       "\n",
       "    .dataframe tbody tr th {\n",
       "        vertical-align: top;\n",
       "    }\n",
       "\n",
       "    .dataframe thead th {\n",
       "        text-align: right;\n",
       "    }\n",
       "</style>\n",
       "<table border=\"1\" class=\"dataframe\">\n",
       "  <thead>\n",
       "    <tr style=\"text-align: right;\">\n",
       "      <th></th>\n",
       "      <th>Quantity</th>\n",
       "      <th>UnitPrice</th>\n",
       "      <th>CustomerID</th>\n",
       "    </tr>\n",
       "  </thead>\n",
       "  <tbody>\n",
       "    <tr>\n",
       "      <th>count</th>\n",
       "      <td>541909.000000</td>\n",
       "      <td>541909.000000</td>\n",
       "      <td>406829.000000</td>\n",
       "    </tr>\n",
       "    <tr>\n",
       "      <th>mean</th>\n",
       "      <td>9.552250</td>\n",
       "      <td>4.611114</td>\n",
       "      <td>15287.690570</td>\n",
       "    </tr>\n",
       "    <tr>\n",
       "      <th>std</th>\n",
       "      <td>218.081158</td>\n",
       "      <td>96.759853</td>\n",
       "      <td>1713.600303</td>\n",
       "    </tr>\n",
       "    <tr>\n",
       "      <th>min</th>\n",
       "      <td>-80995.000000</td>\n",
       "      <td>-11062.060000</td>\n",
       "      <td>12346.000000</td>\n",
       "    </tr>\n",
       "    <tr>\n",
       "      <th>25%</th>\n",
       "      <td>1.000000</td>\n",
       "      <td>1.250000</td>\n",
       "      <td>13953.000000</td>\n",
       "    </tr>\n",
       "    <tr>\n",
       "      <th>50%</th>\n",
       "      <td>3.000000</td>\n",
       "      <td>2.080000</td>\n",
       "      <td>15152.000000</td>\n",
       "    </tr>\n",
       "    <tr>\n",
       "      <th>75%</th>\n",
       "      <td>10.000000</td>\n",
       "      <td>4.130000</td>\n",
       "      <td>16791.000000</td>\n",
       "    </tr>\n",
       "    <tr>\n",
       "      <th>max</th>\n",
       "      <td>80995.000000</td>\n",
       "      <td>38970.000000</td>\n",
       "      <td>18287.000000</td>\n",
       "    </tr>\n",
       "  </tbody>\n",
       "</table>\n",
       "</div>"
      ],
      "text/plain": [
       "            Quantity      UnitPrice     CustomerID\n",
       "count  541909.000000  541909.000000  406829.000000\n",
       "mean        9.552250       4.611114   15287.690570\n",
       "std       218.081158      96.759853    1713.600303\n",
       "min    -80995.000000  -11062.060000   12346.000000\n",
       "25%         1.000000       1.250000   13953.000000\n",
       "50%         3.000000       2.080000   15152.000000\n",
       "75%        10.000000       4.130000   16791.000000\n",
       "max     80995.000000   38970.000000   18287.000000"
      ]
     },
     "execution_count": 9,
     "metadata": {},
     "output_type": "execute_result"
    }
   ],
   "source": [
    "df.describe()"
   ]
  },
  {
   "cell_type": "code",
   "execution_count": 10,
   "id": "c97c99df",
   "metadata": {
    "execution": {
     "iopub.execute_input": "2022-11-12T17:25:21.890675Z",
     "iopub.status.busy": "2022-11-12T17:25:21.890242Z",
     "iopub.status.idle": "2022-11-12T17:25:22.478761Z",
     "shell.execute_reply": "2022-11-12T17:25:22.477191Z"
    },
    "papermill": {
     "duration": 0.600673,
     "end_time": "2022-11-12T17:25:22.480978",
     "exception": false,
     "start_time": "2022-11-12T17:25:21.880305",
     "status": "completed"
    },
    "tags": []
   },
   "outputs": [
    {
     "name": "stderr",
     "output_type": "stream",
     "text": [
      "/opt/conda/lib/python3.7/site-packages/ipykernel_launcher.py:3: UserWarning: To output multiple subplots, the figure containing the passed axes is being cleared\n",
      "  This is separate from the ipykernel package so we can avoid doing imports until\n"
     ]
    },
    {
     "data": {
      "image/png": "[encoded data removed]",
      "text/plain": [
       "<Figure size 1440x1440 with 4 Axes>"
      ]
     },
     "metadata": {
      "needs_background": "light"
     },
     "output_type": "display_data"
    }
   ],
   "source": [
    "fig = plt.figure(figsize = (20,20))\n",
    "ax = fig.gca()\n",
    "df.hist(ax = ax)\n",
    "plt.show()"
   ]
  },
  {
   "cell_type": "code",
   "execution_count": 11,
   "id": "7f3f6b47",
   "metadata": {
    "execution": {
     "iopub.execute_input": "2022-11-12T17:25:22.500764Z",
     "iopub.status.busy": "2022-11-12T17:25:22.499639Z",
     "iopub.status.idle": "2022-11-12T17:25:22.775253Z",
     "shell.execute_reply": "2022-11-12T17:25:22.773668Z"
    },
    "papermill": {
     "duration": 0.288483,
     "end_time": "2022-11-12T17:25:22.778311",
     "exception": false,
     "start_time": "2022-11-12T17:25:22.489828",
     "status": "completed"
    },
    "tags": []
   },
   "outputs": [
    {
     "data": {
      "image/png": "[encoded data removed]",
      "text/plain": [
       "<Figure size 1440x1440 with 2 Axes>"
      ]
     },
     "metadata": {
      "needs_background": "light"
     },
     "output_type": "display_data"
    }
   ],
   "source": [
    "cor = df.corr()\n",
    "plt.figure(figsize=(20,20))\n",
    "ax = sns.heatmap(cor, vmax=1, square=True, annot=True, cmap='viridis')\n",
    "plt.title(\"Matriz de correlacion\")\n",
    "plt.show()"
   ]
  },
  {
   "cell_type": "markdown",
   "id": "32d85e38",
   "metadata": {
    "papermill": {
     "duration": 0.008393,
     "end_time": "2022-11-12T17:25:22.796117",
     "exception": false,
     "start_time": "2022-11-12T17:25:22.787724",
     "status": "completed"
    },
    "tags": []
   },
   "source": [
    "# Analisis de los datos"
   ]
  },
  {
   "cell_type": "code",
   "execution_count": 12,
   "id": "7f91a233",
   "metadata": {
    "execution": {
     "iopub.execute_input": "2022-11-12T17:25:22.815238Z",
     "iopub.status.busy": "2022-11-12T17:25:22.814860Z",
     "iopub.status.idle": "2022-11-12T17:26:57.387754Z",
     "shell.execute_reply": "2022-11-12T17:26:57.386857Z"
    },
    "papermill": {
     "duration": 94.594,
     "end_time": "2022-11-12T17:26:57.398789",
     "exception": false,
     "start_time": "2022-11-12T17:25:22.804789",
     "status": "completed"
    },
    "tags": []
   },
   "outputs": [
    {
     "data": {
      "text/html": [
       "<div>\n",
       "<style scoped>\n",
       "    .dataframe tbody tr th:only-of-type {\n",
       "        vertical-align: middle;\n",
       "    }\n",
       "\n",
       "    .dataframe tbody tr th {\n",
       "        vertical-align: top;\n",
       "    }\n",
       "\n",
       "    .dataframe thead th {\n",
       "        text-align: right;\n",
       "    }\n",
       "</style>\n",
       "<table border=\"1\" class=\"dataframe\">\n",
       "  <thead>\n",
       "    <tr style=\"text-align: right;\">\n",
       "      <th></th>\n",
       "      <th>InvoiceNo</th>\n",
       "      <th>StockCode</th>\n",
       "      <th>Description</th>\n",
       "      <th>Quantity</th>\n",
       "      <th>UnitPrice</th>\n",
       "      <th>CustomerID</th>\n",
       "      <th>Country</th>\n",
       "      <th>Years</th>\n",
       "      <th>Month</th>\n",
       "    </tr>\n",
       "    <tr>\n",
       "      <th>InvoiceDate</th>\n",
       "      <th></th>\n",
       "      <th></th>\n",
       "      <th></th>\n",
       "      <th></th>\n",
       "      <th></th>\n",
       "      <th></th>\n",
       "      <th></th>\n",
       "      <th></th>\n",
       "      <th></th>\n",
       "    </tr>\n",
       "  </thead>\n",
       "  <tbody>\n",
       "    <tr>\n",
       "      <th>01-12-2010 08:26</th>\n",
       "      <td>536365</td>\n",
       "      <td>85123A</td>\n",
       "      <td>WHITE HANGING HEART T-LIGHT HOLDER</td>\n",
       "      <td>6</td>\n",
       "      <td>2.55</td>\n",
       "      <td>17850.0</td>\n",
       "      <td>United Kingdom</td>\n",
       "      <td>2010</td>\n",
       "      <td>1</td>\n",
       "    </tr>\n",
       "    <tr>\n",
       "      <th>01-12-2010 08:26</th>\n",
       "      <td>536365</td>\n",
       "      <td>71053</td>\n",
       "      <td>WHITE METAL LANTERN</td>\n",
       "      <td>6</td>\n",
       "      <td>3.39</td>\n",
       "      <td>17850.0</td>\n",
       "      <td>United Kingdom</td>\n",
       "      <td>2010</td>\n",
       "      <td>1</td>\n",
       "    </tr>\n",
       "    <tr>\n",
       "      <th>01-12-2010 08:26</th>\n",
       "      <td>536365</td>\n",
       "      <td>84406B</td>\n",
       "      <td>CREAM CUPID HEARTS COAT HANGER</td>\n",
       "      <td>8</td>\n",
       "      <td>2.75</td>\n",
       "      <td>17850.0</td>\n",
       "      <td>United Kingdom</td>\n",
       "      <td>2010</td>\n",
       "      <td>1</td>\n",
       "    </tr>\n",
       "    <tr>\n",
       "      <th>01-12-2010 08:26</th>\n",
       "      <td>536365</td>\n",
       "      <td>84029G</td>\n",
       "      <td>KNITTED UNION FLAG HOT WATER BOTTLE</td>\n",
       "      <td>6</td>\n",
       "      <td>3.39</td>\n",
       "      <td>17850.0</td>\n",
       "      <td>United Kingdom</td>\n",
       "      <td>2010</td>\n",
       "      <td>1</td>\n",
       "    </tr>\n",
       "    <tr>\n",
       "      <th>01-12-2010 08:26</th>\n",
       "      <td>536365</td>\n",
       "      <td>84029E</td>\n",
       "      <td>RED WOOLLY HOTTIE WHITE HEART.</td>\n",
       "      <td>6</td>\n",
       "      <td>3.39</td>\n",
       "      <td>17850.0</td>\n",
       "      <td>United Kingdom</td>\n",
       "      <td>2010</td>\n",
       "      <td>1</td>\n",
       "    </tr>\n",
       "    <tr>\n",
       "      <th>...</th>\n",
       "      <td>...</td>\n",
       "      <td>...</td>\n",
       "      <td>...</td>\n",
       "      <td>...</td>\n",
       "      <td>...</td>\n",
       "      <td>...</td>\n",
       "      <td>...</td>\n",
       "      <td>...</td>\n",
       "      <td>...</td>\n",
       "    </tr>\n",
       "    <tr>\n",
       "      <th>09-12-2011 12:50</th>\n",
       "      <td>581587</td>\n",
       "      <td>22613</td>\n",
       "      <td>PACK OF 20 SPACEBOY NAPKINS</td>\n",
       "      <td>12</td>\n",
       "      <td>0.85</td>\n",
       "      <td>12680.0</td>\n",
       "      <td>France</td>\n",
       "      <td>2011</td>\n",
       "      <td>9</td>\n",
       "    </tr>\n",
       "    <tr>\n",
       "      <th>09-12-2011 12:50</th>\n",
       "      <td>581587</td>\n",
       "      <td>22899</td>\n",
       "      <td>CHILDREN'S APRON DOLLY GIRL</td>\n",
       "      <td>6</td>\n",
       "      <td>2.10</td>\n",
       "      <td>12680.0</td>\n",
       "      <td>France</td>\n",
       "      <td>2011</td>\n",
       "      <td>9</td>\n",
       "    </tr>\n",
       "    <tr>\n",
       "      <th>09-12-2011 12:50</th>\n",
       "      <td>581587</td>\n",
       "      <td>23254</td>\n",
       "      <td>CHILDRENS CUTLERY DOLLY GIRL</td>\n",
       "      <td>4</td>\n",
       "      <td>4.15</td>\n",
       "      <td>12680.0</td>\n",
       "      <td>France</td>\n",
       "      <td>2011</td>\n",
       "      <td>9</td>\n",
       "    </tr>\n",
       "    <tr>\n",
       "      <th>09-12-2011 12:50</th>\n",
       "      <td>581587</td>\n",
       "      <td>23255</td>\n",
       "      <td>CHILDRENS CUTLERY CIRCUS PARADE</td>\n",
       "      <td>4</td>\n",
       "      <td>4.15</td>\n",
       "      <td>12680.0</td>\n",
       "      <td>France</td>\n",
       "      <td>2011</td>\n",
       "      <td>9</td>\n",
       "    </tr>\n",
       "    <tr>\n",
       "      <th>09-12-2011 12:50</th>\n",
       "      <td>581587</td>\n",
       "      <td>22138</td>\n",
       "      <td>BAKING SET 9 PIECE RETROSPOT</td>\n",
       "      <td>3</td>\n",
       "      <td>4.95</td>\n",
       "      <td>12680.0</td>\n",
       "      <td>France</td>\n",
       "      <td>2011</td>\n",
       "      <td>9</td>\n",
       "    </tr>\n",
       "  </tbody>\n",
       "</table>\n",
       "<p>541909 rows × 9 columns</p>\n",
       "</div>"
      ],
      "text/plain": [
       "                 InvoiceNo StockCode                          Description  \\\n",
       "InvoiceDate                                                                 \n",
       "01-12-2010 08:26    536365    85123A   WHITE HANGING HEART T-LIGHT HOLDER   \n",
       "01-12-2010 08:26    536365     71053                  WHITE METAL LANTERN   \n",
       "01-12-2010 08:26    536365    84406B       CREAM CUPID HEARTS COAT HANGER   \n",
       "01-12-2010 08:26    536365    84029G  KNITTED UNION FLAG HOT WATER BOTTLE   \n",
       "01-12-2010 08:26    536365    84029E       RED WOOLLY HOTTIE WHITE HEART.   \n",
       "...                    ...       ...                                  ...   \n",
       "09-12-2011 12:50    581587     22613          PACK OF 20 SPACEBOY NAPKINS   \n",
       "09-12-2011 12:50    581587     22899         CHILDREN'S APRON DOLLY GIRL    \n",
       "09-12-2011 12:50    581587     23254        CHILDRENS CUTLERY DOLLY GIRL    \n",
       "09-12-2011 12:50    581587     23255      CHILDRENS CUTLERY CIRCUS PARADE   \n",
       "09-12-2011 12:50    581587     22138        BAKING SET 9 PIECE RETROSPOT    \n",
       "\n",
       "                  Quantity  UnitPrice  CustomerID         Country  Years  \\\n",
       "InvoiceDate                                                                \n",
       "01-12-2010 08:26         6       2.55     17850.0  United Kingdom   2010   \n",
       "01-12-2010 08:26         6       3.39     17850.0  United Kingdom   2010   \n",
       "01-12-2010 08:26         8       2.75     17850.0  United Kingdom   2010   \n",
       "01-12-2010 08:26         6       3.39     17850.0  United Kingdom   2010   \n",
       "01-12-2010 08:26         6       3.39     17850.0  United Kingdom   2010   \n",
       "...                    ...        ...         ...             ...    ...   \n",
       "09-12-2011 12:50        12       0.85     12680.0          France   2011   \n",
       "09-12-2011 12:50         6       2.10     12680.0          France   2011   \n",
       "09-12-2011 12:50         4       4.15     12680.0          France   2011   \n",
       "09-12-2011 12:50         4       4.15     12680.0          France   2011   \n",
       "09-12-2011 12:50         3       4.95     12680.0          France   2011   \n",
       "\n",
       "                  Month  \n",
       "InvoiceDate              \n",
       "01-12-2010 08:26      1  \n",
       "01-12-2010 08:26      1  \n",
       "01-12-2010 08:26      1  \n",
       "01-12-2010 08:26      1  \n",
       "01-12-2010 08:26      1  \n",
       "...                 ...  \n",
       "09-12-2011 12:50      9  \n",
       "09-12-2011 12:50      9  \n",
       "09-12-2011 12:50      9  \n",
       "09-12-2011 12:50      9  \n",
       "09-12-2011 12:50      9  \n",
       "\n",
       "[541909 rows x 9 columns]"
      ]
     },
     "execution_count": 12,
     "metadata": {},
     "output_type": "execute_result"
    }
   ],
   "source": [
    "DateIndex['Years'] = pd.DatetimeIndex(DateIndex.index).year\n",
    "DateIndex['Month'] = pd.DatetimeIndex(DateIndex.index).month\n",
    "DateIndex"
   ]
  },
  {
   "cell_type": "code",
   "execution_count": 13,
   "id": "1d727ab1",
   "metadata": {
    "execution": {
     "iopub.execute_input": "2022-11-12T17:26:57.418856Z",
     "iopub.status.busy": "2022-11-12T17:26:57.418446Z",
     "iopub.status.idle": "2022-11-12T17:26:57.475945Z",
     "shell.execute_reply": "2022-11-12T17:26:57.474960Z"
    },
    "papermill": {
     "duration": 0.070691,
     "end_time": "2022-11-12T17:26:57.478523",
     "exception": false,
     "start_time": "2022-11-12T17:26:57.407832",
     "status": "completed"
    },
    "tags": []
   },
   "outputs": [],
   "source": [
    "firstYear = DateIndex[DateIndex['Years'] == 2010]"
   ]
  },
  {
   "cell_type": "code",
   "execution_count": 14,
   "id": "32db8e6c",
   "metadata": {
    "execution": {
     "iopub.execute_input": "2022-11-12T17:26:57.498186Z",
     "iopub.status.busy": "2022-11-12T17:26:57.497832Z",
     "iopub.status.idle": "2022-11-12T17:26:57.509462Z",
     "shell.execute_reply": "2022-11-12T17:26:57.507753Z"
    },
    "papermill": {
     "duration": 0.023979,
     "end_time": "2022-11-12T17:26:57.511561",
     "exception": false,
     "start_time": "2022-11-12T17:26:57.487582",
     "status": "completed"
    },
    "tags": []
   },
   "outputs": [
    {
     "data": {
      "text/plain": [
       "12    17200\n",
       "6      3878\n",
       "1      3108\n",
       "7      2963\n",
       "9      2891\n",
       "10     2758\n",
       "5      2725\n",
       "8      2647\n",
       "3      2202\n",
       "2      2109\n",
       "Name: Month, dtype: int64"
      ]
     },
     "execution_count": 14,
     "metadata": {},
     "output_type": "execute_result"
    }
   ],
   "source": [
    "Sells2010 = firstYear['Month'].value_counts()\n",
    "Sells2010"
   ]
  },
  {
   "cell_type": "code",
   "execution_count": 15,
   "id": "f46be8d0",
   "metadata": {
    "execution": {
     "iopub.execute_input": "2022-11-12T17:26:57.533664Z",
     "iopub.status.busy": "2022-11-12T17:26:57.533233Z",
     "iopub.status.idle": "2022-11-12T17:26:57.590576Z",
     "shell.execute_reply": "2022-11-12T17:26:57.589415Z"
    },
    "papermill": {
     "duration": 0.070907,
     "end_time": "2022-11-12T17:26:57.592646",
     "exception": false,
     "start_time": "2022-11-12T17:26:57.521739",
     "status": "completed"
    },
    "tags": []
   },
   "outputs": [
    {
     "data": {
      "text/plain": [
       "11    73594\n",
       "10    54162\n",
       "9     48398\n",
       "7     44134\n",
       "6     42241\n",
       "8     42240\n",
       "5     39934\n",
       "4     37180\n",
       "1     36661\n",
       "3     36467\n",
       "2     31732\n",
       "12    12685\n",
       "Name: Month, dtype: int64"
      ]
     },
     "execution_count": 15,
     "metadata": {},
     "output_type": "execute_result"
    }
   ],
   "source": [
    "SecondYear = DateIndex[DateIndex['Years'] == 2011]\n",
    "Sells2011 = SecondYear['Month'].value_counts()\n",
    "Sells2011"
   ]
  },
  {
   "cell_type": "code",
   "execution_count": 16,
   "id": "ba78a53f",
   "metadata": {
    "execution": {
     "iopub.execute_input": "2022-11-12T17:26:57.613773Z",
     "iopub.status.busy": "2022-11-12T17:26:57.613244Z",
     "iopub.status.idle": "2022-11-12T17:26:57.644438Z",
     "shell.execute_reply": "2022-11-12T17:26:57.643256Z"
    },
    "papermill": {
     "duration": 0.044319,
     "end_time": "2022-11-12T17:26:57.646855",
     "exception": false,
     "start_time": "2022-11-12T17:26:57.602536",
     "status": "completed"
    },
    "tags": []
   },
   "outputs": [],
   "source": [
    "Country = df['Country'].value_counts()\n",
    "cd = Country.head(3)"
   ]
  },
  {
   "cell_type": "code",
   "execution_count": 17,
   "id": "f60edf8c",
   "metadata": {
    "execution": {
     "iopub.execute_input": "2022-11-12T17:26:57.668753Z",
     "iopub.status.busy": "2022-11-12T17:26:57.667377Z",
     "iopub.status.idle": "2022-11-12T17:26:57.829206Z",
     "shell.execute_reply": "2022-11-12T17:26:57.828370Z"
    },
    "papermill": {
     "duration": 0.174945,
     "end_time": "2022-11-12T17:26:57.831416",
     "exception": false,
     "start_time": "2022-11-12T17:26:57.656471",
     "status": "completed"
    },
    "tags": []
   },
   "outputs": [
    {
     "data": {
      "text/plain": [
       "Text(0.5, 1.0, 'Model Cars')"
      ]
     },
     "execution_count": 17,
     "metadata": {},
     "output_type": "execute_result"
    },
    {
     "data": {
      "image/png": "[encoded data removed]",
      "text/plain": [
       "<Figure size 576x576 with 1 Axes>"
      ]
     },
     "metadata": {},
     "output_type": "display_data"
    }
   ],
   "source": [
    "cd.plot.pie(startangle = 90, shadow = True, autopct = '%1.1f%%',figsize = (8,8))\n",
    "plt.title('Model Cars')"
   ]
  },
  {
   "cell_type": "markdown",
   "id": "f1518041",
   "metadata": {
    "papermill": {
     "duration": 0.012658,
     "end_time": "2022-11-12T17:26:57.857187",
     "exception": false,
     "start_time": "2022-11-12T17:26:57.844529",
     "status": "completed"
    },
    "tags": []
   },
   "source": [
    "# Preprocesamiento"
   ]
  },
  {
   "cell_type": "code",
   "execution_count": 18,
   "id": "8d7d5f47",
   "metadata": {
    "execution": {
     "iopub.execute_input": "2022-11-12T17:26:57.885874Z",
     "iopub.status.busy": "2022-11-12T17:26:57.885165Z",
     "iopub.status.idle": "2022-11-12T17:26:57.899451Z",
     "shell.execute_reply": "2022-11-12T17:26:57.898701Z"
    },
    "papermill": {
     "duration": 0.031213,
     "end_time": "2022-11-12T17:26:57.901447",
     "exception": false,
     "start_time": "2022-11-12T17:26:57.870234",
     "status": "completed"
    },
    "tags": []
   },
   "outputs": [
    {
     "data": {
      "text/html": [
       "<div>\n",
       "<style scoped>\n",
       "    .dataframe tbody tr th:only-of-type {\n",
       "        vertical-align: middle;\n",
       "    }\n",
       "\n",
       "    .dataframe tbody tr th {\n",
       "        vertical-align: top;\n",
       "    }\n",
       "\n",
       "    .dataframe thead th {\n",
       "        text-align: right;\n",
       "    }\n",
       "</style>\n",
       "<table border=\"1\" class=\"dataframe\">\n",
       "  <thead>\n",
       "    <tr style=\"text-align: right;\">\n",
       "      <th></th>\n",
       "      <th>InvoiceNo</th>\n",
       "      <th>StockCode</th>\n",
       "      <th>Description</th>\n",
       "      <th>Quantity</th>\n",
       "      <th>InvoiceDate</th>\n",
       "      <th>UnitPrice</th>\n",
       "      <th>CustomerID</th>\n",
       "      <th>Country</th>\n",
       "    </tr>\n",
       "  </thead>\n",
       "  <tbody>\n",
       "    <tr>\n",
       "      <th>0</th>\n",
       "      <td>536365</td>\n",
       "      <td>85123A</td>\n",
       "      <td>WHITE HANGING HEART T-LIGHT HOLDER</td>\n",
       "      <td>6</td>\n",
       "      <td>01-12-2010 08:26</td>\n",
       "      <td>2.55</td>\n",
       "      <td>17850.0</td>\n",
       "      <td>United Kingdom</td>\n",
       "    </tr>\n",
       "    <tr>\n",
       "      <th>1</th>\n",
       "      <td>536365</td>\n",
       "      <td>71053</td>\n",
       "      <td>WHITE METAL LANTERN</td>\n",
       "      <td>6</td>\n",
       "      <td>01-12-2010 08:26</td>\n",
       "      <td>3.39</td>\n",
       "      <td>17850.0</td>\n",
       "      <td>United Kingdom</td>\n",
       "    </tr>\n",
       "    <tr>\n",
       "      <th>2</th>\n",
       "      <td>536365</td>\n",
       "      <td>84406B</td>\n",
       "      <td>CREAM CUPID HEARTS COAT HANGER</td>\n",
       "      <td>8</td>\n",
       "      <td>01-12-2010 08:26</td>\n",
       "      <td>2.75</td>\n",
       "      <td>17850.0</td>\n",
       "      <td>United Kingdom</td>\n",
       "    </tr>\n",
       "    <tr>\n",
       "      <th>3</th>\n",
       "      <td>536365</td>\n",
       "      <td>84029G</td>\n",
       "      <td>KNITTED UNION FLAG HOT WATER BOTTLE</td>\n",
       "      <td>6</td>\n",
       "      <td>01-12-2010 08:26</td>\n",
       "      <td>3.39</td>\n",
       "      <td>17850.0</td>\n",
       "      <td>United Kingdom</td>\n",
       "    </tr>\n",
       "    <tr>\n",
       "      <th>4</th>\n",
       "      <td>536365</td>\n",
       "      <td>84029E</td>\n",
       "      <td>RED WOOLLY HOTTIE WHITE HEART.</td>\n",
       "      <td>6</td>\n",
       "      <td>01-12-2010 08:26</td>\n",
       "      <td>3.39</td>\n",
       "      <td>17850.0</td>\n",
       "      <td>United Kingdom</td>\n",
       "    </tr>\n",
       "  </tbody>\n",
       "</table>\n",
       "</div>"
      ],
      "text/plain": [
       "  InvoiceNo StockCode                          Description  Quantity  \\\n",
       "0    536365    85123A   WHITE HANGING HEART T-LIGHT HOLDER         6   \n",
       "1    536365     71053                  WHITE METAL LANTERN         6   \n",
       "2    536365    84406B       CREAM CUPID HEARTS COAT HANGER         8   \n",
       "3    536365    84029G  KNITTED UNION FLAG HOT WATER BOTTLE         6   \n",
       "4    536365    84029E       RED WOOLLY HOTTIE WHITE HEART.         6   \n",
       "\n",
       "        InvoiceDate  UnitPrice  CustomerID         Country  \n",
       "0  01-12-2010 08:26       2.55     17850.0  United Kingdom  \n",
       "1  01-12-2010 08:26       3.39     17850.0  United Kingdom  \n",
       "2  01-12-2010 08:26       2.75     17850.0  United Kingdom  \n",
       "3  01-12-2010 08:26       3.39     17850.0  United Kingdom  \n",
       "4  01-12-2010 08:26       3.39     17850.0  United Kingdom  "
      ]
     },
     "execution_count": 18,
     "metadata": {},
     "output_type": "execute_result"
    }
   ],
   "source": [
    "df.head()"
   ]
  },
  {
   "cell_type": "code",
   "execution_count": 19,
   "id": "02d60f0f",
   "metadata": {
    "execution": {
     "iopub.execute_input": "2022-11-12T17:26:57.924159Z",
     "iopub.status.busy": "2022-11-12T17:26:57.923520Z",
     "iopub.status.idle": "2022-11-12T17:26:57.949020Z",
     "shell.execute_reply": "2022-11-12T17:26:57.948268Z"
    },
    "papermill": {
     "duration": 0.039172,
     "end_time": "2022-11-12T17:26:57.951099",
     "exception": false,
     "start_time": "2022-11-12T17:26:57.911927",
     "status": "completed"
    },
    "tags": []
   },
   "outputs": [],
   "source": [
    "cut = df.drop(columns = ['Description', 'InvoiceDate', 'CustomerID'])"
   ]
  },
  {
   "cell_type": "code",
   "execution_count": 20,
   "id": "3380f0d7",
   "metadata": {
    "execution": {
     "iopub.execute_input": "2022-11-12T17:26:57.973219Z",
     "iopub.status.busy": "2022-11-12T17:26:57.972544Z",
     "iopub.status.idle": "2022-11-12T17:26:58.537316Z",
     "shell.execute_reply": "2022-11-12T17:26:58.535835Z"
    },
    "papermill": {
     "duration": 0.579203,
     "end_time": "2022-11-12T17:26:58.540266",
     "exception": false,
     "start_time": "2022-11-12T17:26:57.961063",
     "status": "completed"
    },
    "tags": []
   },
   "outputs": [],
   "source": [
    "from sklearn import preprocessing\n",
    "\n",
    "encoder = preprocessing.LabelEncoder()\n",
    "cut['Country'] = encoder.fit_transform(cut['Country'])\n",
    "cut['InvoiceNo'] = encoder.fit_transform(cut['InvoiceNo'])\n",
    "cut['StockCode'] = encoder.fit_transform(cut['StockCode'])"
   ]
  },
  {
   "cell_type": "code",
   "execution_count": 21,
   "id": "8f4441a1",
   "metadata": {
    "execution": {
     "iopub.execute_input": "2022-11-12T17:26:58.563807Z",
     "iopub.status.busy": "2022-11-12T17:26:58.563367Z",
     "iopub.status.idle": "2022-11-12T17:26:58.570446Z",
     "shell.execute_reply": "2022-11-12T17:26:58.568471Z"
    },
    "papermill": {
     "duration": 0.021634,
     "end_time": "2022-11-12T17:26:58.572915",
     "exception": false,
     "start_time": "2022-11-12T17:26:58.551281",
     "status": "completed"
    },
    "tags": []
   },
   "outputs": [],
   "source": [
    "cut.shape\n",
    "dt = cut"
   ]
  },
  {
   "cell_type": "code",
   "execution_count": 22,
   "id": "aa7d4436",
   "metadata": {
    "execution": {
     "iopub.execute_input": "2022-11-12T17:26:58.595589Z",
     "iopub.status.busy": "2022-11-12T17:26:58.595160Z",
     "iopub.status.idle": "2022-11-12T17:26:58.613026Z",
     "shell.execute_reply": "2022-11-12T17:26:58.611929Z"
    },
    "papermill": {
     "duration": 0.032514,
     "end_time": "2022-11-12T17:26:58.615873",
     "exception": false,
     "start_time": "2022-11-12T17:26:58.583359",
     "status": "completed"
    },
    "tags": []
   },
   "outputs": [],
   "source": [
    "array = dt.values\n",
    "X = array[:, 0:4]\n",
    "Y = array[:, 4]"
   ]
  },
  {
   "cell_type": "code",
   "execution_count": 23,
   "id": "a37e0b83",
   "metadata": {
    "execution": {
     "iopub.execute_input": "2022-11-12T17:26:58.638161Z",
     "iopub.status.busy": "2022-11-12T17:26:58.637791Z",
     "iopub.status.idle": "2022-11-12T17:26:58.677023Z",
     "shell.execute_reply": "2022-11-12T17:26:58.675473Z"
    },
    "papermill": {
     "duration": 0.053457,
     "end_time": "2022-11-12T17:26:58.679723",
     "exception": false,
     "start_time": "2022-11-12T17:26:58.626266",
     "status": "completed"
    },
    "tags": []
   },
   "outputs": [],
   "source": [
    "from sklearn.preprocessing import MinMaxScaler\n",
    "from sklearn.preprocessing import StandardScaler\n",
    "\n",
    "scaler = MinMaxScaler(feature_range=(0,1))\n",
    "rescalerX = scaler.fit_transform(X)\n",
    "\n",
    "estandar = StandardScaler().fit(rescalerX)\n",
    "estandarX = estandar.transform(rescalerX)\n",
    "\n",
    "X = estandarX"
   ]
  },
  {
   "cell_type": "markdown",
   "id": "ca48bd1e",
   "metadata": {
    "papermill": {
     "duration": 0.009699,
     "end_time": "2022-11-12T17:26:58.699708",
     "exception": false,
     "start_time": "2022-11-12T17:26:58.690009",
     "status": "completed"
    },
    "tags": []
   },
   "source": [
    "# Clusters"
   ]
  },
  {
   "cell_type": "code",
   "execution_count": 24,
   "id": "dcceb918",
   "metadata": {
    "execution": {
     "iopub.execute_input": "2022-11-12T17:26:58.721972Z",
     "iopub.status.busy": "2022-11-12T17:26:58.721180Z",
     "iopub.status.idle": "2022-11-12T17:26:59.014613Z",
     "shell.execute_reply": "2022-11-12T17:26:59.013580Z"
    },
    "papermill": {
     "duration": 0.307561,
     "end_time": "2022-11-12T17:26:59.017155",
     "exception": false,
     "start_time": "2022-11-12T17:26:58.709594",
     "status": "completed"
    },
    "tags": []
   },
   "outputs": [],
   "source": [
    "from sklearn.cluster import KMeans"
   ]
  },
  {
   "cell_type": "code",
   "execution_count": 25,
   "id": "83031a90",
   "metadata": {
    "execution": {
     "iopub.execute_input": "2022-11-12T17:26:59.039203Z",
     "iopub.status.busy": "2022-11-12T17:26:59.038733Z",
     "iopub.status.idle": "2022-11-12T17:27:52.367342Z",
     "shell.execute_reply": "2022-11-12T17:27:52.365510Z"
    },
    "papermill": {
     "duration": 53.343152,
     "end_time": "2022-11-12T17:27:52.370214",
     "exception": false,
     "start_time": "2022-11-12T17:26:59.027062",
     "status": "completed"
    },
    "tags": []
   },
   "outputs": [],
   "source": [
    "wcss = []\n",
    "\n",
    "for i in range(1, 11):\n",
    "    kmeans = KMeans(n_clusters=i,max_iter = 300, random_state=0).fit(X)\n",
    "    wcss.append(kmeans.inertia_)"
   ]
  },
  {
   "cell_type": "code",
   "execution_count": 26,
   "id": "5e55001c",
   "metadata": {
    "execution": {
     "iopub.execute_input": "2022-11-12T17:27:52.392697Z",
     "iopub.status.busy": "2022-11-12T17:27:52.392206Z",
     "iopub.status.idle": "2022-11-12T17:27:52.534248Z",
     "shell.execute_reply": "2022-11-12T17:27:52.533010Z"
    },
    "papermill": {
     "duration": 0.155697,
     "end_time": "2022-11-12T17:27:52.536364",
     "exception": false,
     "start_time": "2022-11-12T17:27:52.380667",
     "status": "completed"
    },
    "tags": []
   },
   "outputs": [
    {
     "data": {
      "text/plain": [
       "<function matplotlib.pyplot.show(close=None, block=None)>"
      ]
     },
     "execution_count": 26,
     "metadata": {},
     "output_type": "execute_result"
    },
    {
     "data": {
      "image/png": "[encoded data removed]",
      "text/plain": [
       "<Figure size 432x288 with 1 Axes>"
      ]
     },
     "metadata": {
      "needs_background": "light"
     },
     "output_type": "display_data"
    }
   ],
   "source": [
    "plt.plot(range(1, 11), wcss)\n",
    "plt.title('Codo Jambu')\n",
    "plt.xlabel('Numero de Cluster')\n",
    "plt.ylabel('Wcss')\n",
    "plt.show"
   ]
  },
  {
   "cell_type": "code",
   "execution_count": 27,
   "id": "45723ce6",
   "metadata": {
    "execution": {
     "iopub.execute_input": "2022-11-12T17:27:52.560993Z",
     "iopub.status.busy": "2022-11-12T17:27:52.560596Z",
     "iopub.status.idle": "2022-11-12T17:27:58.221814Z",
     "shell.execute_reply": "2022-11-12T17:27:58.220022Z"
    },
    "papermill": {
     "duration": 5.676266,
     "end_time": "2022-11-12T17:27:58.224586",
     "exception": false,
     "start_time": "2022-11-12T17:27:52.548320",
     "status": "completed"
    },
    "tags": []
   },
   "outputs": [],
   "source": [
    "clustering = KMeans(n_clusters=6, random_state=0).fit(X)"
   ]
  },
  {
   "cell_type": "code",
   "execution_count": 28,
   "id": "05861164",
   "metadata": {
    "execution": {
     "iopub.execute_input": "2022-11-12T17:27:58.248781Z",
     "iopub.status.busy": "2022-11-12T17:27:58.248357Z",
     "iopub.status.idle": "2022-11-12T17:27:58.263965Z",
     "shell.execute_reply": "2022-11-12T17:27:58.262660Z"
    },
    "papermill": {
     "duration": 0.03104,
     "end_time": "2022-11-12T17:27:58.266675",
     "exception": false,
     "start_time": "2022-11-12T17:27:58.235635",
     "status": "completed"
    },
    "tags": []
   },
   "outputs": [
    {
     "data": {
      "text/html": [
       "<div>\n",
       "<style scoped>\n",
       "    .dataframe tbody tr th:only-of-type {\n",
       "        vertical-align: middle;\n",
       "    }\n",
       "\n",
       "    .dataframe tbody tr th {\n",
       "        vertical-align: top;\n",
       "    }\n",
       "\n",
       "    .dataframe thead th {\n",
       "        text-align: right;\n",
       "    }\n",
       "</style>\n",
       "<table border=\"1\" class=\"dataframe\">\n",
       "  <thead>\n",
       "    <tr style=\"text-align: right;\">\n",
       "      <th></th>\n",
       "      <th>InvoiceNo</th>\n",
       "      <th>StockCode</th>\n",
       "      <th>Quantity</th>\n",
       "      <th>UnitPrice</th>\n",
       "      <th>Country</th>\n",
       "      <th>Cluster</th>\n",
       "    </tr>\n",
       "  </thead>\n",
       "  <tbody>\n",
       "    <tr>\n",
       "      <th>0</th>\n",
       "      <td>0</td>\n",
       "      <td>3536</td>\n",
       "      <td>6</td>\n",
       "      <td>2.55</td>\n",
       "      <td>36</td>\n",
       "      <td>0</td>\n",
       "    </tr>\n",
       "    <tr>\n",
       "      <th>1</th>\n",
       "      <td>0</td>\n",
       "      <td>2794</td>\n",
       "      <td>6</td>\n",
       "      <td>3.39</td>\n",
       "      <td>36</td>\n",
       "      <td>0</td>\n",
       "    </tr>\n",
       "    <tr>\n",
       "      <th>2</th>\n",
       "      <td>0</td>\n",
       "      <td>3044</td>\n",
       "      <td>8</td>\n",
       "      <td>2.75</td>\n",
       "      <td>36</td>\n",
       "      <td>0</td>\n",
       "    </tr>\n",
       "    <tr>\n",
       "      <th>3</th>\n",
       "      <td>0</td>\n",
       "      <td>2985</td>\n",
       "      <td>6</td>\n",
       "      <td>3.39</td>\n",
       "      <td>36</td>\n",
       "      <td>0</td>\n",
       "    </tr>\n",
       "    <tr>\n",
       "      <th>4</th>\n",
       "      <td>0</td>\n",
       "      <td>2984</td>\n",
       "      <td>6</td>\n",
       "      <td>3.39</td>\n",
       "      <td>36</td>\n",
       "      <td>0</td>\n",
       "    </tr>\n",
       "  </tbody>\n",
       "</table>\n",
       "</div>"
      ],
      "text/plain": [
       "   InvoiceNo  StockCode  Quantity  UnitPrice  Country  Cluster\n",
       "0          0       3536         6       2.55       36        0\n",
       "1          0       2794         6       3.39       36        0\n",
       "2          0       3044         8       2.75       36        0\n",
       "3          0       2985         6       3.39       36        0\n",
       "4          0       2984         6       3.39       36        0"
      ]
     },
     "execution_count": 28,
     "metadata": {},
     "output_type": "execute_result"
    }
   ],
   "source": [
    "dt['Cluster'] = clustering.labels_\n",
    "dt.head()"
   ]
  }
 ],
 "metadata": {
  "kernelspec": {
   "display_name": "Python 3",
   "language": "python",
   "name": "python3"
  },
  "language_info": {
   "codemirror_mode": {
    "name": "ipython",
    "version": 3
   },
   "file_extension": ".py",
   "mimetype": "text/x-python",
   "name": "python",
   "nbconvert_exporter": "python",
   "pygments_lexer": "ipython3",
   "version": "3.7.12"
  },
  "papermill": {
   "default_parameters": {},
   "duration": 168.89368,
   "end_time": "2022-11-12T17:27:59.202466",
   "environment_variables": {},
   "exception": null,
   "input_path": "__notebook__.ipynb",
   "output_path": "__notebook__.ipynb",
   "parameters": {},
   "start_time": "2022-11-12T17:25:10.308786",
   "version": "2.3.4"
  }
 },
 "nbformat": 4,
 "nbformat_minor": 5
}
