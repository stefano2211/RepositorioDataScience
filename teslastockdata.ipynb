{
 "cells": [
  {
   "cell_type": "code",
   "execution_count": 1,
   "id": "1e6911a0",
   "metadata": {
    "_cell_guid": "b1076dfc-b9ad-4769-8c92-a6c4dae69d19",
    "_uuid": "8f2839f25d086af736a60e9eeb907d3b93b6e0e5",
    "execution": {
     "iopub.execute_input": "2022-11-12T00:21:29.476695Z",
     "iopub.status.busy": "2022-11-12T00:21:29.476199Z",
     "iopub.status.idle": "2022-11-12T00:21:29.496119Z",
     "shell.execute_reply": "2022-11-12T00:21:29.494902Z"
    },
    "papermill": {
     "duration": 0.032578,
     "end_time": "2022-11-12T00:21:29.498930",
     "exception": false,
     "start_time": "2022-11-12T00:21:29.466352",
     "status": "completed"
    },
    "tags": []
   },
   "outputs": [
    {
     "name": "stdout",
     "output_type": "stream",
     "text": [
      "/kaggle/input/tesla-stock-data-from-2010-to-2020/TSLA.csv\n"
     ]
    }
   ],
   "source": [
    "# This Python 3 environment comes with many helpful analytics libraries installed\n",
    "# It is defined by the kaggle/python Docker image: https://github.com/kaggle/docker-python\n",
    "# For example, here's several helpful packages to load\n",
    "\n",
    "import numpy as np # linear algebra\n",
    "import pandas as pd # data processing, CSV file I/O (e.g. pd.read_csv)\n",
    "import matplotlib.pyplot as plt\n",
    "\n",
    "# Input data files are available in the read-only \"../input/\" directory\n",
    "# For example, running this (by clicking run or pressing Shift+Enter) will list all files under the input directory\n",
    "\n",
    "import os\n",
    "for dirname, _, filenames in os.walk('/kaggle/input'):\n",
    "    for filename in filenames:\n",
    "        print(os.path.join(dirname, filename))\n",
    "\n",
    "# You can write up to 20GB to the current directory (/kaggle/working/) that gets preserved as output when you create a version using \"Save & Run All\" \n",
    "# You can also write temporary files to /kaggle/temp/, but they won't be saved outside of the current session"
   ]
  },
  {
   "cell_type": "markdown",
   "id": "c79dfcc4",
   "metadata": {
    "papermill": {
     "duration": 0.006754,
     "end_time": "2022-11-12T00:21:29.513164",
     "exception": false,
     "start_time": "2022-11-12T00:21:29.506410",
     "status": "completed"
    },
    "tags": []
   },
   "source": [
    "# Importe CSV"
   ]
  },
  {
   "cell_type": "code",
   "execution_count": 2,
   "id": "95586258",
   "metadata": {
    "execution": {
     "iopub.execute_input": "2022-11-12T00:21:29.529496Z",
     "iopub.status.busy": "2022-11-12T00:21:29.528376Z",
     "iopub.status.idle": "2022-11-12T00:21:29.555782Z",
     "shell.execute_reply": "2022-11-12T00:21:29.554922Z"
    },
    "papermill": {
     "duration": 0.03817,
     "end_time": "2022-11-12T00:21:29.558308",
     "exception": false,
     "start_time": "2022-11-12T00:21:29.520138",
     "status": "completed"
    },
    "tags": []
   },
   "outputs": [],
   "source": [
    "dataframe = pd.read_csv('../input/tesla-stock-data-from-2010-to-2020/TSLA.csv')\n",
    "df = dataframe"
   ]
  },
  {
   "cell_type": "markdown",
   "id": "e84aac26",
   "metadata": {
    "papermill": {
     "duration": 0.006696,
     "end_time": "2022-11-12T00:21:29.572027",
     "exception": false,
     "start_time": "2022-11-12T00:21:29.565331",
     "status": "completed"
    },
    "tags": []
   },
   "source": [
    "# Estudio de los datos"
   ]
  },
  {
   "cell_type": "code",
   "execution_count": 3,
   "id": "eb112a2e",
   "metadata": {
    "execution": {
     "iopub.execute_input": "2022-11-12T00:21:29.587949Z",
     "iopub.status.busy": "2022-11-12T00:21:29.587536Z",
     "iopub.status.idle": "2022-11-12T00:21:29.618647Z",
     "shell.execute_reply": "2022-11-12T00:21:29.617783Z"
    },
    "papermill": {
     "duration": 0.042374,
     "end_time": "2022-11-12T00:21:29.621401",
     "exception": false,
     "start_time": "2022-11-12T00:21:29.579027",
     "status": "completed"
    },
    "tags": []
   },
   "outputs": [
    {
     "data": {
      "text/html": [
       "<div>\n",
       "<style scoped>\n",
       "    .dataframe tbody tr th:only-of-type {\n",
       "        vertical-align: middle;\n",
       "    }\n",
       "\n",
       "    .dataframe tbody tr th {\n",
       "        vertical-align: top;\n",
       "    }\n",
       "\n",
       "    .dataframe thead th {\n",
       "        text-align: right;\n",
       "    }\n",
       "</style>\n",
       "<table border=\"1\" class=\"dataframe\">\n",
       "  <thead>\n",
       "    <tr style=\"text-align: right;\">\n",
       "      <th></th>\n",
       "      <th>Date</th>\n",
       "      <th>Open</th>\n",
       "      <th>High</th>\n",
       "      <th>Low</th>\n",
       "      <th>Close</th>\n",
       "      <th>Adj Close</th>\n",
       "      <th>Volume</th>\n",
       "    </tr>\n",
       "  </thead>\n",
       "  <tbody>\n",
       "    <tr>\n",
       "      <th>0</th>\n",
       "      <td>2010-06-29</td>\n",
       "      <td>19.000000</td>\n",
       "      <td>25.00</td>\n",
       "      <td>17.540001</td>\n",
       "      <td>23.889999</td>\n",
       "      <td>23.889999</td>\n",
       "      <td>18766300</td>\n",
       "    </tr>\n",
       "    <tr>\n",
       "      <th>1</th>\n",
       "      <td>2010-06-30</td>\n",
       "      <td>25.790001</td>\n",
       "      <td>30.42</td>\n",
       "      <td>23.299999</td>\n",
       "      <td>23.830000</td>\n",
       "      <td>23.830000</td>\n",
       "      <td>17187100</td>\n",
       "    </tr>\n",
       "    <tr>\n",
       "      <th>2</th>\n",
       "      <td>2010-07-01</td>\n",
       "      <td>25.000000</td>\n",
       "      <td>25.92</td>\n",
       "      <td>20.270000</td>\n",
       "      <td>21.959999</td>\n",
       "      <td>21.959999</td>\n",
       "      <td>8218800</td>\n",
       "    </tr>\n",
       "    <tr>\n",
       "      <th>3</th>\n",
       "      <td>2010-07-02</td>\n",
       "      <td>23.000000</td>\n",
       "      <td>23.10</td>\n",
       "      <td>18.709999</td>\n",
       "      <td>19.200001</td>\n",
       "      <td>19.200001</td>\n",
       "      <td>5139800</td>\n",
       "    </tr>\n",
       "    <tr>\n",
       "      <th>4</th>\n",
       "      <td>2010-07-06</td>\n",
       "      <td>20.000000</td>\n",
       "      <td>20.00</td>\n",
       "      <td>15.830000</td>\n",
       "      <td>16.110001</td>\n",
       "      <td>16.110001</td>\n",
       "      <td>6866900</td>\n",
       "    </tr>\n",
       "  </tbody>\n",
       "</table>\n",
       "</div>"
      ],
      "text/plain": [
       "         Date       Open   High        Low      Close  Adj Close    Volume\n",
       "0  2010-06-29  19.000000  25.00  17.540001  23.889999  23.889999  18766300\n",
       "1  2010-06-30  25.790001  30.42  23.299999  23.830000  23.830000  17187100\n",
       "2  2010-07-01  25.000000  25.92  20.270000  21.959999  21.959999   8218800\n",
       "3  2010-07-02  23.000000  23.10  18.709999  19.200001  19.200001   5139800\n",
       "4  2010-07-06  20.000000  20.00  15.830000  16.110001  16.110001   6866900"
      ]
     },
     "execution_count": 3,
     "metadata": {},
     "output_type": "execute_result"
    }
   ],
   "source": [
    "df.head()"
   ]
  },
  {
   "cell_type": "code",
   "execution_count": 4,
   "id": "26471dfe",
   "metadata": {
    "execution": {
     "iopub.execute_input": "2022-11-12T00:21:29.638226Z",
     "iopub.status.busy": "2022-11-12T00:21:29.637483Z",
     "iopub.status.idle": "2022-11-12T00:21:29.649921Z",
     "shell.execute_reply": "2022-11-12T00:21:29.648646Z"
    },
    "papermill": {
     "duration": 0.023854,
     "end_time": "2022-11-12T00:21:29.652669",
     "exception": false,
     "start_time": "2022-11-12T00:21:29.628815",
     "status": "completed"
    },
    "tags": []
   },
   "outputs": [],
   "source": [
    "df[\"Date\"] = pd.to_datetime(df['Date'])"
   ]
  },
  {
   "cell_type": "code",
   "execution_count": 5,
   "id": "460ea23c",
   "metadata": {
    "execution": {
     "iopub.execute_input": "2022-11-12T00:21:29.669197Z",
     "iopub.status.busy": "2022-11-12T00:21:29.668753Z",
     "iopub.status.idle": "2022-11-12T00:21:29.695484Z",
     "shell.execute_reply": "2022-11-12T00:21:29.694059Z"
    },
    "papermill": {
     "duration": 0.038205,
     "end_time": "2022-11-12T00:21:29.698365",
     "exception": false,
     "start_time": "2022-11-12T00:21:29.660160",
     "status": "completed"
    },
    "tags": []
   },
   "outputs": [
    {
     "name": "stdout",
     "output_type": "stream",
     "text": [
      "<class 'pandas.core.frame.DataFrame'>\n",
      "RangeIndex: 2416 entries, 0 to 2415\n",
      "Data columns (total 7 columns):\n",
      " #   Column     Non-Null Count  Dtype         \n",
      "---  ------     --------------  -----         \n",
      " 0   Date       2416 non-null   datetime64[ns]\n",
      " 1   Open       2416 non-null   float64       \n",
      " 2   High       2416 non-null   float64       \n",
      " 3   Low        2416 non-null   float64       \n",
      " 4   Close      2416 non-null   float64       \n",
      " 5   Adj Close  2416 non-null   float64       \n",
      " 6   Volume     2416 non-null   int64         \n",
      "dtypes: datetime64[ns](1), float64(5), int64(1)\n",
      "memory usage: 132.2 KB\n"
     ]
    }
   ],
   "source": [
    "df.info()"
   ]
  },
  {
   "cell_type": "code",
   "execution_count": 6,
   "id": "3b0f4381",
   "metadata": {
    "execution": {
     "iopub.execute_input": "2022-11-12T00:21:29.714937Z",
     "iopub.status.busy": "2022-11-12T00:21:29.714530Z",
     "iopub.status.idle": "2022-11-12T00:21:29.730829Z",
     "shell.execute_reply": "2022-11-12T00:21:29.729648Z"
    },
    "papermill": {
     "duration": 0.027335,
     "end_time": "2022-11-12T00:21:29.733253",
     "exception": false,
     "start_time": "2022-11-12T00:21:29.705918",
     "status": "completed"
    },
    "tags": []
   },
   "outputs": [
    {
     "data": {
      "text/html": [
       "<div>\n",
       "<style scoped>\n",
       "    .dataframe tbody tr th:only-of-type {\n",
       "        vertical-align: middle;\n",
       "    }\n",
       "\n",
       "    .dataframe tbody tr th {\n",
       "        vertical-align: top;\n",
       "    }\n",
       "\n",
       "    .dataframe thead th {\n",
       "        text-align: right;\n",
       "    }\n",
       "</style>\n",
       "<table border=\"1\" class=\"dataframe\">\n",
       "  <thead>\n",
       "    <tr style=\"text-align: right;\">\n",
       "      <th></th>\n",
       "      <th>Open</th>\n",
       "      <th>High</th>\n",
       "      <th>Low</th>\n",
       "      <th>Close</th>\n",
       "      <th>Adj Close</th>\n",
       "      <th>Volume</th>\n",
       "    </tr>\n",
       "    <tr>\n",
       "      <th>Date</th>\n",
       "      <th></th>\n",
       "      <th></th>\n",
       "      <th></th>\n",
       "      <th></th>\n",
       "      <th></th>\n",
       "      <th></th>\n",
       "    </tr>\n",
       "  </thead>\n",
       "  <tbody>\n",
       "    <tr>\n",
       "      <th>2020-01-28</th>\n",
       "      <td>568.489990</td>\n",
       "      <td>576.809998</td>\n",
       "      <td>558.080017</td>\n",
       "      <td>566.900024</td>\n",
       "      <td>566.900024</td>\n",
       "      <td>11788500</td>\n",
       "    </tr>\n",
       "    <tr>\n",
       "      <th>2020-01-29</th>\n",
       "      <td>575.690002</td>\n",
       "      <td>589.799988</td>\n",
       "      <td>567.429993</td>\n",
       "      <td>580.989990</td>\n",
       "      <td>580.989990</td>\n",
       "      <td>17801500</td>\n",
       "    </tr>\n",
       "    <tr>\n",
       "      <th>2020-01-30</th>\n",
       "      <td>632.419983</td>\n",
       "      <td>650.880005</td>\n",
       "      <td>618.000000</td>\n",
       "      <td>640.809998</td>\n",
       "      <td>640.809998</td>\n",
       "      <td>29005700</td>\n",
       "    </tr>\n",
       "    <tr>\n",
       "      <th>2020-01-31</th>\n",
       "      <td>640.000000</td>\n",
       "      <td>653.000000</td>\n",
       "      <td>632.520020</td>\n",
       "      <td>650.570007</td>\n",
       "      <td>650.570007</td>\n",
       "      <td>15719300</td>\n",
       "    </tr>\n",
       "    <tr>\n",
       "      <th>2020-02-03</th>\n",
       "      <td>673.690002</td>\n",
       "      <td>786.140015</td>\n",
       "      <td>673.520020</td>\n",
       "      <td>780.000000</td>\n",
       "      <td>780.000000</td>\n",
       "      <td>47065000</td>\n",
       "    </tr>\n",
       "  </tbody>\n",
       "</table>\n",
       "</div>"
      ],
      "text/plain": [
       "                  Open        High         Low       Close   Adj Close  \\\n",
       "Date                                                                     \n",
       "2020-01-28  568.489990  576.809998  558.080017  566.900024  566.900024   \n",
       "2020-01-29  575.690002  589.799988  567.429993  580.989990  580.989990   \n",
       "2020-01-30  632.419983  650.880005  618.000000  640.809998  640.809998   \n",
       "2020-01-31  640.000000  653.000000  632.520020  650.570007  650.570007   \n",
       "2020-02-03  673.690002  786.140015  673.520020  780.000000  780.000000   \n",
       "\n",
       "              Volume  \n",
       "Date                  \n",
       "2020-01-28  11788500  \n",
       "2020-01-29  17801500  \n",
       "2020-01-30  29005700  \n",
       "2020-01-31  15719300  \n",
       "2020-02-03  47065000  "
      ]
     },
     "execution_count": 6,
     "metadata": {},
     "output_type": "execute_result"
    }
   ],
   "source": [
    "stock = df.set_index('Date')\n",
    "stock.tail()"
   ]
  },
  {
   "cell_type": "code",
   "execution_count": 7,
   "id": "d601e6e8",
   "metadata": {
    "execution": {
     "iopub.execute_input": "2022-11-12T00:21:29.751178Z",
     "iopub.status.busy": "2022-11-12T00:21:29.750767Z",
     "iopub.status.idle": "2022-11-12T00:21:29.786656Z",
     "shell.execute_reply": "2022-11-12T00:21:29.785466Z"
    },
    "papermill": {
     "duration": 0.047325,
     "end_time": "2022-11-12T00:21:29.789253",
     "exception": false,
     "start_time": "2022-11-12T00:21:29.741928",
     "status": "completed"
    },
    "tags": []
   },
   "outputs": [
    {
     "data": {
      "text/html": [
       "<div>\n",
       "<style scoped>\n",
       "    .dataframe tbody tr th:only-of-type {\n",
       "        vertical-align: middle;\n",
       "    }\n",
       "\n",
       "    .dataframe tbody tr th {\n",
       "        vertical-align: top;\n",
       "    }\n",
       "\n",
       "    .dataframe thead th {\n",
       "        text-align: right;\n",
       "    }\n",
       "</style>\n",
       "<table border=\"1\" class=\"dataframe\">\n",
       "  <thead>\n",
       "    <tr style=\"text-align: right;\">\n",
       "      <th></th>\n",
       "      <th>Open</th>\n",
       "      <th>High</th>\n",
       "      <th>Low</th>\n",
       "      <th>Close</th>\n",
       "      <th>Adj Close</th>\n",
       "      <th>Volume</th>\n",
       "    </tr>\n",
       "  </thead>\n",
       "  <tbody>\n",
       "    <tr>\n",
       "      <th>count</th>\n",
       "      <td>2416.000000</td>\n",
       "      <td>2416.000000</td>\n",
       "      <td>2416.000000</td>\n",
       "      <td>2416.000000</td>\n",
       "      <td>2416.000000</td>\n",
       "      <td>2.416000e+03</td>\n",
       "    </tr>\n",
       "    <tr>\n",
       "      <th>mean</th>\n",
       "      <td>186.271147</td>\n",
       "      <td>189.578224</td>\n",
       "      <td>182.916639</td>\n",
       "      <td>186.403651</td>\n",
       "      <td>186.403651</td>\n",
       "      <td>5.572722e+06</td>\n",
       "    </tr>\n",
       "    <tr>\n",
       "      <th>std</th>\n",
       "      <td>118.740163</td>\n",
       "      <td>120.892329</td>\n",
       "      <td>116.857591</td>\n",
       "      <td>119.136020</td>\n",
       "      <td>119.136020</td>\n",
       "      <td>4.987809e+06</td>\n",
       "    </tr>\n",
       "    <tr>\n",
       "      <th>min</th>\n",
       "      <td>16.139999</td>\n",
       "      <td>16.629999</td>\n",
       "      <td>14.980000</td>\n",
       "      <td>15.800000</td>\n",
       "      <td>15.800000</td>\n",
       "      <td>1.185000e+05</td>\n",
       "    </tr>\n",
       "    <tr>\n",
       "      <th>25%</th>\n",
       "      <td>34.342498</td>\n",
       "      <td>34.897501</td>\n",
       "      <td>33.587501</td>\n",
       "      <td>34.400002</td>\n",
       "      <td>34.400002</td>\n",
       "      <td>1.899275e+06</td>\n",
       "    </tr>\n",
       "    <tr>\n",
       "      <th>50%</th>\n",
       "      <td>213.035004</td>\n",
       "      <td>216.745002</td>\n",
       "      <td>208.870002</td>\n",
       "      <td>212.960007</td>\n",
       "      <td>212.960007</td>\n",
       "      <td>4.578400e+06</td>\n",
       "    </tr>\n",
       "    <tr>\n",
       "      <th>75%</th>\n",
       "      <td>266.450012</td>\n",
       "      <td>270.927513</td>\n",
       "      <td>262.102501</td>\n",
       "      <td>266.774994</td>\n",
       "      <td>266.774994</td>\n",
       "      <td>7.361150e+06</td>\n",
       "    </tr>\n",
       "    <tr>\n",
       "      <th>max</th>\n",
       "      <td>673.690002</td>\n",
       "      <td>786.140015</td>\n",
       "      <td>673.520020</td>\n",
       "      <td>780.000000</td>\n",
       "      <td>780.000000</td>\n",
       "      <td>4.706500e+07</td>\n",
       "    </tr>\n",
       "  </tbody>\n",
       "</table>\n",
       "</div>"
      ],
      "text/plain": [
       "              Open         High          Low        Close    Adj Close  \\\n",
       "count  2416.000000  2416.000000  2416.000000  2416.000000  2416.000000   \n",
       "mean    186.271147   189.578224   182.916639   186.403651   186.403651   \n",
       "std     118.740163   120.892329   116.857591   119.136020   119.136020   \n",
       "min      16.139999    16.629999    14.980000    15.800000    15.800000   \n",
       "25%      34.342498    34.897501    33.587501    34.400002    34.400002   \n",
       "50%     213.035004   216.745002   208.870002   212.960007   212.960007   \n",
       "75%     266.450012   270.927513   262.102501   266.774994   266.774994   \n",
       "max     673.690002   786.140015   673.520020   780.000000   780.000000   \n",
       "\n",
       "             Volume  \n",
       "count  2.416000e+03  \n",
       "mean   5.572722e+06  \n",
       "std    4.987809e+06  \n",
       "min    1.185000e+05  \n",
       "25%    1.899275e+06  \n",
       "50%    4.578400e+06  \n",
       "75%    7.361150e+06  \n",
       "max    4.706500e+07  "
      ]
     },
     "execution_count": 7,
     "metadata": {},
     "output_type": "execute_result"
    }
   ],
   "source": [
    "df.describe()"
   ]
  },
  {
   "cell_type": "code",
   "execution_count": 8,
   "id": "098cd0e2",
   "metadata": {
    "execution": {
     "iopub.execute_input": "2022-11-12T00:21:29.806843Z",
     "iopub.status.busy": "2022-11-12T00:21:29.806211Z",
     "iopub.status.idle": "2022-11-12T00:21:31.003349Z",
     "shell.execute_reply": "2022-11-12T00:21:31.002144Z"
    },
    "papermill": {
     "duration": 1.209395,
     "end_time": "2022-11-12T00:21:31.006515",
     "exception": false,
     "start_time": "2022-11-12T00:21:29.797120",
     "status": "completed"
    },
    "tags": []
   },
   "outputs": [
    {
     "name": "stderr",
     "output_type": "stream",
     "text": [
      "/opt/conda/lib/python3.7/site-packages/ipykernel_launcher.py:3: UserWarning: To output multiple subplots, the figure containing the passed axes is being cleared\n",
      "  This is separate from the ipykernel package so we can avoid doing imports until\n"
     ]
    },
    {
     "data": {
      "image/png": "[encoded data removed]",
      "text/plain": [
       "<Figure size 720x720 with 9 Axes>"
      ]
     },
     "metadata": {
      "needs_background": "light"
     },
     "output_type": "display_data"
    }
   ],
   "source": [
    "fig = plt.figure(figsize = (10,10))\n",
    "ax = fig.gca()\n",
    "df.hist(ax = ax)\n",
    "plt.show()"
   ]
  },
  {
   "cell_type": "code",
   "execution_count": 9,
   "id": "7a7c7154",
   "metadata": {
    "execution": {
     "iopub.execute_input": "2022-11-12T00:21:31.026142Z",
     "iopub.status.busy": "2022-11-12T00:21:31.025734Z",
     "iopub.status.idle": "2022-11-12T00:21:32.497877Z",
     "shell.execute_reply": "2022-11-12T00:21:32.496540Z"
    },
    "papermill": {
     "duration": 1.485892,
     "end_time": "2022-11-12T00:21:32.501077",
     "exception": false,
     "start_time": "2022-11-12T00:21:31.015185",
     "status": "completed"
    },
    "tags": []
   },
   "outputs": [
    {
     "data": {
      "image/png": "[encoded data removed]",
      "text/plain": [
       "<Figure size 720x720 with 2 Axes>"
      ]
     },
     "metadata": {
      "needs_background": "light"
     },
     "output_type": "display_data"
    }
   ],
   "source": [
    "import seaborn as sns\n",
    "cor = df.corr()\n",
    "plt.figure(figsize=(10,10))\n",
    "ax = sns.heatmap(cor, vmax=1, square=True, annot=True, cmap='viridis')\n",
    "plt.title(\"Matriz de correlacion\")\n",
    "plt.show()"
   ]
  },
  {
   "cell_type": "code",
   "execution_count": 10,
   "id": "2e0cd08f",
   "metadata": {
    "execution": {
     "iopub.execute_input": "2022-11-12T00:21:32.529069Z",
     "iopub.status.busy": "2022-11-12T00:21:32.528680Z",
     "iopub.status.idle": "2022-11-12T00:21:32.538072Z",
     "shell.execute_reply": "2022-11-12T00:21:32.537246Z"
    },
    "papermill": {
     "duration": 0.026586,
     "end_time": "2022-11-12T00:21:32.543839",
     "exception": false,
     "start_time": "2022-11-12T00:21:32.517253",
     "status": "completed"
    },
    "tags": []
   },
   "outputs": [
    {
     "data": {
      "text/plain": [
       "Date         0\n",
       "Open         0\n",
       "High         0\n",
       "Low          0\n",
       "Close        0\n",
       "Adj Close    0\n",
       "Volume       0\n",
       "dtype: int64"
      ]
     },
     "execution_count": 10,
     "metadata": {},
     "output_type": "execute_result"
    }
   ],
   "source": [
    "df.isna().sum()"
   ]
  },
  {
   "cell_type": "markdown",
   "id": "f81e9e97",
   "metadata": {
    "papermill": {
     "duration": 0.013029,
     "end_time": "2022-11-12T00:21:32.570092",
     "exception": false,
     "start_time": "2022-11-12T00:21:32.557063",
     "status": "completed"
    },
    "tags": []
   },
   "source": [
    "# Analisis"
   ]
  },
  {
   "cell_type": "code",
   "execution_count": 11,
   "id": "bc9a59d0",
   "metadata": {
    "execution": {
     "iopub.execute_input": "2022-11-12T00:21:32.598938Z",
     "iopub.status.busy": "2022-11-12T00:21:32.598491Z",
     "iopub.status.idle": "2022-11-12T00:21:32.638627Z",
     "shell.execute_reply": "2022-11-12T00:21:32.637439Z"
    },
    "papermill": {
     "duration": 0.058244,
     "end_time": "2022-11-12T00:21:32.641614",
     "exception": false,
     "start_time": "2022-11-12T00:21:32.583370",
     "status": "completed"
    },
    "tags": []
   },
   "outputs": [
    {
     "data": {
      "text/html": [
       "<div>\n",
       "<style scoped>\n",
       "    .dataframe tbody tr th:only-of-type {\n",
       "        vertical-align: middle;\n",
       "    }\n",
       "\n",
       "    .dataframe tbody tr th {\n",
       "        vertical-align: top;\n",
       "    }\n",
       "\n",
       "    .dataframe thead th {\n",
       "        text-align: right;\n",
       "    }\n",
       "</style>\n",
       "<table border=\"1\" class=\"dataframe\">\n",
       "  <thead>\n",
       "    <tr style=\"text-align: right;\">\n",
       "      <th></th>\n",
       "      <th>Open</th>\n",
       "      <th>High</th>\n",
       "      <th>Low</th>\n",
       "      <th>Close</th>\n",
       "      <th>Adj Close</th>\n",
       "      <th>Volume</th>\n",
       "      <th>Years</th>\n",
       "      <th>Months</th>\n",
       "    </tr>\n",
       "    <tr>\n",
       "      <th>Date</th>\n",
       "      <th></th>\n",
       "      <th></th>\n",
       "      <th></th>\n",
       "      <th></th>\n",
       "      <th></th>\n",
       "      <th></th>\n",
       "      <th></th>\n",
       "      <th></th>\n",
       "    </tr>\n",
       "  </thead>\n",
       "  <tbody>\n",
       "    <tr>\n",
       "      <th>2010-06-29</th>\n",
       "      <td>19.000000</td>\n",
       "      <td>25.000000</td>\n",
       "      <td>17.540001</td>\n",
       "      <td>23.889999</td>\n",
       "      <td>23.889999</td>\n",
       "      <td>18766300</td>\n",
       "      <td>2010</td>\n",
       "      <td>6</td>\n",
       "    </tr>\n",
       "    <tr>\n",
       "      <th>2010-06-30</th>\n",
       "      <td>25.790001</td>\n",
       "      <td>30.420000</td>\n",
       "      <td>23.299999</td>\n",
       "      <td>23.830000</td>\n",
       "      <td>23.830000</td>\n",
       "      <td>17187100</td>\n",
       "      <td>2010</td>\n",
       "      <td>6</td>\n",
       "    </tr>\n",
       "    <tr>\n",
       "      <th>2010-07-01</th>\n",
       "      <td>25.000000</td>\n",
       "      <td>25.920000</td>\n",
       "      <td>20.270000</td>\n",
       "      <td>21.959999</td>\n",
       "      <td>21.959999</td>\n",
       "      <td>8218800</td>\n",
       "      <td>2010</td>\n",
       "      <td>7</td>\n",
       "    </tr>\n",
       "    <tr>\n",
       "      <th>2010-07-02</th>\n",
       "      <td>23.000000</td>\n",
       "      <td>23.100000</td>\n",
       "      <td>18.709999</td>\n",
       "      <td>19.200001</td>\n",
       "      <td>19.200001</td>\n",
       "      <td>5139800</td>\n",
       "      <td>2010</td>\n",
       "      <td>7</td>\n",
       "    </tr>\n",
       "    <tr>\n",
       "      <th>2010-07-06</th>\n",
       "      <td>20.000000</td>\n",
       "      <td>20.000000</td>\n",
       "      <td>15.830000</td>\n",
       "      <td>16.110001</td>\n",
       "      <td>16.110001</td>\n",
       "      <td>6866900</td>\n",
       "      <td>2010</td>\n",
       "      <td>7</td>\n",
       "    </tr>\n",
       "    <tr>\n",
       "      <th>...</th>\n",
       "      <td>...</td>\n",
       "      <td>...</td>\n",
       "      <td>...</td>\n",
       "      <td>...</td>\n",
       "      <td>...</td>\n",
       "      <td>...</td>\n",
       "      <td>...</td>\n",
       "      <td>...</td>\n",
       "    </tr>\n",
       "    <tr>\n",
       "      <th>2010-11-11</th>\n",
       "      <td>28.600000</td>\n",
       "      <td>29.100000</td>\n",
       "      <td>27.330000</td>\n",
       "      <td>28.040001</td>\n",
       "      <td>28.040001</td>\n",
       "      <td>1945300</td>\n",
       "      <td>2010</td>\n",
       "      <td>11</td>\n",
       "    </tr>\n",
       "    <tr>\n",
       "      <th>2010-11-12</th>\n",
       "      <td>28.250000</td>\n",
       "      <td>30.500000</td>\n",
       "      <td>28.070000</td>\n",
       "      <td>29.840000</td>\n",
       "      <td>29.840000</td>\n",
       "      <td>2729100</td>\n",
       "      <td>2010</td>\n",
       "      <td>11</td>\n",
       "    </tr>\n",
       "    <tr>\n",
       "      <th>2010-11-15</th>\n",
       "      <td>30.219999</td>\n",
       "      <td>32.939999</td>\n",
       "      <td>30.219999</td>\n",
       "      <td>30.799999</td>\n",
       "      <td>30.799999</td>\n",
       "      <td>2622900</td>\n",
       "      <td>2010</td>\n",
       "      <td>11</td>\n",
       "    </tr>\n",
       "    <tr>\n",
       "      <th>2010-11-16</th>\n",
       "      <td>31.000000</td>\n",
       "      <td>31.400000</td>\n",
       "      <td>28.420000</td>\n",
       "      <td>29.670000</td>\n",
       "      <td>29.670000</td>\n",
       "      <td>1347600</td>\n",
       "      <td>2010</td>\n",
       "      <td>11</td>\n",
       "    </tr>\n",
       "    <tr>\n",
       "      <th>2010-11-17</th>\n",
       "      <td>30.200001</td>\n",
       "      <td>30.750000</td>\n",
       "      <td>28.610001</td>\n",
       "      <td>29.490000</td>\n",
       "      <td>29.490000</td>\n",
       "      <td>750000</td>\n",
       "      <td>2010</td>\n",
       "      <td>11</td>\n",
       "    </tr>\n",
       "  </tbody>\n",
       "</table>\n",
       "<p>100 rows × 8 columns</p>\n",
       "</div>"
      ],
      "text/plain": [
       "                 Open       High        Low      Close  Adj Close    Volume  \\\n",
       "Date                                                                          \n",
       "2010-06-29  19.000000  25.000000  17.540001  23.889999  23.889999  18766300   \n",
       "2010-06-30  25.790001  30.420000  23.299999  23.830000  23.830000  17187100   \n",
       "2010-07-01  25.000000  25.920000  20.270000  21.959999  21.959999   8218800   \n",
       "2010-07-02  23.000000  23.100000  18.709999  19.200001  19.200001   5139800   \n",
       "2010-07-06  20.000000  20.000000  15.830000  16.110001  16.110001   6866900   \n",
       "...               ...        ...        ...        ...        ...       ...   \n",
       "2010-11-11  28.600000  29.100000  27.330000  28.040001  28.040001   1945300   \n",
       "2010-11-12  28.250000  30.500000  28.070000  29.840000  29.840000   2729100   \n",
       "2010-11-15  30.219999  32.939999  30.219999  30.799999  30.799999   2622900   \n",
       "2010-11-16  31.000000  31.400000  28.420000  29.670000  29.670000   1347600   \n",
       "2010-11-17  30.200001  30.750000  28.610001  29.490000  29.490000    750000   \n",
       "\n",
       "            Years  Months  \n",
       "Date                       \n",
       "2010-06-29   2010       6  \n",
       "2010-06-30   2010       6  \n",
       "2010-07-01   2010       7  \n",
       "2010-07-02   2010       7  \n",
       "2010-07-06   2010       7  \n",
       "...           ...     ...  \n",
       "2010-11-11   2010      11  \n",
       "2010-11-12   2010      11  \n",
       "2010-11-15   2010      11  \n",
       "2010-11-16   2010      11  \n",
       "2010-11-17   2010      11  \n",
       "\n",
       "[100 rows x 8 columns]"
      ]
     },
     "execution_count": 11,
     "metadata": {},
     "output_type": "execute_result"
    }
   ],
   "source": [
    "stock['Years'] = pd.DatetimeIndex(stock.index).year\n",
    "stock['Months'] = pd.DatetimeIndex(stock.index).month\n",
    "stock.head(100)"
   ]
  },
  {
   "cell_type": "code",
   "execution_count": 12,
   "id": "eb3584f3",
   "metadata": {
    "execution": {
     "iopub.execute_input": "2022-11-12T00:21:32.671571Z",
     "iopub.status.busy": "2022-11-12T00:21:32.670880Z",
     "iopub.status.idle": "2022-11-12T00:21:32.944309Z",
     "shell.execute_reply": "2022-11-12T00:21:32.943144Z"
    },
    "papermill": {
     "duration": 0.291306,
     "end_time": "2022-11-12T00:21:32.946919",
     "exception": false,
     "start_time": "2022-11-12T00:21:32.655613",
     "status": "completed"
    },
    "tags": []
   },
   "outputs": [
    {
     "data": {
      "text/plain": [
       "<AxesSubplot:xlabel='Years', ylabel='Close'>"
      ]
     },
     "execution_count": 12,
     "metadata": {},
     "output_type": "execute_result"
    },
    {
     "data": {
      "image/png": "[encoded data removed]",
      "text/plain": [
       "<Figure size 432x288 with 1 Axes>"
      ]
     },
     "metadata": {
      "needs_background": "light"
     },
     "output_type": "display_data"
    }
   ],
   "source": [
    "sns.histplot(x = stock['Years'], y = stock['Close'],)"
   ]
  },
  {
   "cell_type": "code",
   "execution_count": 13,
   "id": "599b81ec",
   "metadata": {
    "execution": {
     "iopub.execute_input": "2022-11-12T00:21:32.969627Z",
     "iopub.status.busy": "2022-11-12T00:21:32.969207Z",
     "iopub.status.idle": "2022-11-12T00:21:32.994164Z",
     "shell.execute_reply": "2022-11-12T00:21:32.993341Z"
    },
    "papermill": {
     "duration": 0.040367,
     "end_time": "2022-11-12T00:21:32.997850",
     "exception": false,
     "start_time": "2022-11-12T00:21:32.957483",
     "status": "completed"
    },
    "tags": []
   },
   "outputs": [
    {
     "data": {
      "text/html": [
       "<div>\n",
       "<style scoped>\n",
       "    .dataframe tbody tr th:only-of-type {\n",
       "        vertical-align: middle;\n",
       "    }\n",
       "\n",
       "    .dataframe tbody tr th {\n",
       "        vertical-align: top;\n",
       "    }\n",
       "\n",
       "    .dataframe thead th {\n",
       "        text-align: right;\n",
       "    }\n",
       "</style>\n",
       "<table border=\"1\" class=\"dataframe\">\n",
       "  <thead>\n",
       "    <tr style=\"text-align: right;\">\n",
       "      <th></th>\n",
       "      <th>Open</th>\n",
       "      <th>High</th>\n",
       "      <th>Low</th>\n",
       "      <th>Close</th>\n",
       "      <th>Adj Close</th>\n",
       "      <th>Volume</th>\n",
       "      <th>Years</th>\n",
       "      <th>Months</th>\n",
       "    </tr>\n",
       "    <tr>\n",
       "      <th>Date</th>\n",
       "      <th></th>\n",
       "      <th></th>\n",
       "      <th></th>\n",
       "      <th></th>\n",
       "      <th></th>\n",
       "      <th></th>\n",
       "      <th></th>\n",
       "      <th></th>\n",
       "    </tr>\n",
       "  </thead>\n",
       "  <tbody>\n",
       "    <tr>\n",
       "      <th>2019-01-02</th>\n",
       "      <td>306.100006</td>\n",
       "      <td>315.130005</td>\n",
       "      <td>298.799988</td>\n",
       "      <td>310.119995</td>\n",
       "      <td>310.119995</td>\n",
       "      <td>11658600</td>\n",
       "      <td>2019</td>\n",
       "      <td>1</td>\n",
       "    </tr>\n",
       "    <tr>\n",
       "      <th>2019-01-03</th>\n",
       "      <td>307.000000</td>\n",
       "      <td>309.399994</td>\n",
       "      <td>297.380005</td>\n",
       "      <td>300.359985</td>\n",
       "      <td>300.359985</td>\n",
       "      <td>6965200</td>\n",
       "      <td>2019</td>\n",
       "      <td>1</td>\n",
       "    </tr>\n",
       "    <tr>\n",
       "      <th>2019-01-04</th>\n",
       "      <td>306.000000</td>\n",
       "      <td>318.000000</td>\n",
       "      <td>302.730011</td>\n",
       "      <td>317.690002</td>\n",
       "      <td>317.690002</td>\n",
       "      <td>7394100</td>\n",
       "      <td>2019</td>\n",
       "      <td>1</td>\n",
       "    </tr>\n",
       "    <tr>\n",
       "      <th>2019-01-07</th>\n",
       "      <td>321.720001</td>\n",
       "      <td>336.739990</td>\n",
       "      <td>317.750000</td>\n",
       "      <td>334.959991</td>\n",
       "      <td>334.959991</td>\n",
       "      <td>7551200</td>\n",
       "      <td>2019</td>\n",
       "      <td>1</td>\n",
       "    </tr>\n",
       "    <tr>\n",
       "      <th>2019-01-08</th>\n",
       "      <td>341.959991</td>\n",
       "      <td>344.010010</td>\n",
       "      <td>327.019989</td>\n",
       "      <td>335.350006</td>\n",
       "      <td>335.350006</td>\n",
       "      <td>7008500</td>\n",
       "      <td>2019</td>\n",
       "      <td>1</td>\n",
       "    </tr>\n",
       "    <tr>\n",
       "      <th>...</th>\n",
       "      <td>...</td>\n",
       "      <td>...</td>\n",
       "      <td>...</td>\n",
       "      <td>...</td>\n",
       "      <td>...</td>\n",
       "      <td>...</td>\n",
       "      <td>...</td>\n",
       "      <td>...</td>\n",
       "    </tr>\n",
       "    <tr>\n",
       "      <th>2019-12-24</th>\n",
       "      <td>418.359985</td>\n",
       "      <td>425.470001</td>\n",
       "      <td>412.690002</td>\n",
       "      <td>425.250000</td>\n",
       "      <td>425.250000</td>\n",
       "      <td>8054700</td>\n",
       "      <td>2019</td>\n",
       "      <td>12</td>\n",
       "    </tr>\n",
       "    <tr>\n",
       "      <th>2019-12-26</th>\n",
       "      <td>427.910004</td>\n",
       "      <td>433.480011</td>\n",
       "      <td>426.350006</td>\n",
       "      <td>430.940002</td>\n",
       "      <td>430.940002</td>\n",
       "      <td>10633900</td>\n",
       "      <td>2019</td>\n",
       "      <td>12</td>\n",
       "    </tr>\n",
       "    <tr>\n",
       "      <th>2019-12-27</th>\n",
       "      <td>435.000000</td>\n",
       "      <td>435.309998</td>\n",
       "      <td>426.109985</td>\n",
       "      <td>430.380005</td>\n",
       "      <td>430.380005</td>\n",
       "      <td>9945700</td>\n",
       "      <td>2019</td>\n",
       "      <td>12</td>\n",
       "    </tr>\n",
       "    <tr>\n",
       "      <th>2019-12-30</th>\n",
       "      <td>428.790009</td>\n",
       "      <td>429.000000</td>\n",
       "      <td>409.260010</td>\n",
       "      <td>414.700012</td>\n",
       "      <td>414.700012</td>\n",
       "      <td>12586400</td>\n",
       "      <td>2019</td>\n",
       "      <td>12</td>\n",
       "    </tr>\n",
       "    <tr>\n",
       "      <th>2019-12-31</th>\n",
       "      <td>405.000000</td>\n",
       "      <td>421.290009</td>\n",
       "      <td>402.079987</td>\n",
       "      <td>418.329987</td>\n",
       "      <td>418.329987</td>\n",
       "      <td>10285700</td>\n",
       "      <td>2019</td>\n",
       "      <td>12</td>\n",
       "    </tr>\n",
       "  </tbody>\n",
       "</table>\n",
       "<p>252 rows × 8 columns</p>\n",
       "</div>"
      ],
      "text/plain": [
       "                  Open        High         Low       Close   Adj Close  \\\n",
       "Date                                                                     \n",
       "2019-01-02  306.100006  315.130005  298.799988  310.119995  310.119995   \n",
       "2019-01-03  307.000000  309.399994  297.380005  300.359985  300.359985   \n",
       "2019-01-04  306.000000  318.000000  302.730011  317.690002  317.690002   \n",
       "2019-01-07  321.720001  336.739990  317.750000  334.959991  334.959991   \n",
       "2019-01-08  341.959991  344.010010  327.019989  335.350006  335.350006   \n",
       "...                ...         ...         ...         ...         ...   \n",
       "2019-12-24  418.359985  425.470001  412.690002  425.250000  425.250000   \n",
       "2019-12-26  427.910004  433.480011  426.350006  430.940002  430.940002   \n",
       "2019-12-27  435.000000  435.309998  426.109985  430.380005  430.380005   \n",
       "2019-12-30  428.790009  429.000000  409.260010  414.700012  414.700012   \n",
       "2019-12-31  405.000000  421.290009  402.079987  418.329987  418.329987   \n",
       "\n",
       "              Volume  Years  Months  \n",
       "Date                                 \n",
       "2019-01-02  11658600   2019       1  \n",
       "2019-01-03   6965200   2019       1  \n",
       "2019-01-04   7394100   2019       1  \n",
       "2019-01-07   7551200   2019       1  \n",
       "2019-01-08   7008500   2019       1  \n",
       "...              ...    ...     ...  \n",
       "2019-12-24   8054700   2019      12  \n",
       "2019-12-26  10633900   2019      12  \n",
       "2019-12-27   9945700   2019      12  \n",
       "2019-12-30  12586400   2019      12  \n",
       "2019-12-31  10285700   2019      12  \n",
       "\n",
       "[252 rows x 8 columns]"
      ]
     },
     "execution_count": 13,
     "metadata": {},
     "output_type": "execute_result"
    }
   ],
   "source": [
    "MostExpensive = stock[stock['Years'] == 2019]\n",
    "MostExpensive"
   ]
  },
  {
   "cell_type": "code",
   "execution_count": 14,
   "id": "34527218",
   "metadata": {
    "execution": {
     "iopub.execute_input": "2022-11-12T00:21:33.023941Z",
     "iopub.status.busy": "2022-11-12T00:21:33.023214Z",
     "iopub.status.idle": "2022-11-12T00:21:33.253473Z",
     "shell.execute_reply": "2022-11-12T00:21:33.252423Z"
    },
    "papermill": {
     "duration": 0.244525,
     "end_time": "2022-11-12T00:21:33.256168",
     "exception": false,
     "start_time": "2022-11-12T00:21:33.011643",
     "status": "completed"
    },
    "tags": []
   },
   "outputs": [
    {
     "data": {
      "text/plain": [
       "<AxesSubplot:xlabel='Months', ylabel='Close'>"
      ]
     },
     "execution_count": 14,
     "metadata": {},
     "output_type": "execute_result"
    },
    {
     "data": {
      "image/png": "[encoded data removed]",
      "text/plain": [
       "<Figure size 432x288 with 1 Axes>"
      ]
     },
     "metadata": {
      "needs_background": "light"
     },
     "output_type": "display_data"
    }
   ],
   "source": [
    "sns.histplot(x = MostExpensive['Months'], y = MostExpensive['Close'],)"
   ]
  },
  {
   "cell_type": "markdown",
   "id": "051f4831",
   "metadata": {
    "papermill": {
     "duration": 0.009542,
     "end_time": "2022-11-12T00:21:33.275777",
     "exception": false,
     "start_time": "2022-11-12T00:21:33.266235",
     "status": "completed"
    },
    "tags": []
   },
   "source": [
    "# Preprocesamiento"
   ]
  },
  {
   "cell_type": "code",
   "execution_count": 15,
   "id": "4b7f6a4d",
   "metadata": {
    "execution": {
     "iopub.execute_input": "2022-11-12T00:21:33.297499Z",
     "iopub.status.busy": "2022-11-12T00:21:33.297056Z",
     "iopub.status.idle": "2022-11-12T00:21:33.303448Z",
     "shell.execute_reply": "2022-11-12T00:21:33.302268Z"
    },
    "papermill": {
     "duration": 0.020146,
     "end_time": "2022-11-12T00:21:33.305826",
     "exception": false,
     "start_time": "2022-11-12T00:21:33.285680",
     "status": "completed"
    },
    "tags": []
   },
   "outputs": [],
   "source": [
    "df.drop(columns = [\"Volume\", 'Date'], inplace = True)"
   ]
  },
  {
   "cell_type": "code",
   "execution_count": 16,
   "id": "270a4311",
   "metadata": {
    "execution": {
     "iopub.execute_input": "2022-11-12T00:21:33.328422Z",
     "iopub.status.busy": "2022-11-12T00:21:33.327659Z",
     "iopub.status.idle": "2022-11-12T00:21:33.335247Z",
     "shell.execute_reply": "2022-11-12T00:21:33.333970Z"
    },
    "papermill": {
     "duration": 0.021711,
     "end_time": "2022-11-12T00:21:33.337621",
     "exception": false,
     "start_time": "2022-11-12T00:21:33.315910",
     "status": "completed"
    },
    "tags": []
   },
   "outputs": [
    {
     "data": {
      "text/plain": [
       "(2416, 5)"
      ]
     },
     "execution_count": 16,
     "metadata": {},
     "output_type": "execute_result"
    }
   ],
   "source": [
    "df.shape"
   ]
  },
  {
   "cell_type": "code",
   "execution_count": 17,
   "id": "f310fc9e",
   "metadata": {
    "execution": {
     "iopub.execute_input": "2022-11-12T00:21:33.361379Z",
     "iopub.status.busy": "2022-11-12T00:21:33.360608Z",
     "iopub.status.idle": "2022-11-12T00:21:33.366117Z",
     "shell.execute_reply": "2022-11-12T00:21:33.365206Z"
    },
    "papermill": {
     "duration": 0.020364,
     "end_time": "2022-11-12T00:21:33.368494",
     "exception": false,
     "start_time": "2022-11-12T00:21:33.348130",
     "status": "completed"
    },
    "tags": []
   },
   "outputs": [],
   "source": [
    "array = df.values\n",
    "X = array[:, 0:4]\n",
    "Y = array[:, 4]"
   ]
  },
  {
   "cell_type": "code",
   "execution_count": 18,
   "id": "67306503",
   "metadata": {
    "execution": {
     "iopub.execute_input": "2022-11-12T00:21:33.391238Z",
     "iopub.status.busy": "2022-11-12T00:21:33.390465Z",
     "iopub.status.idle": "2022-11-12T00:21:33.562487Z",
     "shell.execute_reply": "2022-11-12T00:21:33.561075Z"
    },
    "papermill": {
     "duration": 0.186872,
     "end_time": "2022-11-12T00:21:33.565499",
     "exception": false,
     "start_time": "2022-11-12T00:21:33.378627",
     "status": "completed"
    },
    "tags": []
   },
   "outputs": [],
   "source": [
    "from sklearn.preprocessing import StandardScaler\n",
    "\n",
    "sta = StandardScaler()\n",
    "rescaledX = sta.fit_transform(X)\n",
    "\n",
    "X_reg = rescaledX\n",
    "Y_reg = Y\n"
   ]
  },
  {
   "cell_type": "markdown",
   "id": "3a0c3448",
   "metadata": {
    "papermill": {
     "duration": 0.010101,
     "end_time": "2022-11-12T00:21:33.586354",
     "exception": false,
     "start_time": "2022-11-12T00:21:33.576253",
     "status": "completed"
    },
    "tags": []
   },
   "source": [
    "# Modelado"
   ]
  },
  {
   "cell_type": "code",
   "execution_count": 19,
   "id": "c2b6e820",
   "metadata": {
    "execution": {
     "iopub.execute_input": "2022-11-12T00:21:33.609737Z",
     "iopub.status.busy": "2022-11-12T00:21:33.609283Z",
     "iopub.status.idle": "2022-11-12T00:21:36.846446Z",
     "shell.execute_reply": "2022-11-12T00:21:36.844910Z"
    },
    "papermill": {
     "duration": 3.252027,
     "end_time": "2022-11-12T00:21:36.849367",
     "exception": false,
     "start_time": "2022-11-12T00:21:33.597340",
     "status": "completed"
    },
    "tags": []
   },
   "outputs": [
    {
     "name": "stdout",
     "output_type": "stream",
     "text": [
      "ElN: -622.75 (1,313.38)\n",
      "LS: 96.28 (5.98)\n",
      "LR: 100.00 (0.00)\n",
      "RiG: 99.85 (0.11)\n",
      "KR: 92.43 (10.54)\n"
     ]
    },
    {
     "name": "stderr",
     "output_type": "stream",
     "text": [
      "/opt/conda/lib/python3.7/site-packages/sklearn/linear_model/_coordinate_descent.py:648: ConvergenceWarning: Objective did not converge. You might want to increase the number of iterations, check the scale of the features or consider increasing regularisation. Duality gap: 4.318e+03, tolerance: 2.721e+03\n",
      "  coef_, l1_reg, l2_reg, X, y, max_iter, tol, rng, random, positive\n",
      "/opt/conda/lib/python3.7/site-packages/sklearn/linear_model/_coordinate_descent.py:648: ConvergenceWarning: Objective did not converge. You might want to increase the number of iterations, check the scale of the features or consider increasing regularisation. Duality gap: 4.423e+03, tolerance: 2.766e+03\n",
      "  coef_, l1_reg, l2_reg, X, y, max_iter, tol, rng, random, positive\n",
      "/opt/conda/lib/python3.7/site-packages/sklearn/linear_model/_coordinate_descent.py:648: ConvergenceWarning: Objective did not converge. You might want to increase the number of iterations, check the scale of the features or consider increasing regularisation. Duality gap: 4.526e+03, tolerance: 2.812e+03\n",
      "  coef_, l1_reg, l2_reg, X, y, max_iter, tol, rng, random, positive\n",
      "/opt/conda/lib/python3.7/site-packages/sklearn/linear_model/_coordinate_descent.py:648: ConvergenceWarning: Objective did not converge. You might want to increase the number of iterations, check the scale of the features or consider increasing regularisation. Duality gap: 5.632e+03, tolerance: 3.371e+03\n",
      "  coef_, l1_reg, l2_reg, X, y, max_iter, tol, rng, random, positive\n",
      "/opt/conda/lib/python3.7/site-packages/sklearn/linear_model/_coordinate_descent.py:648: ConvergenceWarning: Objective did not converge. You might want to increase the number of iterations, check the scale of the features or consider increasing regularisation. Duality gap: 5.654e+03, tolerance: 3.375e+03\n",
      "  coef_, l1_reg, l2_reg, X, y, max_iter, tol, rng, random, positive\n",
      "/opt/conda/lib/python3.7/site-packages/sklearn/linear_model/_coordinate_descent.py:648: ConvergenceWarning: Objective did not converge. You might want to increase the number of iterations, check the scale of the features or consider increasing regularisation. Duality gap: 5.564e+03, tolerance: 3.357e+03\n",
      "  coef_, l1_reg, l2_reg, X, y, max_iter, tol, rng, random, positive\n",
      "/opt/conda/lib/python3.7/site-packages/sklearn/linear_model/_coordinate_descent.py:648: ConvergenceWarning: Objective did not converge. You might want to increase the number of iterations, check the scale of the features or consider increasing regularisation. Duality gap: 5.659e+03, tolerance: 3.381e+03\n",
      "  coef_, l1_reg, l2_reg, X, y, max_iter, tol, rng, random, positive\n",
      "/opt/conda/lib/python3.7/site-packages/sklearn/linear_model/_coordinate_descent.py:648: ConvergenceWarning: Objective did not converge. You might want to increase the number of iterations, check the scale of the features or consider increasing regularisation. Duality gap: 4.772e+03, tolerance: 2.844e+03\n",
      "  coef_, l1_reg, l2_reg, X, y, max_iter, tol, rng, random, positive\n",
      "/opt/conda/lib/python3.7/site-packages/sklearn/linear_model/_coordinate_descent.py:648: ConvergenceWarning: Objective did not converge. You might want to increase the number of iterations, check the scale of the features or consider increasing regularisation. Duality gap: 5.098e+03, tolerance: 2.976e+03\n",
      "  coef_, l1_reg, l2_reg, X, y, max_iter, tol, rng, random, positive\n",
      "/opt/conda/lib/python3.7/site-packages/sklearn/linear_model/_coordinate_descent.py:648: ConvergenceWarning: Objective did not converge. You might want to increase the number of iterations, check the scale of the features or consider increasing regularisation. Duality gap: 4.941e+03, tolerance: 2.904e+03\n",
      "  coef_, l1_reg, l2_reg, X, y, max_iter, tol, rng, random, positive\n"
     ]
    },
    {
     "name": "stdout",
     "output_type": "stream",
     "text": [
      "SVR: 32.87 (108.19)\n"
     ]
    }
   ],
   "source": [
    "from sklearn.linear_model import ElasticNet\n",
    "from sklearn.linear_model import Lasso\n",
    "from sklearn.linear_model import LinearRegression\n",
    "from sklearn.linear_model import Ridge\n",
    "from sklearn.tree import DecisionTreeRegressor\n",
    "from sklearn.neighbors import KNeighborsRegressor\n",
    "from sklearn.svm import SVR\n",
    "from sklearn.model_selection import train_test_split\n",
    "from sklearn.model_selection import cross_val_score\n",
    "from sklearn.model_selection import KFold\n",
    "from sklearn.metrics import r2_score\n",
    "\n",
    "\n",
    "models = []\n",
    "models.append(('ElN', ElasticNet()))\n",
    "models.append(('LS', Lasso()))\n",
    "models.append(('LR', LinearRegression()))\n",
    "models.append(('RiG', Ridge()))\n",
    "models.append(('KR', KNeighborsRegressor()))\n",
    "models.append(('SVR',  SVR()))\n",
    "\n",
    "results = []\n",
    "names = []\n",
    "scoring = 'accuracy'\n",
    "for name, model in models:\n",
    "    kfold = KFold(n_splits=10)\n",
    "    result =  cross_val_score(model, X_reg, Y_reg,  cv=kfold)\n",
    "    results.append(result)\n",
    "    names.append(name)\n",
    "    print(f\"{name}: {result.mean()*100.0:,.2f} ({result.std()*100.0:,.2f})\")"
   ]
  },
  {
   "cell_type": "code",
   "execution_count": 20,
   "id": "62a54a64",
   "metadata": {
    "execution": {
     "iopub.execute_input": "2022-11-12T00:21:36.872663Z",
     "iopub.status.busy": "2022-11-12T00:21:36.872242Z",
     "iopub.status.idle": "2022-11-12T00:21:36.882409Z",
     "shell.execute_reply": "2022-11-12T00:21:36.881013Z"
    },
    "papermill": {
     "duration": 0.024787,
     "end_time": "2022-11-12T00:21:36.884970",
     "exception": false,
     "start_time": "2022-11-12T00:21:36.860183",
     "status": "completed"
    },
    "tags": []
   },
   "outputs": [
    {
     "name": "stdout",
     "output_type": "stream",
     "text": [
      "Score: 1.0\n"
     ]
    }
   ],
   "source": [
    "X_train, X_test, y_train, y_test = train_test_split(X_reg, Y_reg, test_size=0.80 )\n",
    "svc = LinearRegression()\n",
    "svc.fit(X_train, y_train)\n",
    "predicted = svc.predict(X_test)\n",
    "score =r2_score(y_test, predicted)\n",
    "print(f\"Score: {score}\")"
   ]
  },
  {
   "cell_type": "markdown",
   "id": "dea1af18",
   "metadata": {
    "papermill": {
     "duration": 0.01009,
     "end_time": "2022-11-12T00:21:36.905782",
     "exception": false,
     "start_time": "2022-11-12T00:21:36.895692",
     "status": "completed"
    },
    "tags": []
   },
   "source": [
    "# Prediccion "
   ]
  },
  {
   "cell_type": "code",
   "execution_count": 21,
   "id": "d62c3808",
   "metadata": {
    "execution": {
     "iopub.execute_input": "2022-11-12T00:21:36.928423Z",
     "iopub.status.busy": "2022-11-12T00:21:36.927969Z",
     "iopub.status.idle": "2022-11-12T00:21:36.933906Z",
     "shell.execute_reply": "2022-11-12T00:21:36.932802Z"
    },
    "papermill": {
     "duration": 0.019917,
     "end_time": "2022-11-12T00:21:36.936227",
     "exception": false,
     "start_time": "2022-11-12T00:21:36.916310",
     "status": "completed"
    },
    "tags": []
   },
   "outputs": [
    {
     "name": "stdout",
     "output_type": "stream",
     "text": [
      "[308.899994 232.559998 296.73999  ...  24.950001 222.600006 325.829987]\n"
     ]
    }
   ],
   "source": [
    "print(predicted)"
   ]
  },
  {
   "cell_type": "code",
   "execution_count": 22,
   "id": "77cabed0",
   "metadata": {
    "execution": {
     "iopub.execute_input": "2022-11-12T00:21:36.959111Z",
     "iopub.status.busy": "2022-11-12T00:21:36.958652Z",
     "iopub.status.idle": "2022-11-12T00:21:36.971715Z",
     "shell.execute_reply": "2022-11-12T00:21:36.970251Z"
    },
    "papermill": {
     "duration": 0.027287,
     "end_time": "2022-11-12T00:21:36.973959",
     "exception": false,
     "start_time": "2022-11-12T00:21:36.946672",
     "status": "completed"
    },
    "tags": []
   },
   "outputs": [
    {
     "data": {
      "text/html": [
       "<div>\n",
       "<style scoped>\n",
       "    .dataframe tbody tr th:only-of-type {\n",
       "        vertical-align: middle;\n",
       "    }\n",
       "\n",
       "    .dataframe tbody tr th {\n",
       "        vertical-align: top;\n",
       "    }\n",
       "\n",
       "    .dataframe thead th {\n",
       "        text-align: right;\n",
       "    }\n",
       "</style>\n",
       "<table border=\"1\" class=\"dataframe\">\n",
       "  <thead>\n",
       "    <tr style=\"text-align: right;\">\n",
       "      <th></th>\n",
       "      <th>Predicted</th>\n",
       "    </tr>\n",
       "  </thead>\n",
       "  <tbody>\n",
       "    <tr>\n",
       "      <th>0</th>\n",
       "      <td>308.899994</td>\n",
       "    </tr>\n",
       "    <tr>\n",
       "      <th>1</th>\n",
       "      <td>232.559998</td>\n",
       "    </tr>\n",
       "    <tr>\n",
       "      <th>2</th>\n",
       "      <td>296.739990</td>\n",
       "    </tr>\n",
       "    <tr>\n",
       "      <th>3</th>\n",
       "      <td>18.320000</td>\n",
       "    </tr>\n",
       "    <tr>\n",
       "      <th>4</th>\n",
       "      <td>152.460007</td>\n",
       "    </tr>\n",
       "    <tr>\n",
       "      <th>5</th>\n",
       "      <td>307.190002</td>\n",
       "    </tr>\n",
       "    <tr>\n",
       "      <th>6</th>\n",
       "      <td>310.549988</td>\n",
       "    </tr>\n",
       "    <tr>\n",
       "      <th>7</th>\n",
       "      <td>351.559998</td>\n",
       "    </tr>\n",
       "    <tr>\n",
       "      <th>8</th>\n",
       "      <td>206.660004</td>\n",
       "    </tr>\n",
       "    <tr>\n",
       "      <th>9</th>\n",
       "      <td>208.720001</td>\n",
       "    </tr>\n",
       "    <tr>\n",
       "      <th>10</th>\n",
       "      <td>190.410004</td>\n",
       "    </tr>\n",
       "    <tr>\n",
       "      <th>11</th>\n",
       "      <td>248.169998</td>\n",
       "    </tr>\n",
       "    <tr>\n",
       "      <th>12</th>\n",
       "      <td>183.770004</td>\n",
       "    </tr>\n",
       "    <tr>\n",
       "      <th>13</th>\n",
       "      <td>332.100006</td>\n",
       "    </tr>\n",
       "    <tr>\n",
       "      <th>14</th>\n",
       "      <td>309.579987</td>\n",
       "    </tr>\n",
       "    <tr>\n",
       "      <th>15</th>\n",
       "      <td>169.000000</td>\n",
       "    </tr>\n",
       "    <tr>\n",
       "      <th>16</th>\n",
       "      <td>249.449997</td>\n",
       "    </tr>\n",
       "    <tr>\n",
       "      <th>17</th>\n",
       "      <td>27.320000</td>\n",
       "    </tr>\n",
       "    <tr>\n",
       "      <th>18</th>\n",
       "      <td>30.059999</td>\n",
       "    </tr>\n",
       "    <tr>\n",
       "      <th>19</th>\n",
       "      <td>32.470001</td>\n",
       "    </tr>\n",
       "  </tbody>\n",
       "</table>\n",
       "</div>"
      ],
      "text/plain": [
       "     Predicted\n",
       "0   308.899994\n",
       "1   232.559998\n",
       "2   296.739990\n",
       "3    18.320000\n",
       "4   152.460007\n",
       "5   307.190002\n",
       "6   310.549988\n",
       "7   351.559998\n",
       "8   206.660004\n",
       "9   208.720001\n",
       "10  190.410004\n",
       "11  248.169998\n",
       "12  183.770004\n",
       "13  332.100006\n",
       "14  309.579987\n",
       "15  169.000000\n",
       "16  249.449997\n",
       "17   27.320000\n",
       "18   30.059999\n",
       "19   32.470001"
      ]
     },
     "execution_count": 22,
     "metadata": {},
     "output_type": "execute_result"
    }
   ],
   "source": [
    "df2 = pd.DataFrame({'Predicted': predicted})\n",
    "df2.head(20)"
   ]
  },
  {
   "cell_type": "code",
   "execution_count": 23,
   "id": "99132cca",
   "metadata": {
    "execution": {
     "iopub.execute_input": "2022-11-12T00:21:36.997291Z",
     "iopub.status.busy": "2022-11-12T00:21:36.996837Z",
     "iopub.status.idle": "2022-11-12T00:21:37.339310Z",
     "shell.execute_reply": "2022-11-12T00:21:37.337947Z"
    },
    "papermill": {
     "duration": 0.357,
     "end_time": "2022-11-12T00:21:37.341940",
     "exception": false,
     "start_time": "2022-11-12T00:21:36.984940",
     "status": "completed"
    },
    "tags": []
   },
   "outputs": [
    {
     "data": {
      "text/plain": [
       "<AxesSubplot:ylabel='Predicted'>"
      ]
     },
     "execution_count": 23,
     "metadata": {},
     "output_type": "execute_result"
    },
    {
     "data": {
      "image/png": "[encoded data removed]",
      "text/plain": [
       "<Figure size 432x288 with 1 Axes>"
      ]
     },
     "metadata": {
      "needs_background": "light"
     },
     "output_type": "display_data"
    }
   ],
   "source": [
    "sns.lineplot(data=df2['Predicted'])"
   ]
  }
 ],
 "metadata": {
  "kernelspec": {
   "display_name": "Python 3",
   "language": "python",
   "name": "python3"
  },
  "language_info": {
   "codemirror_mode": {
    "name": "ipython",
    "version": 3
   },
   "file_extension": ".py",
   "mimetype": "text/x-python",
   "name": "python",
   "nbconvert_exporter": "python",
   "pygments_lexer": "ipython3",
   "version": "3.7.12"
  },
  "papermill": {
   "default_parameters": {},
   "duration": 17.791735,
   "end_time": "2022-11-12T00:21:38.175232",
   "environment_variables": {},
   "exception": null,
   "input_path": "__notebook__.ipynb",
   "output_path": "__notebook__.ipynb",
   "parameters": {},
   "start_time": "2022-11-12T00:21:20.383497",
   "version": "2.3.4"
  }
 },
 "nbformat": 4,
 "nbformat_minor": 5
}
