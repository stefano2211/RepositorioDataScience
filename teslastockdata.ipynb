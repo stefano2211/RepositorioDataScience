{
 "cells": [
  {
   "cell_type": "code",
   "execution_count": 1,
   "id": "c4bd75e8",
   "metadata": {
    "_cell_guid": "b1076dfc-b9ad-4769-8c92-a6c4dae69d19",
    "_uuid": "8f2839f25d086af736a60e9eeb907d3b93b6e0e5",
    "execution": {
     "iopub.execute_input": "2022-10-21T00:03:52.470472Z",
     "iopub.status.busy": "2022-10-21T00:03:52.469797Z",
     "iopub.status.idle": "2022-10-21T00:03:52.488840Z",
     "shell.execute_reply": "2022-10-21T00:03:52.487418Z"
    },
    "papermill": {
     "duration": 0.032659,
     "end_time": "2022-10-21T00:03:52.492664",
     "exception": false,
     "start_time": "2022-10-21T00:03:52.460005",
     "status": "completed"
    },
    "tags": []
   },
   "outputs": [
    {
     "name": "stdout",
     "output_type": "stream",
     "text": [
      "/kaggle/input/tesla-stock-data-from-2010-to-2020/TSLA.csv\n"
     ]
    }
   ],
   "source": [
    "# This Python 3 environment comes with many helpful analytics libraries installed\n",
    "# It is defined by the kaggle/python Docker image: https://github.com/kaggle/docker-python\n",
    "# For example, here's several helpful packages to load\n",
    "\n",
    "import numpy as np # linear algebra\n",
    "import pandas as pd # data processing, CSV file I/O (e.g. pd.read_csv)\n",
    "import matplotlib.pyplot as plt\n",
    "\n",
    "# Input data files are available in the read-only \"../input/\" directory\n",
    "# For example, running this (by clicking run or pressing Shift+Enter) will list all files under the input directory\n",
    "\n",
    "import os\n",
    "for dirname, _, filenames in os.walk('/kaggle/input'):\n",
    "    for filename in filenames:\n",
    "        print(os.path.join(dirname, filename))\n",
    "\n",
    "# You can write up to 20GB to the current directory (/kaggle/working/) that gets preserved as output when you create a version using \"Save & Run All\" \n",
    "# You can also write temporary files to /kaggle/temp/, but they won't be saved outside of the current session"
   ]
  },
  {
   "cell_type": "code",
   "execution_count": 2,
   "id": "4c51c3bb",
   "metadata": {
    "execution": {
     "iopub.execute_input": "2022-10-21T00:03:52.510315Z",
     "iopub.status.busy": "2022-10-21T00:03:52.509904Z",
     "iopub.status.idle": "2022-10-21T00:03:52.534031Z",
     "shell.execute_reply": "2022-10-21T00:03:52.533052Z"
    },
    "papermill": {
     "duration": 0.036281,
     "end_time": "2022-10-21T00:03:52.537119",
     "exception": false,
     "start_time": "2022-10-21T00:03:52.500838",
     "status": "completed"
    },
    "tags": []
   },
   "outputs": [],
   "source": [
    "dataframe = pd.read_csv('../input/tesla-stock-data-from-2010-to-2020/TSLA.csv')\n",
    "df = dataframe"
   ]
  },
  {
   "cell_type": "code",
   "execution_count": 3,
   "id": "0c75eeff",
   "metadata": {
    "execution": {
     "iopub.execute_input": "2022-10-21T00:03:52.552484Z",
     "iopub.status.busy": "2022-10-21T00:03:52.551996Z",
     "iopub.status.idle": "2022-10-21T00:03:52.587427Z",
     "shell.execute_reply": "2022-10-21T00:03:52.585986Z"
    },
    "papermill": {
     "duration": 0.046262,
     "end_time": "2022-10-21T00:03:52.590258",
     "exception": false,
     "start_time": "2022-10-21T00:03:52.543996",
     "status": "completed"
    },
    "tags": []
   },
   "outputs": [
    {
     "data": {
      "text/html": [
       "<div>\n",
       "<style scoped>\n",
       "    .dataframe tbody tr th:only-of-type {\n",
       "        vertical-align: middle;\n",
       "    }\n",
       "\n",
       "    .dataframe tbody tr th {\n",
       "        vertical-align: top;\n",
       "    }\n",
       "\n",
       "    .dataframe thead th {\n",
       "        text-align: right;\n",
       "    }\n",
       "</style>\n",
       "<table border=\"1\" class=\"dataframe\">\n",
       "  <thead>\n",
       "    <tr style=\"text-align: right;\">\n",
       "      <th></th>\n",
       "      <th>Date</th>\n",
       "      <th>Open</th>\n",
       "      <th>High</th>\n",
       "      <th>Low</th>\n",
       "      <th>Close</th>\n",
       "      <th>Adj Close</th>\n",
       "      <th>Volume</th>\n",
       "    </tr>\n",
       "  </thead>\n",
       "  <tbody>\n",
       "    <tr>\n",
       "      <th>0</th>\n",
       "      <td>2010-06-29</td>\n",
       "      <td>19.000000</td>\n",
       "      <td>25.00</td>\n",
       "      <td>17.540001</td>\n",
       "      <td>23.889999</td>\n",
       "      <td>23.889999</td>\n",
       "      <td>18766300</td>\n",
       "    </tr>\n",
       "    <tr>\n",
       "      <th>1</th>\n",
       "      <td>2010-06-30</td>\n",
       "      <td>25.790001</td>\n",
       "      <td>30.42</td>\n",
       "      <td>23.299999</td>\n",
       "      <td>23.830000</td>\n",
       "      <td>23.830000</td>\n",
       "      <td>17187100</td>\n",
       "    </tr>\n",
       "    <tr>\n",
       "      <th>2</th>\n",
       "      <td>2010-07-01</td>\n",
       "      <td>25.000000</td>\n",
       "      <td>25.92</td>\n",
       "      <td>20.270000</td>\n",
       "      <td>21.959999</td>\n",
       "      <td>21.959999</td>\n",
       "      <td>8218800</td>\n",
       "    </tr>\n",
       "    <tr>\n",
       "      <th>3</th>\n",
       "      <td>2010-07-02</td>\n",
       "      <td>23.000000</td>\n",
       "      <td>23.10</td>\n",
       "      <td>18.709999</td>\n",
       "      <td>19.200001</td>\n",
       "      <td>19.200001</td>\n",
       "      <td>5139800</td>\n",
       "    </tr>\n",
       "    <tr>\n",
       "      <th>4</th>\n",
       "      <td>2010-07-06</td>\n",
       "      <td>20.000000</td>\n",
       "      <td>20.00</td>\n",
       "      <td>15.830000</td>\n",
       "      <td>16.110001</td>\n",
       "      <td>16.110001</td>\n",
       "      <td>6866900</td>\n",
       "    </tr>\n",
       "  </tbody>\n",
       "</table>\n",
       "</div>"
      ],
      "text/plain": [
       "         Date       Open   High        Low      Close  Adj Close    Volume\n",
       "0  2010-06-29  19.000000  25.00  17.540001  23.889999  23.889999  18766300\n",
       "1  2010-06-30  25.790001  30.42  23.299999  23.830000  23.830000  17187100\n",
       "2  2010-07-01  25.000000  25.92  20.270000  21.959999  21.959999   8218800\n",
       "3  2010-07-02  23.000000  23.10  18.709999  19.200001  19.200001   5139800\n",
       "4  2010-07-06  20.000000  20.00  15.830000  16.110001  16.110001   6866900"
      ]
     },
     "execution_count": 3,
     "metadata": {},
     "output_type": "execute_result"
    }
   ],
   "source": [
    "df.head()"
   ]
  },
  {
   "cell_type": "code",
   "execution_count": 4,
   "id": "68d18504",
   "metadata": {
    "execution": {
     "iopub.execute_input": "2022-10-21T00:03:52.606049Z",
     "iopub.status.busy": "2022-10-21T00:03:52.605627Z",
     "iopub.status.idle": "2022-10-21T00:03:52.620523Z",
     "shell.execute_reply": "2022-10-21T00:03:52.618772Z"
    },
    "papermill": {
     "duration": 0.026589,
     "end_time": "2022-10-21T00:03:52.623901",
     "exception": false,
     "start_time": "2022-10-21T00:03:52.597312",
     "status": "completed"
    },
    "tags": []
   },
   "outputs": [],
   "source": [
    "df[\"Date\"] = pd.to_datetime(df['Date'])"
   ]
  },
  {
   "cell_type": "code",
   "execution_count": 5,
   "id": "0d184fb2",
   "metadata": {
    "execution": {
     "iopub.execute_input": "2022-10-21T00:03:52.641409Z",
     "iopub.status.busy": "2022-10-21T00:03:52.640902Z",
     "iopub.status.idle": "2022-10-21T00:03:52.665738Z",
     "shell.execute_reply": "2022-10-21T00:03:52.664351Z"
    },
    "papermill": {
     "duration": 0.037718,
     "end_time": "2022-10-21T00:03:52.668950",
     "exception": false,
     "start_time": "2022-10-21T00:03:52.631232",
     "status": "completed"
    },
    "tags": []
   },
   "outputs": [
    {
     "name": "stdout",
     "output_type": "stream",
     "text": [
      "<class 'pandas.core.frame.DataFrame'>\n",
      "RangeIndex: 2416 entries, 0 to 2415\n",
      "Data columns (total 7 columns):\n",
      " #   Column     Non-Null Count  Dtype         \n",
      "---  ------     --------------  -----         \n",
      " 0   Date       2416 non-null   datetime64[ns]\n",
      " 1   Open       2416 non-null   float64       \n",
      " 2   High       2416 non-null   float64       \n",
      " 3   Low        2416 non-null   float64       \n",
      " 4   Close      2416 non-null   float64       \n",
      " 5   Adj Close  2416 non-null   float64       \n",
      " 6   Volume     2416 non-null   int64         \n",
      "dtypes: datetime64[ns](1), float64(5), int64(1)\n",
      "memory usage: 132.2 KB\n"
     ]
    }
   ],
   "source": [
    "df.info()"
   ]
  },
  {
   "cell_type": "code",
   "execution_count": 6,
   "id": "76bf9128",
   "metadata": {
    "execution": {
     "iopub.execute_input": "2022-10-21T00:03:52.686655Z",
     "iopub.status.busy": "2022-10-21T00:03:52.686102Z",
     "iopub.status.idle": "2022-10-21T00:03:52.703396Z",
     "shell.execute_reply": "2022-10-21T00:03:52.702010Z"
    },
    "papermill": {
     "duration": 0.029241,
     "end_time": "2022-10-21T00:03:52.706354",
     "exception": false,
     "start_time": "2022-10-21T00:03:52.677113",
     "status": "completed"
    },
    "tags": []
   },
   "outputs": [
    {
     "data": {
      "text/html": [
       "<div>\n",
       "<style scoped>\n",
       "    .dataframe tbody tr th:only-of-type {\n",
       "        vertical-align: middle;\n",
       "    }\n",
       "\n",
       "    .dataframe tbody tr th {\n",
       "        vertical-align: top;\n",
       "    }\n",
       "\n",
       "    .dataframe thead th {\n",
       "        text-align: right;\n",
       "    }\n",
       "</style>\n",
       "<table border=\"1\" class=\"dataframe\">\n",
       "  <thead>\n",
       "    <tr style=\"text-align: right;\">\n",
       "      <th></th>\n",
       "      <th>Open</th>\n",
       "      <th>High</th>\n",
       "      <th>Low</th>\n",
       "      <th>Close</th>\n",
       "      <th>Adj Close</th>\n",
       "      <th>Volume</th>\n",
       "    </tr>\n",
       "    <tr>\n",
       "      <th>Date</th>\n",
       "      <th></th>\n",
       "      <th></th>\n",
       "      <th></th>\n",
       "      <th></th>\n",
       "      <th></th>\n",
       "      <th></th>\n",
       "    </tr>\n",
       "  </thead>\n",
       "  <tbody>\n",
       "    <tr>\n",
       "      <th>2020-01-28</th>\n",
       "      <td>568.489990</td>\n",
       "      <td>576.809998</td>\n",
       "      <td>558.080017</td>\n",
       "      <td>566.900024</td>\n",
       "      <td>566.900024</td>\n",
       "      <td>11788500</td>\n",
       "    </tr>\n",
       "    <tr>\n",
       "      <th>2020-01-29</th>\n",
       "      <td>575.690002</td>\n",
       "      <td>589.799988</td>\n",
       "      <td>567.429993</td>\n",
       "      <td>580.989990</td>\n",
       "      <td>580.989990</td>\n",
       "      <td>17801500</td>\n",
       "    </tr>\n",
       "    <tr>\n",
       "      <th>2020-01-30</th>\n",
       "      <td>632.419983</td>\n",
       "      <td>650.880005</td>\n",
       "      <td>618.000000</td>\n",
       "      <td>640.809998</td>\n",
       "      <td>640.809998</td>\n",
       "      <td>29005700</td>\n",
       "    </tr>\n",
       "    <tr>\n",
       "      <th>2020-01-31</th>\n",
       "      <td>640.000000</td>\n",
       "      <td>653.000000</td>\n",
       "      <td>632.520020</td>\n",
       "      <td>650.570007</td>\n",
       "      <td>650.570007</td>\n",
       "      <td>15719300</td>\n",
       "    </tr>\n",
       "    <tr>\n",
       "      <th>2020-02-03</th>\n",
       "      <td>673.690002</td>\n",
       "      <td>786.140015</td>\n",
       "      <td>673.520020</td>\n",
       "      <td>780.000000</td>\n",
       "      <td>780.000000</td>\n",
       "      <td>47065000</td>\n",
       "    </tr>\n",
       "  </tbody>\n",
       "</table>\n",
       "</div>"
      ],
      "text/plain": [
       "                  Open        High         Low       Close   Adj Close  \\\n",
       "Date                                                                     \n",
       "2020-01-28  568.489990  576.809998  558.080017  566.900024  566.900024   \n",
       "2020-01-29  575.690002  589.799988  567.429993  580.989990  580.989990   \n",
       "2020-01-30  632.419983  650.880005  618.000000  640.809998  640.809998   \n",
       "2020-01-31  640.000000  653.000000  632.520020  650.570007  650.570007   \n",
       "2020-02-03  673.690002  786.140015  673.520020  780.000000  780.000000   \n",
       "\n",
       "              Volume  \n",
       "Date                  \n",
       "2020-01-28  11788500  \n",
       "2020-01-29  17801500  \n",
       "2020-01-30  29005700  \n",
       "2020-01-31  15719300  \n",
       "2020-02-03  47065000  "
      ]
     },
     "execution_count": 6,
     "metadata": {},
     "output_type": "execute_result"
    }
   ],
   "source": [
    "stock = df.set_index('Date')\n",
    "stock.tail()"
   ]
  },
  {
   "cell_type": "code",
   "execution_count": 7,
   "id": "9a67a540",
   "metadata": {
    "execution": {
     "iopub.execute_input": "2022-10-21T00:03:52.724136Z",
     "iopub.status.busy": "2022-10-21T00:03:52.723626Z",
     "iopub.status.idle": "2022-10-21T00:03:52.768054Z",
     "shell.execute_reply": "2022-10-21T00:03:52.766364Z"
    },
    "papermill": {
     "duration": 0.057181,
     "end_time": "2022-10-21T00:03:52.771034",
     "exception": false,
     "start_time": "2022-10-21T00:03:52.713853",
     "status": "completed"
    },
    "tags": []
   },
   "outputs": [
    {
     "data": {
      "text/html": [
       "<div>\n",
       "<style scoped>\n",
       "    .dataframe tbody tr th:only-of-type {\n",
       "        vertical-align: middle;\n",
       "    }\n",
       "\n",
       "    .dataframe tbody tr th {\n",
       "        vertical-align: top;\n",
       "    }\n",
       "\n",
       "    .dataframe thead th {\n",
       "        text-align: right;\n",
       "    }\n",
       "</style>\n",
       "<table border=\"1\" class=\"dataframe\">\n",
       "  <thead>\n",
       "    <tr style=\"text-align: right;\">\n",
       "      <th></th>\n",
       "      <th>Open</th>\n",
       "      <th>High</th>\n",
       "      <th>Low</th>\n",
       "      <th>Close</th>\n",
       "      <th>Adj Close</th>\n",
       "      <th>Volume</th>\n",
       "    </tr>\n",
       "  </thead>\n",
       "  <tbody>\n",
       "    <tr>\n",
       "      <th>count</th>\n",
       "      <td>2416.000000</td>\n",
       "      <td>2416.000000</td>\n",
       "      <td>2416.000000</td>\n",
       "      <td>2416.000000</td>\n",
       "      <td>2416.000000</td>\n",
       "      <td>2.416000e+03</td>\n",
       "    </tr>\n",
       "    <tr>\n",
       "      <th>mean</th>\n",
       "      <td>186.271147</td>\n",
       "      <td>189.578224</td>\n",
       "      <td>182.916639</td>\n",
       "      <td>186.403651</td>\n",
       "      <td>186.403651</td>\n",
       "      <td>5.572722e+06</td>\n",
       "    </tr>\n",
       "    <tr>\n",
       "      <th>std</th>\n",
       "      <td>118.740163</td>\n",
       "      <td>120.892329</td>\n",
       "      <td>116.857591</td>\n",
       "      <td>119.136020</td>\n",
       "      <td>119.136020</td>\n",
       "      <td>4.987809e+06</td>\n",
       "    </tr>\n",
       "    <tr>\n",
       "      <th>min</th>\n",
       "      <td>16.139999</td>\n",
       "      <td>16.629999</td>\n",
       "      <td>14.980000</td>\n",
       "      <td>15.800000</td>\n",
       "      <td>15.800000</td>\n",
       "      <td>1.185000e+05</td>\n",
       "    </tr>\n",
       "    <tr>\n",
       "      <th>25%</th>\n",
       "      <td>34.342498</td>\n",
       "      <td>34.897501</td>\n",
       "      <td>33.587501</td>\n",
       "      <td>34.400002</td>\n",
       "      <td>34.400002</td>\n",
       "      <td>1.899275e+06</td>\n",
       "    </tr>\n",
       "    <tr>\n",
       "      <th>50%</th>\n",
       "      <td>213.035004</td>\n",
       "      <td>216.745002</td>\n",
       "      <td>208.870002</td>\n",
       "      <td>212.960007</td>\n",
       "      <td>212.960007</td>\n",
       "      <td>4.578400e+06</td>\n",
       "    </tr>\n",
       "    <tr>\n",
       "      <th>75%</th>\n",
       "      <td>266.450012</td>\n",
       "      <td>270.927513</td>\n",
       "      <td>262.102501</td>\n",
       "      <td>266.774994</td>\n",
       "      <td>266.774994</td>\n",
       "      <td>7.361150e+06</td>\n",
       "    </tr>\n",
       "    <tr>\n",
       "      <th>max</th>\n",
       "      <td>673.690002</td>\n",
       "      <td>786.140015</td>\n",
       "      <td>673.520020</td>\n",
       "      <td>780.000000</td>\n",
       "      <td>780.000000</td>\n",
       "      <td>4.706500e+07</td>\n",
       "    </tr>\n",
       "  </tbody>\n",
       "</table>\n",
       "</div>"
      ],
      "text/plain": [
       "              Open         High          Low        Close    Adj Close  \\\n",
       "count  2416.000000  2416.000000  2416.000000  2416.000000  2416.000000   \n",
       "mean    186.271147   189.578224   182.916639   186.403651   186.403651   \n",
       "std     118.740163   120.892329   116.857591   119.136020   119.136020   \n",
       "min      16.139999    16.629999    14.980000    15.800000    15.800000   \n",
       "25%      34.342498    34.897501    33.587501    34.400002    34.400002   \n",
       "50%     213.035004   216.745002   208.870002   212.960007   212.960007   \n",
       "75%     266.450012   270.927513   262.102501   266.774994   266.774994   \n",
       "max     673.690002   786.140015   673.520020   780.000000   780.000000   \n",
       "\n",
       "             Volume  \n",
       "count  2.416000e+03  \n",
       "mean   5.572722e+06  \n",
       "std    4.987809e+06  \n",
       "min    1.185000e+05  \n",
       "25%    1.899275e+06  \n",
       "50%    4.578400e+06  \n",
       "75%    7.361150e+06  \n",
       "max    4.706500e+07  "
      ]
     },
     "execution_count": 7,
     "metadata": {},
     "output_type": "execute_result"
    }
   ],
   "source": [
    "df.describe()"
   ]
  },
  {
   "cell_type": "code",
   "execution_count": 8,
   "id": "3ddb09bb",
   "metadata": {
    "execution": {
     "iopub.execute_input": "2022-10-21T00:03:52.788900Z",
     "iopub.status.busy": "2022-10-21T00:03:52.788409Z",
     "iopub.status.idle": "2022-10-21T00:03:54.047765Z",
     "shell.execute_reply": "2022-10-21T00:03:54.045935Z"
    },
    "papermill": {
     "duration": 1.274237,
     "end_time": "2022-10-21T00:03:54.052882",
     "exception": false,
     "start_time": "2022-10-21T00:03:52.778645",
     "status": "completed"
    },
    "tags": []
   },
   "outputs": [
    {
     "name": "stderr",
     "output_type": "stream",
     "text": [
      "/opt/conda/lib/python3.7/site-packages/ipykernel_launcher.py:3: UserWarning: To output multiple subplots, the figure containing the passed axes is being cleared\n",
      "  This is separate from the ipykernel package so we can avoid doing imports until\n"
     ]
    },
    {
     "data": {
      "image/png": "[encoded data removed]",
      "text/plain": [
       "<Figure size 720x720 with 9 Axes>"
      ]
     },
     "metadata": {
      "needs_background": "light"
     },
     "output_type": "display_data"
    }
   ],
   "source": [
    "fig = plt.figure(figsize = (10,10))\n",
    "ax = fig.gca()\n",
    "df.hist(ax = ax)\n",
    "plt.show()"
   ]
  },
  {
   "cell_type": "code",
   "execution_count": 9,
   "id": "80fc392c",
   "metadata": {
    "execution": {
     "iopub.execute_input": "2022-10-21T00:03:54.073945Z",
     "iopub.status.busy": "2022-10-21T00:03:54.073335Z",
     "iopub.status.idle": "2022-10-21T00:03:55.604242Z",
     "shell.execute_reply": "2022-10-21T00:03:55.602357Z"
    },
    "papermill": {
     "duration": 1.544714,
     "end_time": "2022-10-21T00:03:55.607501",
     "exception": false,
     "start_time": "2022-10-21T00:03:54.062787",
     "status": "completed"
    },
    "tags": []
   },
   "outputs": [
    {
     "data": {
      "image/png": "[encoded data removed]",
      "text/plain": [
       "<Figure size 720x720 with 2 Axes>"
      ]
     },
     "metadata": {
      "needs_background": "light"
     },
     "output_type": "display_data"
    }
   ],
   "source": [
    "import seaborn as sns\n",
    "cor = df.corr()\n",
    "plt.figure(figsize=(10,10))\n",
    "ax = sns.heatmap(cor, vmax=1, square=True, annot=True, cmap='viridis')\n",
    "plt.title(\"Matriz de correlacion\")\n",
    "plt.show()"
   ]
  },
  {
   "cell_type": "code",
   "execution_count": 10,
   "id": "40d3c0ec",
   "metadata": {
    "execution": {
     "iopub.execute_input": "2022-10-21T00:03:55.629242Z",
     "iopub.status.busy": "2022-10-21T00:03:55.628186Z",
     "iopub.status.idle": "2022-10-21T00:03:55.640444Z",
     "shell.execute_reply": "2022-10-21T00:03:55.639080Z"
    },
    "papermill": {
     "duration": 0.025975,
     "end_time": "2022-10-21T00:03:55.642971",
     "exception": false,
     "start_time": "2022-10-21T00:03:55.616996",
     "status": "completed"
    },
    "tags": []
   },
   "outputs": [
    {
     "data": {
      "text/plain": [
       "Date         0\n",
       "Open         0\n",
       "High         0\n",
       "Low          0\n",
       "Close        0\n",
       "Adj Close    0\n",
       "Volume       0\n",
       "dtype: int64"
      ]
     },
     "execution_count": 10,
     "metadata": {},
     "output_type": "execute_result"
    }
   ],
   "source": [
    "df.isna().sum()"
   ]
  },
  {
   "cell_type": "markdown",
   "id": "3e0af872",
   "metadata": {
    "papermill": {
     "duration": 0.009679,
     "end_time": "2022-10-21T00:03:55.661204",
     "exception": false,
     "start_time": "2022-10-21T00:03:55.651525",
     "status": "completed"
    },
    "tags": []
   },
   "source": [
    "# Analisis"
   ]
  },
  {
   "cell_type": "code",
   "execution_count": 11,
   "id": "ac9f4527",
   "metadata": {
    "execution": {
     "iopub.execute_input": "2022-10-21T00:03:55.680904Z",
     "iopub.status.busy": "2022-10-21T00:03:55.680495Z",
     "iopub.status.idle": "2022-10-21T00:03:55.714246Z",
     "shell.execute_reply": "2022-10-21T00:03:55.712497Z"
    },
    "papermill": {
     "duration": 0.046555,
     "end_time": "2022-10-21T00:03:55.716928",
     "exception": false,
     "start_time": "2022-10-21T00:03:55.670373",
     "status": "completed"
    },
    "tags": []
   },
   "outputs": [
    {
     "data": {
      "text/html": [
       "<div>\n",
       "<style scoped>\n",
       "    .dataframe tbody tr th:only-of-type {\n",
       "        vertical-align: middle;\n",
       "    }\n",
       "\n",
       "    .dataframe tbody tr th {\n",
       "        vertical-align: top;\n",
       "    }\n",
       "\n",
       "    .dataframe thead th {\n",
       "        text-align: right;\n",
       "    }\n",
       "</style>\n",
       "<table border=\"1\" class=\"dataframe\">\n",
       "  <thead>\n",
       "    <tr style=\"text-align: right;\">\n",
       "      <th></th>\n",
       "      <th>Open</th>\n",
       "      <th>High</th>\n",
       "      <th>Low</th>\n",
       "      <th>Close</th>\n",
       "      <th>Adj Close</th>\n",
       "      <th>Volume</th>\n",
       "      <th>Years</th>\n",
       "      <th>Months</th>\n",
       "    </tr>\n",
       "    <tr>\n",
       "      <th>Date</th>\n",
       "      <th></th>\n",
       "      <th></th>\n",
       "      <th></th>\n",
       "      <th></th>\n",
       "      <th></th>\n",
       "      <th></th>\n",
       "      <th></th>\n",
       "      <th></th>\n",
       "    </tr>\n",
       "  </thead>\n",
       "  <tbody>\n",
       "    <tr>\n",
       "      <th>2010-06-29</th>\n",
       "      <td>19.000000</td>\n",
       "      <td>25.000000</td>\n",
       "      <td>17.540001</td>\n",
       "      <td>23.889999</td>\n",
       "      <td>23.889999</td>\n",
       "      <td>18766300</td>\n",
       "      <td>2010</td>\n",
       "      <td>6</td>\n",
       "    </tr>\n",
       "    <tr>\n",
       "      <th>2010-06-30</th>\n",
       "      <td>25.790001</td>\n",
       "      <td>30.420000</td>\n",
       "      <td>23.299999</td>\n",
       "      <td>23.830000</td>\n",
       "      <td>23.830000</td>\n",
       "      <td>17187100</td>\n",
       "      <td>2010</td>\n",
       "      <td>6</td>\n",
       "    </tr>\n",
       "    <tr>\n",
       "      <th>2010-07-01</th>\n",
       "      <td>25.000000</td>\n",
       "      <td>25.920000</td>\n",
       "      <td>20.270000</td>\n",
       "      <td>21.959999</td>\n",
       "      <td>21.959999</td>\n",
       "      <td>8218800</td>\n",
       "      <td>2010</td>\n",
       "      <td>7</td>\n",
       "    </tr>\n",
       "    <tr>\n",
       "      <th>2010-07-02</th>\n",
       "      <td>23.000000</td>\n",
       "      <td>23.100000</td>\n",
       "      <td>18.709999</td>\n",
       "      <td>19.200001</td>\n",
       "      <td>19.200001</td>\n",
       "      <td>5139800</td>\n",
       "      <td>2010</td>\n",
       "      <td>7</td>\n",
       "    </tr>\n",
       "    <tr>\n",
       "      <th>2010-07-06</th>\n",
       "      <td>20.000000</td>\n",
       "      <td>20.000000</td>\n",
       "      <td>15.830000</td>\n",
       "      <td>16.110001</td>\n",
       "      <td>16.110001</td>\n",
       "      <td>6866900</td>\n",
       "      <td>2010</td>\n",
       "      <td>7</td>\n",
       "    </tr>\n",
       "    <tr>\n",
       "      <th>...</th>\n",
       "      <td>...</td>\n",
       "      <td>...</td>\n",
       "      <td>...</td>\n",
       "      <td>...</td>\n",
       "      <td>...</td>\n",
       "      <td>...</td>\n",
       "      <td>...</td>\n",
       "      <td>...</td>\n",
       "    </tr>\n",
       "    <tr>\n",
       "      <th>2010-11-11</th>\n",
       "      <td>28.600000</td>\n",
       "      <td>29.100000</td>\n",
       "      <td>27.330000</td>\n",
       "      <td>28.040001</td>\n",
       "      <td>28.040001</td>\n",
       "      <td>1945300</td>\n",
       "      <td>2010</td>\n",
       "      <td>11</td>\n",
       "    </tr>\n",
       "    <tr>\n",
       "      <th>2010-11-12</th>\n",
       "      <td>28.250000</td>\n",
       "      <td>30.500000</td>\n",
       "      <td>28.070000</td>\n",
       "      <td>29.840000</td>\n",
       "      <td>29.840000</td>\n",
       "      <td>2729100</td>\n",
       "      <td>2010</td>\n",
       "      <td>11</td>\n",
       "    </tr>\n",
       "    <tr>\n",
       "      <th>2010-11-15</th>\n",
       "      <td>30.219999</td>\n",
       "      <td>32.939999</td>\n",
       "      <td>30.219999</td>\n",
       "      <td>30.799999</td>\n",
       "      <td>30.799999</td>\n",
       "      <td>2622900</td>\n",
       "      <td>2010</td>\n",
       "      <td>11</td>\n",
       "    </tr>\n",
       "    <tr>\n",
       "      <th>2010-11-16</th>\n",
       "      <td>31.000000</td>\n",
       "      <td>31.400000</td>\n",
       "      <td>28.420000</td>\n",
       "      <td>29.670000</td>\n",
       "      <td>29.670000</td>\n",
       "      <td>1347600</td>\n",
       "      <td>2010</td>\n",
       "      <td>11</td>\n",
       "    </tr>\n",
       "    <tr>\n",
       "      <th>2010-11-17</th>\n",
       "      <td>30.200001</td>\n",
       "      <td>30.750000</td>\n",
       "      <td>28.610001</td>\n",
       "      <td>29.490000</td>\n",
       "      <td>29.490000</td>\n",
       "      <td>750000</td>\n",
       "      <td>2010</td>\n",
       "      <td>11</td>\n",
       "    </tr>\n",
       "  </tbody>\n",
       "</table>\n",
       "<p>100 rows × 8 columns</p>\n",
       "</div>"
      ],
      "text/plain": [
       "                 Open       High        Low      Close  Adj Close    Volume  \\\n",
       "Date                                                                          \n",
       "2010-06-29  19.000000  25.000000  17.540001  23.889999  23.889999  18766300   \n",
       "2010-06-30  25.790001  30.420000  23.299999  23.830000  23.830000  17187100   \n",
       "2010-07-01  25.000000  25.920000  20.270000  21.959999  21.959999   8218800   \n",
       "2010-07-02  23.000000  23.100000  18.709999  19.200001  19.200001   5139800   \n",
       "2010-07-06  20.000000  20.000000  15.830000  16.110001  16.110001   6866900   \n",
       "...               ...        ...        ...        ...        ...       ...   \n",
       "2010-11-11  28.600000  29.100000  27.330000  28.040001  28.040001   1945300   \n",
       "2010-11-12  28.250000  30.500000  28.070000  29.840000  29.840000   2729100   \n",
       "2010-11-15  30.219999  32.939999  30.219999  30.799999  30.799999   2622900   \n",
       "2010-11-16  31.000000  31.400000  28.420000  29.670000  29.670000   1347600   \n",
       "2010-11-17  30.200001  30.750000  28.610001  29.490000  29.490000    750000   \n",
       "\n",
       "            Years  Months  \n",
       "Date                       \n",
       "2010-06-29   2010       6  \n",
       "2010-06-30   2010       6  \n",
       "2010-07-01   2010       7  \n",
       "2010-07-02   2010       7  \n",
       "2010-07-06   2010       7  \n",
       "...           ...     ...  \n",
       "2010-11-11   2010      11  \n",
       "2010-11-12   2010      11  \n",
       "2010-11-15   2010      11  \n",
       "2010-11-16   2010      11  \n",
       "2010-11-17   2010      11  \n",
       "\n",
       "[100 rows x 8 columns]"
      ]
     },
     "execution_count": 11,
     "metadata": {},
     "output_type": "execute_result"
    }
   ],
   "source": [
    "stock['Years'] = pd.DatetimeIndex(stock.index).year\n",
    "stock['Months'] = pd.DatetimeIndex(stock.index).month\n",
    "stock.head(100)"
   ]
  },
  {
   "cell_type": "code",
   "execution_count": 12,
   "id": "67e444b3",
   "metadata": {
    "execution": {
     "iopub.execute_input": "2022-10-21T00:03:55.738894Z",
     "iopub.status.busy": "2022-10-21T00:03:55.738469Z",
     "iopub.status.idle": "2022-10-21T00:03:56.014125Z",
     "shell.execute_reply": "2022-10-21T00:03:56.012263Z"
    },
    "papermill": {
     "duration": 0.289433,
     "end_time": "2022-10-21T00:03:56.017352",
     "exception": false,
     "start_time": "2022-10-21T00:03:55.727919",
     "status": "completed"
    },
    "tags": []
   },
   "outputs": [
    {
     "data": {
      "text/plain": [
       "<AxesSubplot:xlabel='Years', ylabel='Close'>"
      ]
     },
     "execution_count": 12,
     "metadata": {},
     "output_type": "execute_result"
    },
    {
     "data": {
      "image/png": "[encoded data removed]",
      "text/plain": [
       "<Figure size 432x288 with 1 Axes>"
      ]
     },
     "metadata": {
      "needs_background": "light"
     },
     "output_type": "display_data"
    }
   ],
   "source": [
    "sns.histplot(x = stock['Years'], y = stock['Close'],)"
   ]
  },
  {
   "cell_type": "code",
   "execution_count": 13,
   "id": "7005a63f",
   "metadata": {
    "execution": {
     "iopub.execute_input": "2022-10-21T00:03:56.038870Z",
     "iopub.status.busy": "2022-10-21T00:03:56.038419Z",
     "iopub.status.idle": "2022-10-21T00:03:56.063945Z",
     "shell.execute_reply": "2022-10-21T00:03:56.062472Z"
    },
    "papermill": {
     "duration": 0.040217,
     "end_time": "2022-10-21T00:03:56.067467",
     "exception": false,
     "start_time": "2022-10-21T00:03:56.027250",
     "status": "completed"
    },
    "tags": []
   },
   "outputs": [
    {
     "data": {
      "text/html": [
       "<div>\n",
       "<style scoped>\n",
       "    .dataframe tbody tr th:only-of-type {\n",
       "        vertical-align: middle;\n",
       "    }\n",
       "\n",
       "    .dataframe tbody tr th {\n",
       "        vertical-align: top;\n",
       "    }\n",
       "\n",
       "    .dataframe thead th {\n",
       "        text-align: right;\n",
       "    }\n",
       "</style>\n",
       "<table border=\"1\" class=\"dataframe\">\n",
       "  <thead>\n",
       "    <tr style=\"text-align: right;\">\n",
       "      <th></th>\n",
       "      <th>Open</th>\n",
       "      <th>High</th>\n",
       "      <th>Low</th>\n",
       "      <th>Close</th>\n",
       "      <th>Adj Close</th>\n",
       "      <th>Volume</th>\n",
       "      <th>Years</th>\n",
       "      <th>Months</th>\n",
       "    </tr>\n",
       "    <tr>\n",
       "      <th>Date</th>\n",
       "      <th></th>\n",
       "      <th></th>\n",
       "      <th></th>\n",
       "      <th></th>\n",
       "      <th></th>\n",
       "      <th></th>\n",
       "      <th></th>\n",
       "      <th></th>\n",
       "    </tr>\n",
       "  </thead>\n",
       "  <tbody>\n",
       "    <tr>\n",
       "      <th>2019-01-02</th>\n",
       "      <td>306.100006</td>\n",
       "      <td>315.130005</td>\n",
       "      <td>298.799988</td>\n",
       "      <td>310.119995</td>\n",
       "      <td>310.119995</td>\n",
       "      <td>11658600</td>\n",
       "      <td>2019</td>\n",
       "      <td>1</td>\n",
       "    </tr>\n",
       "    <tr>\n",
       "      <th>2019-01-03</th>\n",
       "      <td>307.000000</td>\n",
       "      <td>309.399994</td>\n",
       "      <td>297.380005</td>\n",
       "      <td>300.359985</td>\n",
       "      <td>300.359985</td>\n",
       "      <td>6965200</td>\n",
       "      <td>2019</td>\n",
       "      <td>1</td>\n",
       "    </tr>\n",
       "    <tr>\n",
       "      <th>2019-01-04</th>\n",
       "      <td>306.000000</td>\n",
       "      <td>318.000000</td>\n",
       "      <td>302.730011</td>\n",
       "      <td>317.690002</td>\n",
       "      <td>317.690002</td>\n",
       "      <td>7394100</td>\n",
       "      <td>2019</td>\n",
       "      <td>1</td>\n",
       "    </tr>\n",
       "    <tr>\n",
       "      <th>2019-01-07</th>\n",
       "      <td>321.720001</td>\n",
       "      <td>336.739990</td>\n",
       "      <td>317.750000</td>\n",
       "      <td>334.959991</td>\n",
       "      <td>334.959991</td>\n",
       "      <td>7551200</td>\n",
       "      <td>2019</td>\n",
       "      <td>1</td>\n",
       "    </tr>\n",
       "    <tr>\n",
       "      <th>2019-01-08</th>\n",
       "      <td>341.959991</td>\n",
       "      <td>344.010010</td>\n",
       "      <td>327.019989</td>\n",
       "      <td>335.350006</td>\n",
       "      <td>335.350006</td>\n",
       "      <td>7008500</td>\n",
       "      <td>2019</td>\n",
       "      <td>1</td>\n",
       "    </tr>\n",
       "    <tr>\n",
       "      <th>...</th>\n",
       "      <td>...</td>\n",
       "      <td>...</td>\n",
       "      <td>...</td>\n",
       "      <td>...</td>\n",
       "      <td>...</td>\n",
       "      <td>...</td>\n",
       "      <td>...</td>\n",
       "      <td>...</td>\n",
       "    </tr>\n",
       "    <tr>\n",
       "      <th>2019-12-24</th>\n",
       "      <td>418.359985</td>\n",
       "      <td>425.470001</td>\n",
       "      <td>412.690002</td>\n",
       "      <td>425.250000</td>\n",
       "      <td>425.250000</td>\n",
       "      <td>8054700</td>\n",
       "      <td>2019</td>\n",
       "      <td>12</td>\n",
       "    </tr>\n",
       "    <tr>\n",
       "      <th>2019-12-26</th>\n",
       "      <td>427.910004</td>\n",
       "      <td>433.480011</td>\n",
       "      <td>426.350006</td>\n",
       "      <td>430.940002</td>\n",
       "      <td>430.940002</td>\n",
       "      <td>10633900</td>\n",
       "      <td>2019</td>\n",
       "      <td>12</td>\n",
       "    </tr>\n",
       "    <tr>\n",
       "      <th>2019-12-27</th>\n",
       "      <td>435.000000</td>\n",
       "      <td>435.309998</td>\n",
       "      <td>426.109985</td>\n",
       "      <td>430.380005</td>\n",
       "      <td>430.380005</td>\n",
       "      <td>9945700</td>\n",
       "      <td>2019</td>\n",
       "      <td>12</td>\n",
       "    </tr>\n",
       "    <tr>\n",
       "      <th>2019-12-30</th>\n",
       "      <td>428.790009</td>\n",
       "      <td>429.000000</td>\n",
       "      <td>409.260010</td>\n",
       "      <td>414.700012</td>\n",
       "      <td>414.700012</td>\n",
       "      <td>12586400</td>\n",
       "      <td>2019</td>\n",
       "      <td>12</td>\n",
       "    </tr>\n",
       "    <tr>\n",
       "      <th>2019-12-31</th>\n",
       "      <td>405.000000</td>\n",
       "      <td>421.290009</td>\n",
       "      <td>402.079987</td>\n",
       "      <td>418.329987</td>\n",
       "      <td>418.329987</td>\n",
       "      <td>10285700</td>\n",
       "      <td>2019</td>\n",
       "      <td>12</td>\n",
       "    </tr>\n",
       "  </tbody>\n",
       "</table>\n",
       "<p>252 rows × 8 columns</p>\n",
       "</div>"
      ],
      "text/plain": [
       "                  Open        High         Low       Close   Adj Close  \\\n",
       "Date                                                                     \n",
       "2019-01-02  306.100006  315.130005  298.799988  310.119995  310.119995   \n",
       "2019-01-03  307.000000  309.399994  297.380005  300.359985  300.359985   \n",
       "2019-01-04  306.000000  318.000000  302.730011  317.690002  317.690002   \n",
       "2019-01-07  321.720001  336.739990  317.750000  334.959991  334.959991   \n",
       "2019-01-08  341.959991  344.010010  327.019989  335.350006  335.350006   \n",
       "...                ...         ...         ...         ...         ...   \n",
       "2019-12-24  418.359985  425.470001  412.690002  425.250000  425.250000   \n",
       "2019-12-26  427.910004  433.480011  426.350006  430.940002  430.940002   \n",
       "2019-12-27  435.000000  435.309998  426.109985  430.380005  430.380005   \n",
       "2019-12-30  428.790009  429.000000  409.260010  414.700012  414.700012   \n",
       "2019-12-31  405.000000  421.290009  402.079987  418.329987  418.329987   \n",
       "\n",
       "              Volume  Years  Months  \n",
       "Date                                 \n",
       "2019-01-02  11658600   2019       1  \n",
       "2019-01-03   6965200   2019       1  \n",
       "2019-01-04   7394100   2019       1  \n",
       "2019-01-07   7551200   2019       1  \n",
       "2019-01-08   7008500   2019       1  \n",
       "...              ...    ...     ...  \n",
       "2019-12-24   8054700   2019      12  \n",
       "2019-12-26  10633900   2019      12  \n",
       "2019-12-27   9945700   2019      12  \n",
       "2019-12-30  12586400   2019      12  \n",
       "2019-12-31  10285700   2019      12  \n",
       "\n",
       "[252 rows x 8 columns]"
      ]
     },
     "execution_count": 13,
     "metadata": {},
     "output_type": "execute_result"
    }
   ],
   "source": [
    "MostExpensive = stock[stock['Years'] == 2019]\n",
    "MostExpensive"
   ]
  },
  {
   "cell_type": "code",
   "execution_count": 14,
   "id": "296387e0",
   "metadata": {
    "execution": {
     "iopub.execute_input": "2022-10-21T00:03:56.090852Z",
     "iopub.status.busy": "2022-10-21T00:03:56.090443Z",
     "iopub.status.idle": "2022-10-21T00:03:56.338292Z",
     "shell.execute_reply": "2022-10-21T00:03:56.337042Z"
    },
    "papermill": {
     "duration": 0.263211,
     "end_time": "2022-10-21T00:03:56.341211",
     "exception": false,
     "start_time": "2022-10-21T00:03:56.078000",
     "status": "completed"
    },
    "tags": []
   },
   "outputs": [
    {
     "data": {
      "text/plain": [
       "<AxesSubplot:xlabel='Months', ylabel='Close'>"
      ]
     },
     "execution_count": 14,
     "metadata": {},
     "output_type": "execute_result"
    },
    {
     "data": {
      "image/png": "[encoded data removed]",
      "text/plain": [
       "<Figure size 432x288 with 1 Axes>"
      ]
     },
     "metadata": {
      "needs_background": "light"
     },
     "output_type": "display_data"
    }
   ],
   "source": [
    "sns.histplot(x = MostExpensive['Months'], y = MostExpensive['Close'],)"
   ]
  },
  {
   "cell_type": "markdown",
   "id": "2f6219f9",
   "metadata": {
    "papermill": {
     "duration": 0.009598,
     "end_time": "2022-10-21T00:03:56.360785",
     "exception": false,
     "start_time": "2022-10-21T00:03:56.351187",
     "status": "completed"
    },
    "tags": []
   },
   "source": [
    "# Preprocesing"
   ]
  },
  {
   "cell_type": "code",
   "execution_count": 15,
   "id": "ebb8d02e",
   "metadata": {
    "execution": {
     "iopub.execute_input": "2022-10-21T00:03:56.382681Z",
     "iopub.status.busy": "2022-10-21T00:03:56.382214Z",
     "iopub.status.idle": "2022-10-21T00:03:56.389882Z",
     "shell.execute_reply": "2022-10-21T00:03:56.387733Z"
    },
    "papermill": {
     "duration": 0.022064,
     "end_time": "2022-10-21T00:03:56.392750",
     "exception": false,
     "start_time": "2022-10-21T00:03:56.370686",
     "status": "completed"
    },
    "tags": []
   },
   "outputs": [],
   "source": [
    "df.drop(columns = [\"Volume\", 'Date'], inplace = True)"
   ]
  },
  {
   "cell_type": "code",
   "execution_count": 16,
   "id": "c3776083",
   "metadata": {
    "execution": {
     "iopub.execute_input": "2022-10-21T00:03:56.416158Z",
     "iopub.status.busy": "2022-10-21T00:03:56.415077Z",
     "iopub.status.idle": "2022-10-21T00:03:56.422635Z",
     "shell.execute_reply": "2022-10-21T00:03:56.421221Z"
    },
    "papermill": {
     "duration": 0.022399,
     "end_time": "2022-10-21T00:03:56.425200",
     "exception": false,
     "start_time": "2022-10-21T00:03:56.402801",
     "status": "completed"
    },
    "tags": []
   },
   "outputs": [
    {
     "data": {
      "text/plain": [
       "(2416, 5)"
      ]
     },
     "execution_count": 16,
     "metadata": {},
     "output_type": "execute_result"
    }
   ],
   "source": [
    "df.shape"
   ]
  },
  {
   "cell_type": "code",
   "execution_count": 17,
   "id": "78fbd6d9",
   "metadata": {
    "execution": {
     "iopub.execute_input": "2022-10-21T00:03:56.447618Z",
     "iopub.status.busy": "2022-10-21T00:03:56.447157Z",
     "iopub.status.idle": "2022-10-21T00:03:56.453492Z",
     "shell.execute_reply": "2022-10-21T00:03:56.451561Z"
    },
    "papermill": {
     "duration": 0.021577,
     "end_time": "2022-10-21T00:03:56.457015",
     "exception": false,
     "start_time": "2022-10-21T00:03:56.435438",
     "status": "completed"
    },
    "tags": []
   },
   "outputs": [],
   "source": [
    "array = df.values\n",
    "X = array[:, 0:4]\n",
    "Y = array[:, 4]"
   ]
  },
  {
   "cell_type": "code",
   "execution_count": 18,
   "id": "1caa84f8",
   "metadata": {
    "execution": {
     "iopub.execute_input": "2022-10-21T00:03:56.481381Z",
     "iopub.status.busy": "2022-10-21T00:03:56.480914Z",
     "iopub.status.idle": "2022-10-21T00:03:56.648330Z",
     "shell.execute_reply": "2022-10-21T00:03:56.646648Z"
    },
    "papermill": {
     "duration": 0.182682,
     "end_time": "2022-10-21T00:03:56.651361",
     "exception": false,
     "start_time": "2022-10-21T00:03:56.468679",
     "status": "completed"
    },
    "tags": []
   },
   "outputs": [],
   "source": [
    "from sklearn.preprocessing import StandardScaler\n",
    "\n",
    "sta = StandardScaler()\n",
    "rescaledX = sta.fit_transform(X)\n",
    "\n",
    "X_reg = rescaledX\n",
    "Y_reg = Y\n"
   ]
  },
  {
   "cell_type": "markdown",
   "id": "7d077802",
   "metadata": {
    "papermill": {
     "duration": 0.01055,
     "end_time": "2022-10-21T00:03:56.672949",
     "exception": false,
     "start_time": "2022-10-21T00:03:56.662399",
     "status": "completed"
    },
    "tags": []
   },
   "source": [
    "# Modeling"
   ]
  },
  {
   "cell_type": "code",
   "execution_count": 19,
   "id": "420f1931",
   "metadata": {
    "execution": {
     "iopub.execute_input": "2022-10-21T00:03:56.697242Z",
     "iopub.status.busy": "2022-10-21T00:03:56.696723Z",
     "iopub.status.idle": "2022-10-21T00:04:00.040259Z",
     "shell.execute_reply": "2022-10-21T00:04:00.038566Z"
    },
    "papermill": {
     "duration": 3.360229,
     "end_time": "2022-10-21T00:04:00.043920",
     "exception": false,
     "start_time": "2022-10-21T00:03:56.683691",
     "status": "completed"
    },
    "tags": []
   },
   "outputs": [
    {
     "name": "stdout",
     "output_type": "stream",
     "text": [
      "ElN: -622.75 (1,313.38)\n",
      "LS: 96.28 (5.98)\n",
      "LR: 100.00 (0.00)\n",
      "RiG: 99.85 (0.11)\n",
      "KR: 92.43 (10.54)\n"
     ]
    },
    {
     "name": "stderr",
     "output_type": "stream",
     "text": [
      "/opt/conda/lib/python3.7/site-packages/sklearn/linear_model/_coordinate_descent.py:648: ConvergenceWarning: Objective did not converge. You might want to increase the number of iterations, check the scale of the features or consider increasing regularisation. Duality gap: 4.318e+03, tolerance: 2.721e+03\n",
      "  coef_, l1_reg, l2_reg, X, y, max_iter, tol, rng, random, positive\n",
      "/opt/conda/lib/python3.7/site-packages/sklearn/linear_model/_coordinate_descent.py:648: ConvergenceWarning: Objective did not converge. You might want to increase the number of iterations, check the scale of the features or consider increasing regularisation. Duality gap: 4.423e+03, tolerance: 2.766e+03\n",
      "  coef_, l1_reg, l2_reg, X, y, max_iter, tol, rng, random, positive\n",
      "/opt/conda/lib/python3.7/site-packages/sklearn/linear_model/_coordinate_descent.py:648: ConvergenceWarning: Objective did not converge. You might want to increase the number of iterations, check the scale of the features or consider increasing regularisation. Duality gap: 4.526e+03, tolerance: 2.812e+03\n",
      "  coef_, l1_reg, l2_reg, X, y, max_iter, tol, rng, random, positive\n",
      "/opt/conda/lib/python3.7/site-packages/sklearn/linear_model/_coordinate_descent.py:648: ConvergenceWarning: Objective did not converge. You might want to increase the number of iterations, check the scale of the features or consider increasing regularisation. Duality gap: 5.632e+03, tolerance: 3.371e+03\n",
      "  coef_, l1_reg, l2_reg, X, y, max_iter, tol, rng, random, positive\n",
      "/opt/conda/lib/python3.7/site-packages/sklearn/linear_model/_coordinate_descent.py:648: ConvergenceWarning: Objective did not converge. You might want to increase the number of iterations, check the scale of the features or consider increasing regularisation. Duality gap: 5.654e+03, tolerance: 3.375e+03\n",
      "  coef_, l1_reg, l2_reg, X, y, max_iter, tol, rng, random, positive\n",
      "/opt/conda/lib/python3.7/site-packages/sklearn/linear_model/_coordinate_descent.py:648: ConvergenceWarning: Objective did not converge. You might want to increase the number of iterations, check the scale of the features or consider increasing regularisation. Duality gap: 5.564e+03, tolerance: 3.357e+03\n",
      "  coef_, l1_reg, l2_reg, X, y, max_iter, tol, rng, random, positive\n",
      "/opt/conda/lib/python3.7/site-packages/sklearn/linear_model/_coordinate_descent.py:648: ConvergenceWarning: Objective did not converge. You might want to increase the number of iterations, check the scale of the features or consider increasing regularisation. Duality gap: 5.659e+03, tolerance: 3.381e+03\n",
      "  coef_, l1_reg, l2_reg, X, y, max_iter, tol, rng, random, positive\n",
      "/opt/conda/lib/python3.7/site-packages/sklearn/linear_model/_coordinate_descent.py:648: ConvergenceWarning: Objective did not converge. You might want to increase the number of iterations, check the scale of the features or consider increasing regularisation. Duality gap: 4.772e+03, tolerance: 2.844e+03\n",
      "  coef_, l1_reg, l2_reg, X, y, max_iter, tol, rng, random, positive\n",
      "/opt/conda/lib/python3.7/site-packages/sklearn/linear_model/_coordinate_descent.py:648: ConvergenceWarning: Objective did not converge. You might want to increase the number of iterations, check the scale of the features or consider increasing regularisation. Duality gap: 5.098e+03, tolerance: 2.976e+03\n",
      "  coef_, l1_reg, l2_reg, X, y, max_iter, tol, rng, random, positive\n",
      "/opt/conda/lib/python3.7/site-packages/sklearn/linear_model/_coordinate_descent.py:648: ConvergenceWarning: Objective did not converge. You might want to increase the number of iterations, check the scale of the features or consider increasing regularisation. Duality gap: 4.941e+03, tolerance: 2.904e+03\n",
      "  coef_, l1_reg, l2_reg, X, y, max_iter, tol, rng, random, positive\n"
     ]
    },
    {
     "name": "stdout",
     "output_type": "stream",
     "text": [
      "SVR: 32.87 (108.19)\n"
     ]
    }
   ],
   "source": [
    "from sklearn.linear_model import ElasticNet\n",
    "from sklearn.linear_model import Lasso\n",
    "from sklearn.linear_model import LinearRegression\n",
    "from sklearn.linear_model import Ridge\n",
    "from sklearn.tree import DecisionTreeRegressor\n",
    "from sklearn.neighbors import KNeighborsRegressor\n",
    "from sklearn.svm import SVR\n",
    "from sklearn.model_selection import train_test_split\n",
    "from sklearn.model_selection import cross_val_score\n",
    "from sklearn.model_selection import KFold\n",
    "from sklearn.metrics import r2_score\n",
    "\n",
    "\n",
    "models = []\n",
    "models.append(('ElN', ElasticNet()))\n",
    "models.append(('LS', Lasso()))\n",
    "models.append(('LR', LinearRegression()))\n",
    "models.append(('RiG', Ridge()))\n",
    "models.append(('KR', KNeighborsRegressor()))\n",
    "models.append(('SVR',  SVR()))\n",
    "\n",
    "results = []\n",
    "names = []\n",
    "scoring = 'accuracy'\n",
    "for name, model in models:\n",
    "    kfold = KFold(n_splits=10)\n",
    "    result =  cross_val_score(model, X_reg, Y_reg,  cv=kfold)\n",
    "    results.append(result)\n",
    "    names.append(name)\n",
    "    print(f\"{name}: {result.mean()*100.0:,.2f} ({result.std()*100.0:,.2f})\")"
   ]
  },
  {
   "cell_type": "code",
   "execution_count": 20,
   "id": "90ed15c2",
   "metadata": {
    "execution": {
     "iopub.execute_input": "2022-10-21T00:04:00.068444Z",
     "iopub.status.busy": "2022-10-21T00:04:00.067278Z",
     "iopub.status.idle": "2022-10-21T00:04:00.079057Z",
     "shell.execute_reply": "2022-10-21T00:04:00.077731Z"
    },
    "papermill": {
     "duration": 0.027719,
     "end_time": "2022-10-21T00:04:00.082489",
     "exception": false,
     "start_time": "2022-10-21T00:04:00.054770",
     "status": "completed"
    },
    "tags": []
   },
   "outputs": [
    {
     "name": "stdout",
     "output_type": "stream",
     "text": [
      "Score: 1.0\n"
     ]
    }
   ],
   "source": [
    "X_train, X_test, y_train, y_test = train_test_split(X_reg, Y_reg, test_size=0.80 )\n",
    "svc = LinearRegression()\n",
    "svc.fit(X_train, y_train)\n",
    "predicted = svc.predict(X_test)\n",
    "score =r2_score(y_test, predicted)\n",
    "print(f\"Score: {score}\")"
   ]
  },
  {
   "cell_type": "code",
   "execution_count": 21,
   "id": "b9cd377c",
   "metadata": {
    "execution": {
     "iopub.execute_input": "2022-10-21T00:04:00.106799Z",
     "iopub.status.busy": "2022-10-21T00:04:00.105624Z",
     "iopub.status.idle": "2022-10-21T00:04:00.114614Z",
     "shell.execute_reply": "2022-10-21T00:04:00.112678Z"
    },
    "papermill": {
     "duration": 0.024732,
     "end_time": "2022-10-21T00:04:00.118007",
     "exception": false,
     "start_time": "2022-10-21T00:04:00.093275",
     "status": "completed"
    },
    "tags": []
   },
   "outputs": [
    {
     "name": "stdout",
     "output_type": "stream",
     "text": [
      "[227.789993 301.019989  31.23     ... 245.869995 327.170013 207.770004]\n"
     ]
    }
   ],
   "source": [
    "print(predicted)"
   ]
  },
  {
   "cell_type": "code",
   "execution_count": 22,
   "id": "2d715e0a",
   "metadata": {
    "execution": {
     "iopub.execute_input": "2022-10-21T00:04:00.144639Z",
     "iopub.status.busy": "2022-10-21T00:04:00.144126Z",
     "iopub.status.idle": "2022-10-21T00:04:00.158070Z",
     "shell.execute_reply": "2022-10-21T00:04:00.156119Z"
    },
    "papermill": {
     "duration": 0.031562,
     "end_time": "2022-10-21T00:04:00.161906",
     "exception": false,
     "start_time": "2022-10-21T00:04:00.130344",
     "status": "completed"
    },
    "tags": []
   },
   "outputs": [
    {
     "data": {
      "text/html": [
       "<div>\n",
       "<style scoped>\n",
       "    .dataframe tbody tr th:only-of-type {\n",
       "        vertical-align: middle;\n",
       "    }\n",
       "\n",
       "    .dataframe tbody tr th {\n",
       "        vertical-align: top;\n",
       "    }\n",
       "\n",
       "    .dataframe thead th {\n",
       "        text-align: right;\n",
       "    }\n",
       "</style>\n",
       "<table border=\"1\" class=\"dataframe\">\n",
       "  <thead>\n",
       "    <tr style=\"text-align: right;\">\n",
       "      <th></th>\n",
       "      <th>Predicted</th>\n",
       "    </tr>\n",
       "  </thead>\n",
       "  <tbody>\n",
       "    <tr>\n",
       "      <th>0</th>\n",
       "      <td>227.789993</td>\n",
       "    </tr>\n",
       "    <tr>\n",
       "      <th>1</th>\n",
       "      <td>301.019989</td>\n",
       "    </tr>\n",
       "    <tr>\n",
       "      <th>2</th>\n",
       "      <td>31.230000</td>\n",
       "    </tr>\n",
       "    <tr>\n",
       "      <th>3</th>\n",
       "      <td>356.880005</td>\n",
       "    </tr>\n",
       "    <tr>\n",
       "      <th>4</th>\n",
       "      <td>356.410004</td>\n",
       "    </tr>\n",
       "    <tr>\n",
       "      <th>5</th>\n",
       "      <td>247.059998</td>\n",
       "    </tr>\n",
       "    <tr>\n",
       "      <th>6</th>\n",
       "      <td>211.559998</td>\n",
       "    </tr>\n",
       "    <tr>\n",
       "      <th>7</th>\n",
       "      <td>225.029999</td>\n",
       "    </tr>\n",
       "    <tr>\n",
       "      <th>8</th>\n",
       "      <td>28.549999</td>\n",
       "    </tr>\n",
       "    <tr>\n",
       "      <th>9</th>\n",
       "      <td>207.830002</td>\n",
       "    </tr>\n",
       "    <tr>\n",
       "      <th>10</th>\n",
       "      <td>318.959991</td>\n",
       "    </tr>\n",
       "    <tr>\n",
       "      <th>11</th>\n",
       "      <td>29.870001</td>\n",
       "    </tr>\n",
       "    <tr>\n",
       "      <th>12</th>\n",
       "      <td>183.929993</td>\n",
       "    </tr>\n",
       "    <tr>\n",
       "      <th>13</th>\n",
       "      <td>27.850000</td>\n",
       "    </tr>\n",
       "    <tr>\n",
       "      <th>14</th>\n",
       "      <td>38.419998</td>\n",
       "    </tr>\n",
       "    <tr>\n",
       "      <th>15</th>\n",
       "      <td>333.690002</td>\n",
       "    </tr>\n",
       "    <tr>\n",
       "      <th>16</th>\n",
       "      <td>262.010010</td>\n",
       "    </tr>\n",
       "    <tr>\n",
       "      <th>17</th>\n",
       "      <td>94.839996</td>\n",
       "    </tr>\n",
       "    <tr>\n",
       "      <th>18</th>\n",
       "      <td>169.660004</td>\n",
       "    </tr>\n",
       "    <tr>\n",
       "      <th>19</th>\n",
       "      <td>219.619995</td>\n",
       "    </tr>\n",
       "  </tbody>\n",
       "</table>\n",
       "</div>"
      ],
      "text/plain": [
       "     Predicted\n",
       "0   227.789993\n",
       "1   301.019989\n",
       "2    31.230000\n",
       "3   356.880005\n",
       "4   356.410004\n",
       "5   247.059998\n",
       "6   211.559998\n",
       "7   225.029999\n",
       "8    28.549999\n",
       "9   207.830002\n",
       "10  318.959991\n",
       "11   29.870001\n",
       "12  183.929993\n",
       "13   27.850000\n",
       "14   38.419998\n",
       "15  333.690002\n",
       "16  262.010010\n",
       "17   94.839996\n",
       "18  169.660004\n",
       "19  219.619995"
      ]
     },
     "execution_count": 22,
     "metadata": {},
     "output_type": "execute_result"
    }
   ],
   "source": [
    "df2 = pd.DataFrame({'Predicted': predicted})\n",
    "df2.head(20)"
   ]
  },
  {
   "cell_type": "code",
   "execution_count": 23,
   "id": "311b7c78",
   "metadata": {
    "execution": {
     "iopub.execute_input": "2022-10-21T00:04:00.186346Z",
     "iopub.status.busy": "2022-10-21T00:04:00.185828Z",
     "iopub.status.idle": "2022-10-21T00:04:00.564548Z",
     "shell.execute_reply": "2022-10-21T00:04:00.561805Z"
    },
    "papermill": {
     "duration": 0.39413,
     "end_time": "2022-10-21T00:04:00.567327",
     "exception": false,
     "start_time": "2022-10-21T00:04:00.173197",
     "status": "completed"
    },
    "tags": []
   },
   "outputs": [
    {
     "data": {
      "text/plain": [
       "<AxesSubplot:ylabel='Predicted'>"
      ]
     },
     "execution_count": 23,
     "metadata": {},
     "output_type": "execute_result"
    },
    {
     "data": {
      "image/png": "[encoded data removed]",
      "text/plain": [
       "<Figure size 432x288 with 1 Axes>"
      ]
     },
     "metadata": {
      "needs_background": "light"
     },
     "output_type": "display_data"
    }
   ],
   "source": [
    "sns.lineplot(data=df2['Predicted'])"
   ]
  }
 ],
 "metadata": {
  "kernelspec": {
   "display_name": "Python 3",
   "language": "python",
   "name": "python3"
  },
  "language_info": {
   "codemirror_mode": {
    "name": "ipython",
    "version": 3
   },
   "file_extension": ".py",
   "mimetype": "text/x-python",
   "name": "python",
   "nbconvert_exporter": "python",
   "pygments_lexer": "ipython3",
   "version": "3.7.12"
  },
  "papermill": {
   "default_parameters": {},
   "duration": 20.464825,
   "end_time": "2022-10-21T00:04:01.606036",
   "environment_variables": {},
   "exception": null,
   "input_path": "__notebook__.ipynb",
   "output_path": "__notebook__.ipynb",
   "parameters": {},
   "start_time": "2022-10-21T00:03:41.141211",
   "version": "2.3.4"
  }
 },
 "nbformat": 4,
 "nbformat_minor": 5
}
